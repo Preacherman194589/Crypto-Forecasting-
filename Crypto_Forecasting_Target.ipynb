{
 "cells": [
  {
   "cell_type": "code",
   "execution_count": 1,
   "id": "d065c4c4",
   "metadata": {},
   "outputs": [],
   "source": [
    "import xgboost as xgb\n",
    "import pandas as pd\n",
    "import numpy as np\n",
    "import matplotlib.pyplot as plt \n",
    "from xgboost import XGBRegressor\n",
    "from sklearn.preprocessing import StandardScaler\n",
    "from datetime import datetime\n",
    "from sklearn.model_selection import train_test_split\n",
    "from sklearn.model_selection import cross_val_score, RepeatedKFold\n",
    "from sklearn.metrics import mean_squared_error\n"
   ]
  },
  {
   "cell_type": "markdown",
   "id": "7428eef0",
   "metadata": {},
   "source": [
    "### Read in the data"
   ]
  },
  {
   "cell_type": "markdown",
   "id": "2cbb0135",
   "metadata": {},
   "source": [
    "- timestamp - A timestamp for the minute covered by the row.\n",
    "- Asset_ID - An ID code for the cryptoasset.\n",
    "- Count - The number of trades that took place this minute.\n",
    "- Open - The USD price at the beginning of the minute.\n",
    "- High - The highest USD price during the minute.\n",
    "- Low - The lowest USD price during the minute.\n",
    "- Close - The USD price at the end of the minute.\n",
    "- Volume - The number of cryptoasset units traded during the minute.\n",
    "- VWAP - The volume weighted average price for the minute.\n",
    "- Target - 15 minute residualized returns. "
   ]
  },
  {
   "cell_type": "code",
   "execution_count": 2,
   "id": "7997b0c7",
   "metadata": {},
   "outputs": [
    {
     "data": {
      "text/html": [
       "<div>\n",
       "<style scoped>\n",
       "    .dataframe tbody tr th:only-of-type {\n",
       "        vertical-align: middle;\n",
       "    }\n",
       "\n",
       "    .dataframe tbody tr th {\n",
       "        vertical-align: top;\n",
       "    }\n",
       "\n",
       "    .dataframe thead th {\n",
       "        text-align: right;\n",
       "    }\n",
       "</style>\n",
       "<table border=\"1\" class=\"dataframe\">\n",
       "  <thead>\n",
       "    <tr style=\"text-align: right;\">\n",
       "      <th></th>\n",
       "      <th>timestamp</th>\n",
       "      <th>Asset_ID</th>\n",
       "      <th>Count</th>\n",
       "      <th>Open</th>\n",
       "      <th>High</th>\n",
       "      <th>Low</th>\n",
       "      <th>Close</th>\n",
       "      <th>Volume</th>\n",
       "      <th>VWAP</th>\n",
       "      <th>Target</th>\n",
       "    </tr>\n",
       "  </thead>\n",
       "  <tbody>\n",
       "    <tr>\n",
       "      <th>0</th>\n",
       "      <td>1514764860</td>\n",
       "      <td>2</td>\n",
       "      <td>40.0</td>\n",
       "      <td>2376.580000</td>\n",
       "      <td>2399.5000</td>\n",
       "      <td>2357.1400</td>\n",
       "      <td>2374.590000</td>\n",
       "      <td>19.233005</td>\n",
       "      <td>2373.116392</td>\n",
       "      <td>-0.004218</td>\n",
       "    </tr>\n",
       "    <tr>\n",
       "      <th>1</th>\n",
       "      <td>1514764860</td>\n",
       "      <td>0</td>\n",
       "      <td>5.0</td>\n",
       "      <td>8.530000</td>\n",
       "      <td>8.5300</td>\n",
       "      <td>8.5300</td>\n",
       "      <td>8.530000</td>\n",
       "      <td>78.380000</td>\n",
       "      <td>8.530000</td>\n",
       "      <td>-0.014399</td>\n",
       "    </tr>\n",
       "    <tr>\n",
       "      <th>2</th>\n",
       "      <td>1514764860</td>\n",
       "      <td>1</td>\n",
       "      <td>229.0</td>\n",
       "      <td>13835.194000</td>\n",
       "      <td>14013.8000</td>\n",
       "      <td>13666.1100</td>\n",
       "      <td>13850.176000</td>\n",
       "      <td>31.550062</td>\n",
       "      <td>13827.062093</td>\n",
       "      <td>-0.014643</td>\n",
       "    </tr>\n",
       "    <tr>\n",
       "      <th>3</th>\n",
       "      <td>1514764860</td>\n",
       "      <td>5</td>\n",
       "      <td>32.0</td>\n",
       "      <td>7.659600</td>\n",
       "      <td>7.6596</td>\n",
       "      <td>7.6567</td>\n",
       "      <td>7.657600</td>\n",
       "      <td>6626.713370</td>\n",
       "      <td>7.657713</td>\n",
       "      <td>-0.013922</td>\n",
       "    </tr>\n",
       "    <tr>\n",
       "      <th>4</th>\n",
       "      <td>1514764860</td>\n",
       "      <td>7</td>\n",
       "      <td>5.0</td>\n",
       "      <td>25.920000</td>\n",
       "      <td>25.9200</td>\n",
       "      <td>25.8740</td>\n",
       "      <td>25.877000</td>\n",
       "      <td>121.087310</td>\n",
       "      <td>25.891363</td>\n",
       "      <td>-0.008264</td>\n",
       "    </tr>\n",
       "    <tr>\n",
       "      <th>5</th>\n",
       "      <td>1514764860</td>\n",
       "      <td>6</td>\n",
       "      <td>173.0</td>\n",
       "      <td>738.302500</td>\n",
       "      <td>746.0000</td>\n",
       "      <td>732.5100</td>\n",
       "      <td>738.507500</td>\n",
       "      <td>335.987856</td>\n",
       "      <td>738.839291</td>\n",
       "      <td>-0.004809</td>\n",
       "    </tr>\n",
       "    <tr>\n",
       "      <th>6</th>\n",
       "      <td>1514764860</td>\n",
       "      <td>9</td>\n",
       "      <td>167.0</td>\n",
       "      <td>225.330000</td>\n",
       "      <td>227.7800</td>\n",
       "      <td>222.9800</td>\n",
       "      <td>225.206667</td>\n",
       "      <td>411.896642</td>\n",
       "      <td>225.197944</td>\n",
       "      <td>-0.009791</td>\n",
       "    </tr>\n",
       "    <tr>\n",
       "      <th>7</th>\n",
       "      <td>1514764860</td>\n",
       "      <td>11</td>\n",
       "      <td>7.0</td>\n",
       "      <td>329.090000</td>\n",
       "      <td>329.8800</td>\n",
       "      <td>329.0900</td>\n",
       "      <td>329.460000</td>\n",
       "      <td>6.635710</td>\n",
       "      <td>329.454118</td>\n",
       "      <td>NaN</td>\n",
       "    </tr>\n",
       "    <tr>\n",
       "      <th>8</th>\n",
       "      <td>1514764920</td>\n",
       "      <td>2</td>\n",
       "      <td>53.0</td>\n",
       "      <td>2374.553333</td>\n",
       "      <td>2400.9000</td>\n",
       "      <td>2354.2000</td>\n",
       "      <td>2372.286667</td>\n",
       "      <td>24.050259</td>\n",
       "      <td>2371.434498</td>\n",
       "      <td>-0.004079</td>\n",
       "    </tr>\n",
       "    <tr>\n",
       "      <th>9</th>\n",
       "      <td>1514764920</td>\n",
       "      <td>0</td>\n",
       "      <td>7.0</td>\n",
       "      <td>8.530000</td>\n",
       "      <td>8.5300</td>\n",
       "      <td>8.5145</td>\n",
       "      <td>8.514500</td>\n",
       "      <td>71.390000</td>\n",
       "      <td>8.520215</td>\n",
       "      <td>-0.015875</td>\n",
       "    </tr>\n",
       "    <tr>\n",
       "      <th>10</th>\n",
       "      <td>1514764920</td>\n",
       "      <td>1</td>\n",
       "      <td>235.0</td>\n",
       "      <td>13835.036000</td>\n",
       "      <td>14052.3000</td>\n",
       "      <td>13680.0000</td>\n",
       "      <td>13828.102000</td>\n",
       "      <td>31.046432</td>\n",
       "      <td>13840.362591</td>\n",
       "      <td>-0.015037</td>\n",
       "    </tr>\n",
       "    <tr>\n",
       "      <th>11</th>\n",
       "      <td>1514764920</td>\n",
       "      <td>5</td>\n",
       "      <td>10.0</td>\n",
       "      <td>7.656800</td>\n",
       "      <td>7.6569</td>\n",
       "      <td>7.6567</td>\n",
       "      <td>7.656700</td>\n",
       "      <td>3277.475494</td>\n",
       "      <td>7.656749</td>\n",
       "      <td>-0.014534</td>\n",
       "    </tr>\n",
       "    <tr>\n",
       "      <th>12</th>\n",
       "      <td>1514764920</td>\n",
       "      <td>7</td>\n",
       "      <td>1.0</td>\n",
       "      <td>25.897000</td>\n",
       "      <td>25.8970</td>\n",
       "      <td>25.8970</td>\n",
       "      <td>25.897000</td>\n",
       "      <td>1.468019</td>\n",
       "      <td>25.897000</td>\n",
       "      <td>-0.029902</td>\n",
       "    </tr>\n",
       "    <tr>\n",
       "      <th>13</th>\n",
       "      <td>1514764920</td>\n",
       "      <td>6</td>\n",
       "      <td>192.0</td>\n",
       "      <td>738.507500</td>\n",
       "      <td>745.1400</td>\n",
       "      <td>732.4900</td>\n",
       "      <td>738.260000</td>\n",
       "      <td>232.793141</td>\n",
       "      <td>738.268967</td>\n",
       "      <td>-0.004441</td>\n",
       "    </tr>\n",
       "    <tr>\n",
       "      <th>14</th>\n",
       "      <td>1514764920</td>\n",
       "      <td>9</td>\n",
       "      <td>212.0</td>\n",
       "      <td>225.133333</td>\n",
       "      <td>227.3800</td>\n",
       "      <td>222.4500</td>\n",
       "      <td>224.856667</td>\n",
       "      <td>3640.502706</td>\n",
       "      <td>224.446625</td>\n",
       "      <td>-0.012991</td>\n",
       "    </tr>\n",
       "    <tr>\n",
       "      <th>15</th>\n",
       "      <td>1514764920</td>\n",
       "      <td>11</td>\n",
       "      <td>1.0</td>\n",
       "      <td>329.450000</td>\n",
       "      <td>329.4500</td>\n",
       "      <td>329.4500</td>\n",
       "      <td>329.450000</td>\n",
       "      <td>0.349420</td>\n",
       "      <td>329.450000</td>\n",
       "      <td>-0.009690</td>\n",
       "    </tr>\n",
       "    <tr>\n",
       "      <th>16</th>\n",
       "      <td>1514764980</td>\n",
       "      <td>2</td>\n",
       "      <td>61.0</td>\n",
       "      <td>2371.633333</td>\n",
       "      <td>2401.9000</td>\n",
       "      <td>2353.7000</td>\n",
       "      <td>2372.063333</td>\n",
       "      <td>42.676438</td>\n",
       "      <td>2375.442755</td>\n",
       "      <td>-0.002892</td>\n",
       "    </tr>\n",
       "    <tr>\n",
       "      <th>17</th>\n",
       "      <td>1514764980</td>\n",
       "      <td>0</td>\n",
       "      <td>45.0</td>\n",
       "      <td>8.506500</td>\n",
       "      <td>8.5299</td>\n",
       "      <td>8.4848</td>\n",
       "      <td>8.484800</td>\n",
       "      <td>1546.820000</td>\n",
       "      <td>8.501394</td>\n",
       "      <td>-0.015410</td>\n",
       "    </tr>\n",
       "    <tr>\n",
       "      <th>18</th>\n",
       "      <td>1514764980</td>\n",
       "      <td>1</td>\n",
       "      <td>528.0</td>\n",
       "      <td>13823.900000</td>\n",
       "      <td>14000.4000</td>\n",
       "      <td>13601.0000</td>\n",
       "      <td>13801.314000</td>\n",
       "      <td>55.061820</td>\n",
       "      <td>13806.068014</td>\n",
       "      <td>-0.010309</td>\n",
       "    </tr>\n",
       "    <tr>\n",
       "      <th>19</th>\n",
       "      <td>1514764980</td>\n",
       "      <td>5</td>\n",
       "      <td>22.0</td>\n",
       "      <td>7.656900</td>\n",
       "      <td>7.6569</td>\n",
       "      <td>7.6500</td>\n",
       "      <td>7.651200</td>\n",
       "      <td>5623.557585</td>\n",
       "      <td>7.654267</td>\n",
       "      <td>-0.012546</td>\n",
       "    </tr>\n",
       "  </tbody>\n",
       "</table>\n",
       "</div>"
      ],
      "text/plain": [
       "     timestamp  Asset_ID  Count          Open        High         Low  \\\n",
       "0   1514764860         2   40.0   2376.580000   2399.5000   2357.1400   \n",
       "1   1514764860         0    5.0      8.530000      8.5300      8.5300   \n",
       "2   1514764860         1  229.0  13835.194000  14013.8000  13666.1100   \n",
       "3   1514764860         5   32.0      7.659600      7.6596      7.6567   \n",
       "4   1514764860         7    5.0     25.920000     25.9200     25.8740   \n",
       "5   1514764860         6  173.0    738.302500    746.0000    732.5100   \n",
       "6   1514764860         9  167.0    225.330000    227.7800    222.9800   \n",
       "7   1514764860        11    7.0    329.090000    329.8800    329.0900   \n",
       "8   1514764920         2   53.0   2374.553333   2400.9000   2354.2000   \n",
       "9   1514764920         0    7.0      8.530000      8.5300      8.5145   \n",
       "10  1514764920         1  235.0  13835.036000  14052.3000  13680.0000   \n",
       "11  1514764920         5   10.0      7.656800      7.6569      7.6567   \n",
       "12  1514764920         7    1.0     25.897000     25.8970     25.8970   \n",
       "13  1514764920         6  192.0    738.507500    745.1400    732.4900   \n",
       "14  1514764920         9  212.0    225.133333    227.3800    222.4500   \n",
       "15  1514764920        11    1.0    329.450000    329.4500    329.4500   \n",
       "16  1514764980         2   61.0   2371.633333   2401.9000   2353.7000   \n",
       "17  1514764980         0   45.0      8.506500      8.5299      8.4848   \n",
       "18  1514764980         1  528.0  13823.900000  14000.4000  13601.0000   \n",
       "19  1514764980         5   22.0      7.656900      7.6569      7.6500   \n",
       "\n",
       "           Close       Volume          VWAP    Target  \n",
       "0    2374.590000    19.233005   2373.116392 -0.004218  \n",
       "1       8.530000    78.380000      8.530000 -0.014399  \n",
       "2   13850.176000    31.550062  13827.062093 -0.014643  \n",
       "3       7.657600  6626.713370      7.657713 -0.013922  \n",
       "4      25.877000   121.087310     25.891363 -0.008264  \n",
       "5     738.507500   335.987856    738.839291 -0.004809  \n",
       "6     225.206667   411.896642    225.197944 -0.009791  \n",
       "7     329.460000     6.635710    329.454118       NaN  \n",
       "8    2372.286667    24.050259   2371.434498 -0.004079  \n",
       "9       8.514500    71.390000      8.520215 -0.015875  \n",
       "10  13828.102000    31.046432  13840.362591 -0.015037  \n",
       "11      7.656700  3277.475494      7.656749 -0.014534  \n",
       "12     25.897000     1.468019     25.897000 -0.029902  \n",
       "13    738.260000   232.793141    738.268967 -0.004441  \n",
       "14    224.856667  3640.502706    224.446625 -0.012991  \n",
       "15    329.450000     0.349420    329.450000 -0.009690  \n",
       "16   2372.063333    42.676438   2375.442755 -0.002892  \n",
       "17      8.484800  1546.820000      8.501394 -0.015410  \n",
       "18  13801.314000    55.061820  13806.068014 -0.010309  \n",
       "19      7.651200  5623.557585      7.654267 -0.012546  "
      ]
     },
     "execution_count": 2,
     "metadata": {},
     "output_type": "execute_result"
    }
   ],
   "source": [
    "crypto_df = pd.read_csv('csv/train.csv')\n",
    "crypto_df.head(20)"
   ]
  },
  {
   "cell_type": "code",
   "execution_count": 3,
   "id": "4579fc66",
   "metadata": {},
   "outputs": [
    {
     "data": {
      "text/html": [
       "<div>\n",
       "<style scoped>\n",
       "    .dataframe tbody tr th:only-of-type {\n",
       "        vertical-align: middle;\n",
       "    }\n",
       "\n",
       "    .dataframe tbody tr th {\n",
       "        vertical-align: top;\n",
       "    }\n",
       "\n",
       "    .dataframe thead th {\n",
       "        text-align: right;\n",
       "    }\n",
       "</style>\n",
       "<table border=\"1\" class=\"dataframe\">\n",
       "  <thead>\n",
       "    <tr style=\"text-align: right;\">\n",
       "      <th></th>\n",
       "      <th>Asset_ID</th>\n",
       "      <th>Weight</th>\n",
       "      <th>Asset_Name</th>\n",
       "    </tr>\n",
       "  </thead>\n",
       "  <tbody>\n",
       "    <tr>\n",
       "      <th>0</th>\n",
       "      <td>2</td>\n",
       "      <td>2.397895</td>\n",
       "      <td>Bitcoin Cash</td>\n",
       "    </tr>\n",
       "    <tr>\n",
       "      <th>1</th>\n",
       "      <td>0</td>\n",
       "      <td>4.304065</td>\n",
       "      <td>Binance Coin</td>\n",
       "    </tr>\n",
       "    <tr>\n",
       "      <th>2</th>\n",
       "      <td>1</td>\n",
       "      <td>6.779922</td>\n",
       "      <td>Bitcoin</td>\n",
       "    </tr>\n",
       "    <tr>\n",
       "      <th>3</th>\n",
       "      <td>5</td>\n",
       "      <td>1.386294</td>\n",
       "      <td>EOS.IO</td>\n",
       "    </tr>\n",
       "    <tr>\n",
       "      <th>4</th>\n",
       "      <td>7</td>\n",
       "      <td>2.079442</td>\n",
       "      <td>Ethereum Classic</td>\n",
       "    </tr>\n",
       "    <tr>\n",
       "      <th>5</th>\n",
       "      <td>6</td>\n",
       "      <td>5.894403</td>\n",
       "      <td>Ethereum</td>\n",
       "    </tr>\n",
       "    <tr>\n",
       "      <th>6</th>\n",
       "      <td>9</td>\n",
       "      <td>2.397895</td>\n",
       "      <td>Litecoin</td>\n",
       "    </tr>\n",
       "    <tr>\n",
       "      <th>7</th>\n",
       "      <td>11</td>\n",
       "      <td>1.609438</td>\n",
       "      <td>Monero</td>\n",
       "    </tr>\n",
       "    <tr>\n",
       "      <th>8</th>\n",
       "      <td>13</td>\n",
       "      <td>1.791759</td>\n",
       "      <td>TRON</td>\n",
       "    </tr>\n",
       "    <tr>\n",
       "      <th>9</th>\n",
       "      <td>12</td>\n",
       "      <td>2.079442</td>\n",
       "      <td>Stellar</td>\n",
       "    </tr>\n",
       "    <tr>\n",
       "      <th>10</th>\n",
       "      <td>3</td>\n",
       "      <td>4.406719</td>\n",
       "      <td>Cardano</td>\n",
       "    </tr>\n",
       "    <tr>\n",
       "      <th>11</th>\n",
       "      <td>8</td>\n",
       "      <td>1.098612</td>\n",
       "      <td>IOTA</td>\n",
       "    </tr>\n",
       "    <tr>\n",
       "      <th>12</th>\n",
       "      <td>10</td>\n",
       "      <td>1.098612</td>\n",
       "      <td>Maker</td>\n",
       "    </tr>\n",
       "    <tr>\n",
       "      <th>13</th>\n",
       "      <td>4</td>\n",
       "      <td>3.555348</td>\n",
       "      <td>Dogecoin</td>\n",
       "    </tr>\n",
       "  </tbody>\n",
       "</table>\n",
       "</div>"
      ],
      "text/plain": [
       "    Asset_ID    Weight        Asset_Name\n",
       "0          2  2.397895      Bitcoin Cash\n",
       "1          0  4.304065      Binance Coin\n",
       "2          1  6.779922           Bitcoin\n",
       "3          5  1.386294            EOS.IO\n",
       "4          7  2.079442  Ethereum Classic\n",
       "5          6  5.894403          Ethereum\n",
       "6          9  2.397895          Litecoin\n",
       "7         11  1.609438            Monero\n",
       "8         13  1.791759              TRON\n",
       "9         12  2.079442           Stellar\n",
       "10         3  4.406719           Cardano\n",
       "11         8  1.098612              IOTA\n",
       "12        10  1.098612             Maker\n",
       "13         4  3.555348          Dogecoin"
      ]
     },
     "execution_count": 3,
     "metadata": {},
     "output_type": "execute_result"
    }
   ],
   "source": [
    "asset_df = pd.read_csv('csv/asset_details.csv')\n",
    "asset_df"
   ]
  },
  {
   "cell_type": "markdown",
   "id": "913708a0",
   "metadata": {},
   "source": [
    "### Clean the dataset"
   ]
  },
  {
   "cell_type": "code",
   "execution_count": 4,
   "id": "8b10ad81",
   "metadata": {},
   "outputs": [
    {
     "name": "stdout",
     "output_type": "stream",
     "text": [
      "<class 'pandas.core.frame.DataFrame'>\n",
      "RangeIndex: 24236806 entries, 0 to 24236805\n",
      "Data columns (total 10 columns):\n",
      " #   Column     Non-Null Count     Dtype  \n",
      "---  ------     --------------     -----  \n",
      " 0   timestamp  24236806 non-null  int64  \n",
      " 1   Asset_ID   24236806 non-null  int64  \n",
      " 2   Count      24236806 non-null  float64\n",
      " 3   Open       24236806 non-null  float64\n",
      " 4   High       24236806 non-null  float64\n",
      " 5   Low        24236806 non-null  float64\n",
      " 6   Close      24236806 non-null  float64\n",
      " 7   Volume     24236806 non-null  float64\n",
      " 8   VWAP       24236797 non-null  float64\n",
      " 9   Target     23486468 non-null  float64\n",
      "dtypes: float64(8), int64(2)\n",
      "memory usage: 1.8 GB\n"
     ]
    }
   ],
   "source": [
    "# check the datatypes and counts of each column\n",
    "crypto_df.info(show_counts =True)"
   ]
  },
  {
   "cell_type": "code",
   "execution_count": 5,
   "id": "170b9b7c",
   "metadata": {},
   "outputs": [
    {
     "data": {
      "text/plain": [
       "timestamp         0\n",
       "Asset_ID          0\n",
       "Count             0\n",
       "Open              0\n",
       "High              0\n",
       "Low               0\n",
       "Close             0\n",
       "Volume            0\n",
       "VWAP              9\n",
       "Target       750338\n",
       "dtype: int64"
      ]
     },
     "execution_count": 5,
     "metadata": {},
     "output_type": "execute_result"
    }
   ],
   "source": [
    "# double check the missing values in each column \n",
    "crypto_df.isnull().sum()"
   ]
  },
  {
   "cell_type": "code",
   "execution_count": 6,
   "id": "e3e84421",
   "metadata": {},
   "outputs": [
    {
     "data": {
      "text/html": [
       "<div>\n",
       "<style scoped>\n",
       "    .dataframe tbody tr th:only-of-type {\n",
       "        vertical-align: middle;\n",
       "    }\n",
       "\n",
       "    .dataframe tbody tr th {\n",
       "        vertical-align: top;\n",
       "    }\n",
       "\n",
       "    .dataframe thead th {\n",
       "        text-align: right;\n",
       "    }\n",
       "</style>\n",
       "<table border=\"1\" class=\"dataframe\">\n",
       "  <thead>\n",
       "    <tr style=\"text-align: right;\">\n",
       "      <th></th>\n",
       "      <th>timestamp</th>\n",
       "      <th>Asset_ID</th>\n",
       "      <th>Count</th>\n",
       "      <th>Open</th>\n",
       "      <th>High</th>\n",
       "      <th>Low</th>\n",
       "      <th>Close</th>\n",
       "      <th>Volume</th>\n",
       "      <th>VWAP</th>\n",
       "      <th>Target</th>\n",
       "    </tr>\n",
       "  </thead>\n",
       "  <tbody>\n",
       "    <tr>\n",
       "      <th>0</th>\n",
       "      <td>1514764860</td>\n",
       "      <td>2</td>\n",
       "      <td>40.0</td>\n",
       "      <td>2376.580000</td>\n",
       "      <td>2399.5000</td>\n",
       "      <td>2357.1400</td>\n",
       "      <td>2374.590000</td>\n",
       "      <td>19.233005</td>\n",
       "      <td>2373.116392</td>\n",
       "      <td>-0.004218</td>\n",
       "    </tr>\n",
       "    <tr>\n",
       "      <th>1</th>\n",
       "      <td>1514764860</td>\n",
       "      <td>0</td>\n",
       "      <td>5.0</td>\n",
       "      <td>8.530000</td>\n",
       "      <td>8.5300</td>\n",
       "      <td>8.5300</td>\n",
       "      <td>8.530000</td>\n",
       "      <td>78.380000</td>\n",
       "      <td>8.530000</td>\n",
       "      <td>-0.014399</td>\n",
       "    </tr>\n",
       "    <tr>\n",
       "      <th>2</th>\n",
       "      <td>1514764860</td>\n",
       "      <td>1</td>\n",
       "      <td>229.0</td>\n",
       "      <td>13835.194000</td>\n",
       "      <td>14013.8000</td>\n",
       "      <td>13666.1100</td>\n",
       "      <td>13850.176000</td>\n",
       "      <td>31.550062</td>\n",
       "      <td>13827.062093</td>\n",
       "      <td>-0.014643</td>\n",
       "    </tr>\n",
       "    <tr>\n",
       "      <th>3</th>\n",
       "      <td>1514764860</td>\n",
       "      <td>5</td>\n",
       "      <td>32.0</td>\n",
       "      <td>7.659600</td>\n",
       "      <td>7.6596</td>\n",
       "      <td>7.6567</td>\n",
       "      <td>7.657600</td>\n",
       "      <td>6626.713370</td>\n",
       "      <td>7.657713</td>\n",
       "      <td>-0.013922</td>\n",
       "    </tr>\n",
       "    <tr>\n",
       "      <th>4</th>\n",
       "      <td>1514764860</td>\n",
       "      <td>7</td>\n",
       "      <td>5.0</td>\n",
       "      <td>25.920000</td>\n",
       "      <td>25.9200</td>\n",
       "      <td>25.8740</td>\n",
       "      <td>25.877000</td>\n",
       "      <td>121.087310</td>\n",
       "      <td>25.891363</td>\n",
       "      <td>-0.008264</td>\n",
       "    </tr>\n",
       "    <tr>\n",
       "      <th>5</th>\n",
       "      <td>1514764860</td>\n",
       "      <td>6</td>\n",
       "      <td>173.0</td>\n",
       "      <td>738.302500</td>\n",
       "      <td>746.0000</td>\n",
       "      <td>732.5100</td>\n",
       "      <td>738.507500</td>\n",
       "      <td>335.987856</td>\n",
       "      <td>738.839291</td>\n",
       "      <td>-0.004809</td>\n",
       "    </tr>\n",
       "    <tr>\n",
       "      <th>6</th>\n",
       "      <td>1514764860</td>\n",
       "      <td>9</td>\n",
       "      <td>167.0</td>\n",
       "      <td>225.330000</td>\n",
       "      <td>227.7800</td>\n",
       "      <td>222.9800</td>\n",
       "      <td>225.206667</td>\n",
       "      <td>411.896642</td>\n",
       "      <td>225.197944</td>\n",
       "      <td>-0.009791</td>\n",
       "    </tr>\n",
       "    <tr>\n",
       "      <th>7</th>\n",
       "      <td>1514764860</td>\n",
       "      <td>11</td>\n",
       "      <td>7.0</td>\n",
       "      <td>329.090000</td>\n",
       "      <td>329.8800</td>\n",
       "      <td>329.0900</td>\n",
       "      <td>329.460000</td>\n",
       "      <td>6.635710</td>\n",
       "      <td>329.454118</td>\n",
       "      <td>0.000000</td>\n",
       "    </tr>\n",
       "    <tr>\n",
       "      <th>8</th>\n",
       "      <td>1514764920</td>\n",
       "      <td>2</td>\n",
       "      <td>53.0</td>\n",
       "      <td>2374.553333</td>\n",
       "      <td>2400.9000</td>\n",
       "      <td>2354.2000</td>\n",
       "      <td>2372.286667</td>\n",
       "      <td>24.050259</td>\n",
       "      <td>2371.434498</td>\n",
       "      <td>-0.004079</td>\n",
       "    </tr>\n",
       "    <tr>\n",
       "      <th>9</th>\n",
       "      <td>1514764920</td>\n",
       "      <td>0</td>\n",
       "      <td>7.0</td>\n",
       "      <td>8.530000</td>\n",
       "      <td>8.5300</td>\n",
       "      <td>8.5145</td>\n",
       "      <td>8.514500</td>\n",
       "      <td>71.390000</td>\n",
       "      <td>8.520215</td>\n",
       "      <td>-0.015875</td>\n",
       "    </tr>\n",
       "  </tbody>\n",
       "</table>\n",
       "</div>"
      ],
      "text/plain": [
       "    timestamp  Asset_ID  Count          Open        High         Low  \\\n",
       "0  1514764860         2   40.0   2376.580000   2399.5000   2357.1400   \n",
       "1  1514764860         0    5.0      8.530000      8.5300      8.5300   \n",
       "2  1514764860         1  229.0  13835.194000  14013.8000  13666.1100   \n",
       "3  1514764860         5   32.0      7.659600      7.6596      7.6567   \n",
       "4  1514764860         7    5.0     25.920000     25.9200     25.8740   \n",
       "5  1514764860         6  173.0    738.302500    746.0000    732.5100   \n",
       "6  1514764860         9  167.0    225.330000    227.7800    222.9800   \n",
       "7  1514764860        11    7.0    329.090000    329.8800    329.0900   \n",
       "8  1514764920         2   53.0   2374.553333   2400.9000   2354.2000   \n",
       "9  1514764920         0    7.0      8.530000      8.5300      8.5145   \n",
       "\n",
       "          Close       Volume          VWAP    Target  \n",
       "0   2374.590000    19.233005   2373.116392 -0.004218  \n",
       "1      8.530000    78.380000      8.530000 -0.014399  \n",
       "2  13850.176000    31.550062  13827.062093 -0.014643  \n",
       "3      7.657600  6626.713370      7.657713 -0.013922  \n",
       "4     25.877000   121.087310     25.891363 -0.008264  \n",
       "5    738.507500   335.987856    738.839291 -0.004809  \n",
       "6    225.206667   411.896642    225.197944 -0.009791  \n",
       "7    329.460000     6.635710    329.454118  0.000000  \n",
       "8   2372.286667    24.050259   2371.434498 -0.004079  \n",
       "9      8.514500    71.390000      8.520215 -0.015875  "
      ]
     },
     "execution_count": 6,
     "metadata": {},
     "output_type": "execute_result"
    }
   ],
   "source": [
    "# replace NaN Values with Zeros in Target column\n",
    "crypto_df[\"Target\"] = crypto_df[\"Target\"].fillna(0)\n",
    "crypto_df.head(10)"
   ]
  },
  {
   "cell_type": "code",
   "execution_count": 7,
   "id": "c2054780",
   "metadata": {},
   "outputs": [
    {
     "data": {
      "text/html": [
       "<div>\n",
       "<style scoped>\n",
       "    .dataframe tbody tr th:only-of-type {\n",
       "        vertical-align: middle;\n",
       "    }\n",
       "\n",
       "    .dataframe tbody tr th {\n",
       "        vertical-align: top;\n",
       "    }\n",
       "\n",
       "    .dataframe thead th {\n",
       "        text-align: right;\n",
       "    }\n",
       "</style>\n",
       "<table border=\"1\" class=\"dataframe\">\n",
       "  <thead>\n",
       "    <tr style=\"text-align: right;\">\n",
       "      <th></th>\n",
       "      <th>timestamp</th>\n",
       "      <th>Asset_ID</th>\n",
       "      <th>Count</th>\n",
       "      <th>Open</th>\n",
       "      <th>High</th>\n",
       "      <th>Low</th>\n",
       "      <th>Close</th>\n",
       "      <th>Volume</th>\n",
       "      <th>VWAP</th>\n",
       "      <th>Target</th>\n",
       "    </tr>\n",
       "  </thead>\n",
       "  <tbody>\n",
       "    <tr>\n",
       "      <th>15004269</th>\n",
       "      <td>1592173560</td>\n",
       "      <td>10</td>\n",
       "      <td>2.0</td>\n",
       "      <td>501.00</td>\n",
       "      <td>501.00</td>\n",
       "      <td>501.00</td>\n",
       "      <td>501.00</td>\n",
       "      <td>0.0</td>\n",
       "      <td>NaN</td>\n",
       "      <td>0.000000</td>\n",
       "    </tr>\n",
       "    <tr>\n",
       "      <th>15004283</th>\n",
       "      <td>1592173620</td>\n",
       "      <td>10</td>\n",
       "      <td>4.0</td>\n",
       "      <td>501.00</td>\n",
       "      <td>501.00</td>\n",
       "      <td>501.00</td>\n",
       "      <td>501.00</td>\n",
       "      <td>0.0</td>\n",
       "      <td>NaN</td>\n",
       "      <td>0.000000</td>\n",
       "    </tr>\n",
       "    <tr>\n",
       "      <th>15059232</th>\n",
       "      <td>1592426160</td>\n",
       "      <td>10</td>\n",
       "      <td>2.0</td>\n",
       "      <td>529.77</td>\n",
       "      <td>529.77</td>\n",
       "      <td>529.77</td>\n",
       "      <td>529.77</td>\n",
       "      <td>0.0</td>\n",
       "      <td>NaN</td>\n",
       "      <td>0.007356</td>\n",
       "    </tr>\n",
       "    <tr>\n",
       "      <th>15143187</th>\n",
       "      <td>1592823720</td>\n",
       "      <td>10</td>\n",
       "      <td>2.0</td>\n",
       "      <td>503.60</td>\n",
       "      <td>503.60</td>\n",
       "      <td>503.60</td>\n",
       "      <td>503.60</td>\n",
       "      <td>0.0</td>\n",
       "      <td>NaN</td>\n",
       "      <td>-0.005672</td>\n",
       "    </tr>\n",
       "    <tr>\n",
       "      <th>15183088</th>\n",
       "      <td>1593008940</td>\n",
       "      <td>10</td>\n",
       "      <td>2.0</td>\n",
       "      <td>484.16</td>\n",
       "      <td>484.16</td>\n",
       "      <td>484.16</td>\n",
       "      <td>484.16</td>\n",
       "      <td>0.0</td>\n",
       "      <td>NaN</td>\n",
       "      <td>-0.004281</td>\n",
       "    </tr>\n",
       "    <tr>\n",
       "      <th>15184216</th>\n",
       "      <td>1593013920</td>\n",
       "      <td>10</td>\n",
       "      <td>2.0</td>\n",
       "      <td>480.00</td>\n",
       "      <td>480.00</td>\n",
       "      <td>480.00</td>\n",
       "      <td>480.00</td>\n",
       "      <td>0.0</td>\n",
       "      <td>NaN</td>\n",
       "      <td>0.000000</td>\n",
       "    </tr>\n",
       "    <tr>\n",
       "      <th>15184243</th>\n",
       "      <td>1593014040</td>\n",
       "      <td>10</td>\n",
       "      <td>2.0</td>\n",
       "      <td>480.00</td>\n",
       "      <td>480.00</td>\n",
       "      <td>480.00</td>\n",
       "      <td>480.00</td>\n",
       "      <td>0.0</td>\n",
       "      <td>NaN</td>\n",
       "      <td>0.000000</td>\n",
       "    </tr>\n",
       "    <tr>\n",
       "      <th>15184309</th>\n",
       "      <td>1593014340</td>\n",
       "      <td>10</td>\n",
       "      <td>6.0</td>\n",
       "      <td>479.07</td>\n",
       "      <td>479.07</td>\n",
       "      <td>479.07</td>\n",
       "      <td>479.07</td>\n",
       "      <td>0.0</td>\n",
       "      <td>NaN</td>\n",
       "      <td>0.000000</td>\n",
       "    </tr>\n",
       "    <tr>\n",
       "      <th>15184778</th>\n",
       "      <td>1593016440</td>\n",
       "      <td>10</td>\n",
       "      <td>4.0</td>\n",
       "      <td>478.00</td>\n",
       "      <td>478.00</td>\n",
       "      <td>475.00</td>\n",
       "      <td>478.00</td>\n",
       "      <td>0.0</td>\n",
       "      <td>NaN</td>\n",
       "      <td>0.000000</td>\n",
       "    </tr>\n",
       "  </tbody>\n",
       "</table>\n",
       "</div>"
      ],
      "text/plain": [
       "           timestamp  Asset_ID  Count    Open    High     Low   Close  Volume  \\\n",
       "15004269  1592173560        10    2.0  501.00  501.00  501.00  501.00     0.0   \n",
       "15004283  1592173620        10    4.0  501.00  501.00  501.00  501.00     0.0   \n",
       "15059232  1592426160        10    2.0  529.77  529.77  529.77  529.77     0.0   \n",
       "15143187  1592823720        10    2.0  503.60  503.60  503.60  503.60     0.0   \n",
       "15183088  1593008940        10    2.0  484.16  484.16  484.16  484.16     0.0   \n",
       "15184216  1593013920        10    2.0  480.00  480.00  480.00  480.00     0.0   \n",
       "15184243  1593014040        10    2.0  480.00  480.00  480.00  480.00     0.0   \n",
       "15184309  1593014340        10    6.0  479.07  479.07  479.07  479.07     0.0   \n",
       "15184778  1593016440        10    4.0  478.00  478.00  475.00  478.00     0.0   \n",
       "\n",
       "          VWAP    Target  \n",
       "15004269   NaN  0.000000  \n",
       "15004283   NaN  0.000000  \n",
       "15059232   NaN  0.007356  \n",
       "15143187   NaN -0.005672  \n",
       "15183088   NaN -0.004281  \n",
       "15184216   NaN  0.000000  \n",
       "15184243   NaN  0.000000  \n",
       "15184309   NaN  0.000000  \n",
       "15184778   NaN  0.000000  "
      ]
     },
     "execution_count": 7,
     "metadata": {},
     "output_type": "execute_result"
    }
   ],
   "source": [
    "# show all Rows with NaN Values in VWAP column\n",
    "# from the output below we can see that all the nan values come from Asset_ID 10\n",
    "crypto_df[crypto_df[\"VWAP\"].isnull()]"
   ]
  },
  {
   "cell_type": "code",
   "execution_count": 8,
   "id": "0efdca84",
   "metadata": {},
   "outputs": [],
   "source": [
    "# when I clean the data, I found a lot of gaps in data, which influence the consecutive of data visualisation \n",
    "# to fill the gaps, we can use the .reindex() method for forward filling, filling gaps with the previous valid value\n",
    "# https://pandas.pydata.org/docs/reference/api/pandas.DataFrame.reindex.html"
   ]
  },
  {
   "cell_type": "code",
   "execution_count": 9,
   "id": "f88a1567",
   "metadata": {},
   "outputs": [
    {
     "data": {
      "text/plain": [
       "60    1956959\n",
       "Name: timestamp, dtype: int64"
      ]
     },
     "execution_count": 9,
     "metadata": {},
     "output_type": "execute_result"
    }
   ],
   "source": [
    "# I may code these following steps with function define later to fill gaps for each cryptocurrencies\n",
    "# fill gaps for Bitcoin Cash\n",
    "bit_cash = crypto_df[crypto_df[\"Asset_ID\"]==2].set_index(\"timestamp\")\n",
    "bit_cash = bit_cash.reindex(range(bit_cash.index[0],bit_cash.index[-1]+60,60),method='pad')\n",
    "(bit_cash.index[1:]-bit_cash.index[:-1]).value_counts()"
   ]
  },
  {
   "cell_type": "code",
   "execution_count": 10,
   "id": "b53ae483",
   "metadata": {},
   "outputs": [
    {
     "data": {
      "text/plain": [
       "60    1956959\n",
       "Name: timestamp, dtype: int64"
      ]
     },
     "execution_count": 10,
     "metadata": {},
     "output_type": "execute_result"
    }
   ],
   "source": [
    "# fill gaps for Binance Coin\n",
    "bin_coin = crypto_df[crypto_df[\"Asset_ID\"]==0].set_index(\"timestamp\")\n",
    "bin_coin = bin_coin.reindex(range(bin_coin.index[0],bin_coin.index[-1]+60,60),method='pad')\n",
    "(bin_coin.index[1:]-bin_coin.index[:-1]).value_counts()"
   ]
  },
  {
   "cell_type": "code",
   "execution_count": 11,
   "id": "d703b8fe",
   "metadata": {},
   "outputs": [
    {
     "data": {
      "text/plain": [
       "60    1956959\n",
       "Name: timestamp, dtype: int64"
      ]
     },
     "execution_count": 11,
     "metadata": {},
     "output_type": "execute_result"
    }
   ],
   "source": [
    "# fill gaps for Bitcoin \n",
    "bit = crypto_df[crypto_df[\"Asset_ID\"]==1].set_index(\"timestamp\")\n",
    "bit = bit.reindex(range(bit.index[0],bit.index[-1]+60,60),method='pad')\n",
    "(bit.index[1:]-bit.index[:-1]).value_counts()"
   ]
  },
  {
   "cell_type": "code",
   "execution_count": 12,
   "id": "939a298f",
   "metadata": {},
   "outputs": [
    {
     "data": {
      "text/plain": [
       "60    1956959\n",
       "Name: timestamp, dtype: int64"
      ]
     },
     "execution_count": 12,
     "metadata": {},
     "output_type": "execute_result"
    }
   ],
   "source": [
    "# fill gaps for EOS.IO\n",
    "eos = crypto_df[crypto_df[\"Asset_ID\"]==5].set_index(\"timestamp\")\n",
    "eos = eos.reindex(range(eos.index[0],eos.index[-1]+60,60),method='pad')\n",
    "(eos.index[1:]-eos.index[:-1]).value_counts()"
   ]
  },
  {
   "cell_type": "code",
   "execution_count": 13,
   "id": "a5a4b044",
   "metadata": {},
   "outputs": [
    {
     "data": {
      "text/plain": [
       "60    1956959\n",
       "Name: timestamp, dtype: int64"
      ]
     },
     "execution_count": 13,
     "metadata": {},
     "output_type": "execute_result"
    }
   ],
   "source": [
    "# fill gaps for Ethereum Classic\n",
    "eth_classic = crypto_df[crypto_df[\"Asset_ID\"]==7].set_index(\"timestamp\")\n",
    "eth_classic = eth_classic.reindex(range(eth_classic.index[0],eth_classic.index[-1]+60,60),method='pad')\n",
    "(eth_classic.index[1:]-eth_classic.index[:-1]).value_counts()"
   ]
  },
  {
   "cell_type": "code",
   "execution_count": 14,
   "id": "77998718",
   "metadata": {},
   "outputs": [
    {
     "data": {
      "text/plain": [
       "60    1956959\n",
       "Name: timestamp, dtype: int64"
      ]
     },
     "execution_count": 14,
     "metadata": {},
     "output_type": "execute_result"
    }
   ],
   "source": [
    "# fill gaps for Ethereum\n",
    "eth = crypto_df[crypto_df[\"Asset_ID\"]==6].set_index(\"timestamp\")\n",
    "eth = eth.reindex(range(eth.index[0],eth.index[-1]+60,60),method='pad')\n",
    "(eth.index[1:]-eth.index[:-1]).value_counts()"
   ]
  },
  {
   "cell_type": "code",
   "execution_count": 15,
   "id": "74e8f7f3",
   "metadata": {},
   "outputs": [
    {
     "data": {
      "text/plain": [
       "60    1956959\n",
       "Name: timestamp, dtype: int64"
      ]
     },
     "execution_count": 15,
     "metadata": {},
     "output_type": "execute_result"
    }
   ],
   "source": [
    "# fill gaps for Litecoin\n",
    "lite = crypto_df[crypto_df[\"Asset_ID\"]==9].set_index(\"timestamp\")\n",
    "lite = lite.reindex(range(lite.index[0],lite.index[-1]+60,60),method='pad')\n",
    "(lite.index[1:]-lite.index[:-1]).value_counts()"
   ]
  },
  {
   "cell_type": "code",
   "execution_count": 16,
   "id": "50e1e89b",
   "metadata": {},
   "outputs": [
    {
     "data": {
      "text/plain": [
       "60    1956959\n",
       "Name: timestamp, dtype: int64"
      ]
     },
     "execution_count": 16,
     "metadata": {},
     "output_type": "execute_result"
    }
   ],
   "source": [
    "# fill gaps for Monero\n",
    "mon = crypto_df[crypto_df[\"Asset_ID\"]==11].set_index(\"timestamp\")\n",
    "mon = mon.reindex(range(mon.index[0],mon.index[-1]+60,60),method='pad')\n",
    "(mon.index[1:]-mon.index[:-1]).value_counts()"
   ]
  },
  {
   "cell_type": "code",
   "execution_count": 17,
   "id": "d26992de",
   "metadata": {},
   "outputs": [
    {
     "data": {
      "text/plain": [
       "'\\ntro = crypto_df[crypto_df[\"Asset_ID\"]==13].set_index(\"timestamp\")\\ntro = tro.reindex(range(tro.index[0],tro.index[-1]+60,60),method=\\'pad\\')\\n(tro.index[1:]-tro.index[:-1]).value_counts()\\n\\nste = crypto_df[crypto_df[\"Asset_ID\"]==12].set_index(\"timestamp\")\\nste = ste.reindex(range(ste.index[0],ste.index[-1]+60,60),method=\\'pad\\')\\n(ste.index[1:]-ste.index[:-1]).value_counts()\\n\\ncar = crypto_df[crypto_df[\"Asset_ID\"]==3].set_index(\"timestamp\")\\ncar = car.reindex(range(car.index[0],car.index[-1]+60,60),method=\\'pad\\')\\n(car.index[1:]-car.index[:-1]).value_counts()\\n\\niota = crypto_df[crypto_df[\"Asset_ID\"]==8].set_index(\"timestamp\")\\niota = iota.reindex(range(iota.index[0],iota.index[-1]+60,60),method=\\'pad\\')\\n(iota.index[1:]-iota.index[:-1]).value_counts()\\n\\nmak = crypto_df[crypto_df[\"Asset_ID\"]==10].set_index(\"timestamp\")\\nmak = mak.reindex(range(mak.index[0],mak.index[-1]+60,60),method=\\'pad\\')\\n(mak.index[1:]-mak.index[:-1]).value_counts()\\n\\ndog = crypto_df[crypto_df[\"Asset_ID\"]==4].set_index(\"timestamp\")\\ndog = dog.reindex(range(dog.index[0],dog.index[-1]+60,60),method=\\'pad\\')\\n(dog.index[1:]-dog.index[:-1]).value_counts()\\n'"
      ]
     },
     "execution_count": 17,
     "metadata": {},
     "output_type": "execute_result"
    }
   ],
   "source": [
    "### We find that the start dates of these 6 cryptocurrencies are not from the 2018-01-01, so we are not going to \n",
    "### include these in our project.\n",
    "'''\n",
    "tro = crypto_df[crypto_df[\"Asset_ID\"]==13].set_index(\"timestamp\")\n",
    "tro = tro.reindex(range(tro.index[0],tro.index[-1]+60,60),method='pad')\n",
    "(tro.index[1:]-tro.index[:-1]).value_counts()\n",
    "\n",
    "ste = crypto_df[crypto_df[\"Asset_ID\"]==12].set_index(\"timestamp\")\n",
    "ste = ste.reindex(range(ste.index[0],ste.index[-1]+60,60),method='pad')\n",
    "(ste.index[1:]-ste.index[:-1]).value_counts()\n",
    "\n",
    "car = crypto_df[crypto_df[\"Asset_ID\"]==3].set_index(\"timestamp\")\n",
    "car = car.reindex(range(car.index[0],car.index[-1]+60,60),method='pad')\n",
    "(car.index[1:]-car.index[:-1]).value_counts()\n",
    "\n",
    "iota = crypto_df[crypto_df[\"Asset_ID\"]==8].set_index(\"timestamp\")\n",
    "iota = iota.reindex(range(iota.index[0],iota.index[-1]+60,60),method='pad')\n",
    "(iota.index[1:]-iota.index[:-1]).value_counts()\n",
    "\n",
    "mak = crypto_df[crypto_df[\"Asset_ID\"]==10].set_index(\"timestamp\")\n",
    "mak = mak.reindex(range(mak.index[0],mak.index[-1]+60,60),method='pad')\n",
    "(mak.index[1:]-mak.index[:-1]).value_counts()\n",
    "\n",
    "dog = crypto_df[crypto_df[\"Asset_ID\"]==4].set_index(\"timestamp\")\n",
    "dog = dog.reindex(range(dog.index[0],dog.index[-1]+60,60),method='pad')\n",
    "(dog.index[1:]-dog.index[:-1]).value_counts()\n",
    "'''"
   ]
  },
  {
   "cell_type": "code",
   "execution_count": 18,
   "id": "75cf6664",
   "metadata": {},
   "outputs": [
    {
     "data": {
      "text/plain": [
       "Asset_ID    0\n",
       "Count       0\n",
       "Open        0\n",
       "High        0\n",
       "Low         0\n",
       "Close       0\n",
       "Volume      0\n",
       "VWAP        0\n",
       "Target      0\n",
       "dtype: int64"
      ]
     },
     "execution_count": 18,
     "metadata": {},
     "output_type": "execute_result"
    }
   ],
   "source": [
    "# check again to see if there still any missing data left\n",
    "\n",
    "#frames = [bit_cash, bin_coin, bit, eos, eth_classic, eth, lite, mon]\n",
    "bit_cash.isnull().sum()"
   ]
  },
  {
   "cell_type": "code",
   "execution_count": 19,
   "id": "b678718b",
   "metadata": {},
   "outputs": [
    {
     "data": {
      "text/plain": [
       "Asset_ID    0\n",
       "Count       0\n",
       "Open        0\n",
       "High        0\n",
       "Low         0\n",
       "Close       0\n",
       "Volume      0\n",
       "VWAP        0\n",
       "Target      0\n",
       "dtype: int64"
      ]
     },
     "execution_count": 19,
     "metadata": {},
     "output_type": "execute_result"
    }
   ],
   "source": [
    "bin_coin.isnull().sum()"
   ]
  },
  {
   "cell_type": "code",
   "execution_count": 20,
   "id": "dc2cd159",
   "metadata": {},
   "outputs": [
    {
     "data": {
      "text/plain": [
       "Asset_ID    0\n",
       "Count       0\n",
       "Open        0\n",
       "High        0\n",
       "Low         0\n",
       "Close       0\n",
       "Volume      0\n",
       "VWAP        0\n",
       "Target      0\n",
       "dtype: int64"
      ]
     },
     "execution_count": 20,
     "metadata": {},
     "output_type": "execute_result"
    }
   ],
   "source": [
    "bit.isnull().sum()"
   ]
  },
  {
   "cell_type": "code",
   "execution_count": 21,
   "id": "579afa5e",
   "metadata": {},
   "outputs": [
    {
     "data": {
      "text/plain": [
       "Asset_ID    0\n",
       "Count       0\n",
       "Open        0\n",
       "High        0\n",
       "Low         0\n",
       "Close       0\n",
       "Volume      0\n",
       "VWAP        0\n",
       "Target      0\n",
       "dtype: int64"
      ]
     },
     "execution_count": 21,
     "metadata": {},
     "output_type": "execute_result"
    }
   ],
   "source": [
    "eos.isnull().sum()"
   ]
  },
  {
   "cell_type": "code",
   "execution_count": 22,
   "id": "f2cd8128",
   "metadata": {},
   "outputs": [
    {
     "data": {
      "text/plain": [
       "Asset_ID    0\n",
       "Count       0\n",
       "Open        0\n",
       "High        0\n",
       "Low         0\n",
       "Close       0\n",
       "Volume      0\n",
       "VWAP        0\n",
       "Target      0\n",
       "dtype: int64"
      ]
     },
     "execution_count": 22,
     "metadata": {},
     "output_type": "execute_result"
    }
   ],
   "source": [
    "eth_classic.isnull().sum()"
   ]
  },
  {
   "cell_type": "code",
   "execution_count": 23,
   "id": "89130b66",
   "metadata": {},
   "outputs": [
    {
     "data": {
      "text/plain": [
       "Asset_ID    0\n",
       "Count       0\n",
       "Open        0\n",
       "High        0\n",
       "Low         0\n",
       "Close       0\n",
       "Volume      0\n",
       "VWAP        0\n",
       "Target      0\n",
       "dtype: int64"
      ]
     },
     "execution_count": 23,
     "metadata": {},
     "output_type": "execute_result"
    }
   ],
   "source": [
    "eth.isnull().sum()"
   ]
  },
  {
   "cell_type": "code",
   "execution_count": 24,
   "id": "5db76ff9",
   "metadata": {},
   "outputs": [
    {
     "data": {
      "text/plain": [
       "Asset_ID    0\n",
       "Count       0\n",
       "Open        0\n",
       "High        0\n",
       "Low         0\n",
       "Close       0\n",
       "Volume      0\n",
       "VWAP        0\n",
       "Target      0\n",
       "dtype: int64"
      ]
     },
     "execution_count": 24,
     "metadata": {},
     "output_type": "execute_result"
    }
   ],
   "source": [
    "lite.isnull().sum()"
   ]
  },
  {
   "cell_type": "code",
   "execution_count": 25,
   "id": "4673da18",
   "metadata": {},
   "outputs": [
    {
     "data": {
      "text/plain": [
       "Asset_ID    0\n",
       "Count       0\n",
       "Open        0\n",
       "High        0\n",
       "Low         0\n",
       "Close       0\n",
       "Volume      0\n",
       "VWAP        0\n",
       "Target      0\n",
       "dtype: int64"
      ]
     },
     "execution_count": 25,
     "metadata": {},
     "output_type": "execute_result"
    }
   ],
   "source": [
    "mon.isnull().sum()"
   ]
  },
  {
   "cell_type": "markdown",
   "id": "ca69095d",
   "metadata": {},
   "source": [
    "### Split training and testing data for each cryptocurrency\n",
    "We'll select 6 of the most popular cryptocurrencies to feed in the machine learning model for the prediction.\n",
    "Crypto list for analysing: Binance Coin, Bitcoin, EOS.IO, Ethereum, Litecoin, Monero."
   ]
  },
  {
   "cell_type": "code",
   "execution_count": 26,
   "id": "9713a396",
   "metadata": {},
   "outputs": [],
   "source": [
    "# add some new relevent features in the dataset\n",
    "def add_features(df):\n",
    "    #df['Upper_Shadow'] = df['High'] - np.maximum(df['Close'], df['Open'])\n",
    "    #df['Lower_Shadow'] = np.minimum(df['Close'], df['Open']) - df['Low']\n",
    "    df[\"log_return\"] = np.log(df['VWAP']).diff(periods=15)\n",
    "    return df\n",
    "\n",
    "df_list = [bin_coin, bit, eos, eth, lite, mon]\n",
    "for df in df_list:\n",
    "    df = add_features(df)"
   ]
  },
  {
   "cell_type": "code",
   "execution_count": 27,
   "id": "3ad6b902",
   "metadata": {},
   "outputs": [
    {
     "data": {
      "text/html": [
       "<div>\n",
       "<style scoped>\n",
       "    .dataframe tbody tr th:only-of-type {\n",
       "        vertical-align: middle;\n",
       "    }\n",
       "\n",
       "    .dataframe tbody tr th {\n",
       "        vertical-align: top;\n",
       "    }\n",
       "\n",
       "    .dataframe thead th {\n",
       "        text-align: right;\n",
       "    }\n",
       "</style>\n",
       "<table border=\"1\" class=\"dataframe\">\n",
       "  <thead>\n",
       "    <tr style=\"text-align: right;\">\n",
       "      <th></th>\n",
       "      <th>Asset_ID</th>\n",
       "      <th>Count</th>\n",
       "      <th>Open</th>\n",
       "      <th>High</th>\n",
       "      <th>Low</th>\n",
       "      <th>Close</th>\n",
       "      <th>Volume</th>\n",
       "      <th>VWAP</th>\n",
       "      <th>Target</th>\n",
       "      <th>log_return</th>\n",
       "    </tr>\n",
       "    <tr>\n",
       "      <th>timestamp</th>\n",
       "      <th></th>\n",
       "      <th></th>\n",
       "      <th></th>\n",
       "      <th></th>\n",
       "      <th></th>\n",
       "      <th></th>\n",
       "      <th></th>\n",
       "      <th></th>\n",
       "      <th></th>\n",
       "      <th></th>\n",
       "    </tr>\n",
       "  </thead>\n",
       "  <tbody>\n",
       "    <tr>\n",
       "      <th>1514764860</th>\n",
       "      <td>0</td>\n",
       "      <td>5.0</td>\n",
       "      <td>8.5300</td>\n",
       "      <td>8.5300</td>\n",
       "      <td>8.5300</td>\n",
       "      <td>8.5300</td>\n",
       "      <td>78.38</td>\n",
       "      <td>8.530000</td>\n",
       "      <td>-0.014399</td>\n",
       "      <td>NaN</td>\n",
       "    </tr>\n",
       "    <tr>\n",
       "      <th>1514764920</th>\n",
       "      <td>0</td>\n",
       "      <td>7.0</td>\n",
       "      <td>8.5300</td>\n",
       "      <td>8.5300</td>\n",
       "      <td>8.5145</td>\n",
       "      <td>8.5145</td>\n",
       "      <td>71.39</td>\n",
       "      <td>8.520215</td>\n",
       "      <td>-0.015875</td>\n",
       "      <td>NaN</td>\n",
       "    </tr>\n",
       "    <tr>\n",
       "      <th>1514764980</th>\n",
       "      <td>0</td>\n",
       "      <td>45.0</td>\n",
       "      <td>8.5065</td>\n",
       "      <td>8.5299</td>\n",
       "      <td>8.4848</td>\n",
       "      <td>8.4848</td>\n",
       "      <td>1546.82</td>\n",
       "      <td>8.501394</td>\n",
       "      <td>-0.015410</td>\n",
       "      <td>NaN</td>\n",
       "    </tr>\n",
       "    <tr>\n",
       "      <th>1514765040</th>\n",
       "      <td>0</td>\n",
       "      <td>14.0</td>\n",
       "      <td>8.5009</td>\n",
       "      <td>8.5066</td>\n",
       "      <td>8.4744</td>\n",
       "      <td>8.5009</td>\n",
       "      <td>125.80</td>\n",
       "      <td>8.479810</td>\n",
       "      <td>-0.012524</td>\n",
       "      <td>NaN</td>\n",
       "    </tr>\n",
       "    <tr>\n",
       "      <th>1514765100</th>\n",
       "      <td>0</td>\n",
       "      <td>5.0</td>\n",
       "      <td>8.5007</td>\n",
       "      <td>8.5007</td>\n",
       "      <td>8.4560</td>\n",
       "      <td>8.4560</td>\n",
       "      <td>125.01</td>\n",
       "      <td>8.458435</td>\n",
       "      <td>-0.005940</td>\n",
       "      <td>NaN</td>\n",
       "    </tr>\n",
       "    <tr>\n",
       "      <th>1514765160</th>\n",
       "      <td>0</td>\n",
       "      <td>89.0</td>\n",
       "      <td>8.4560</td>\n",
       "      <td>8.4560</td>\n",
       "      <td>8.3999</td>\n",
       "      <td>8.4000</td>\n",
       "      <td>3765.25</td>\n",
       "      <td>8.403468</td>\n",
       "      <td>-0.005455</td>\n",
       "      <td>NaN</td>\n",
       "    </tr>\n",
       "    <tr>\n",
       "      <th>1514765220</th>\n",
       "      <td>0</td>\n",
       "      <td>20.0</td>\n",
       "      <td>8.4000</td>\n",
       "      <td>8.4000</td>\n",
       "      <td>8.3800</td>\n",
       "      <td>8.3958</td>\n",
       "      <td>827.17</td>\n",
       "      <td>8.390564</td>\n",
       "      <td>-0.000644</td>\n",
       "      <td>NaN</td>\n",
       "    </tr>\n",
       "    <tr>\n",
       "      <th>1514765280</th>\n",
       "      <td>0</td>\n",
       "      <td>25.0</td>\n",
       "      <td>8.3800</td>\n",
       "      <td>8.4544</td>\n",
       "      <td>8.3800</td>\n",
       "      <td>8.3804</td>\n",
       "      <td>370.04</td>\n",
       "      <td>8.390332</td>\n",
       "      <td>-0.003580</td>\n",
       "      <td>NaN</td>\n",
       "    </tr>\n",
       "    <tr>\n",
       "      <th>1514765340</th>\n",
       "      <td>0</td>\n",
       "      <td>16.0</td>\n",
       "      <td>8.3999</td>\n",
       "      <td>8.4519</td>\n",
       "      <td>8.3800</td>\n",
       "      <td>8.3800</td>\n",
       "      <td>1428.91</td>\n",
       "      <td>8.400632</td>\n",
       "      <td>-0.005421</td>\n",
       "      <td>NaN</td>\n",
       "    </tr>\n",
       "    <tr>\n",
       "      <th>1514765400</th>\n",
       "      <td>0</td>\n",
       "      <td>1.0</td>\n",
       "      <td>8.3932</td>\n",
       "      <td>8.3932</td>\n",
       "      <td>8.3932</td>\n",
       "      <td>8.3932</td>\n",
       "      <td>12.00</td>\n",
       "      <td>8.393200</td>\n",
       "      <td>-0.005123</td>\n",
       "      <td>NaN</td>\n",
       "    </tr>\n",
       "    <tr>\n",
       "      <th>1514765460</th>\n",
       "      <td>0</td>\n",
       "      <td>8.0</td>\n",
       "      <td>8.3932</td>\n",
       "      <td>8.4199</td>\n",
       "      <td>8.3794</td>\n",
       "      <td>8.3931</td>\n",
       "      <td>229.39</td>\n",
       "      <td>8.393178</td>\n",
       "      <td>-0.002974</td>\n",
       "      <td>NaN</td>\n",
       "    </tr>\n",
       "    <tr>\n",
       "      <th>1514765520</th>\n",
       "      <td>0</td>\n",
       "      <td>4.0</td>\n",
       "      <td>8.3821</td>\n",
       "      <td>8.3821</td>\n",
       "      <td>8.3701</td>\n",
       "      <td>8.3726</td>\n",
       "      <td>114.80</td>\n",
       "      <td>8.370161</td>\n",
       "      <td>-0.008575</td>\n",
       "      <td>NaN</td>\n",
       "    </tr>\n",
       "    <tr>\n",
       "      <th>1514765580</th>\n",
       "      <td>0</td>\n",
       "      <td>24.0</td>\n",
       "      <td>8.3991</td>\n",
       "      <td>8.4559</td>\n",
       "      <td>8.3573</td>\n",
       "      <td>8.4200</td>\n",
       "      <td>604.39</td>\n",
       "      <td>8.413630</td>\n",
       "      <td>-0.007573</td>\n",
       "      <td>NaN</td>\n",
       "    </tr>\n",
       "    <tr>\n",
       "      <th>1514765640</th>\n",
       "      <td>0</td>\n",
       "      <td>10.0</td>\n",
       "      <td>8.4559</td>\n",
       "      <td>8.4560</td>\n",
       "      <td>8.4039</td>\n",
       "      <td>8.4114</td>\n",
       "      <td>1526.43</td>\n",
       "      <td>8.445954</td>\n",
       "      <td>-0.005988</td>\n",
       "      <td>NaN</td>\n",
       "    </tr>\n",
       "    <tr>\n",
       "      <th>1514765700</th>\n",
       "      <td>0</td>\n",
       "      <td>23.0</td>\n",
       "      <td>8.4315</td>\n",
       "      <td>8.4499</td>\n",
       "      <td>8.3920</td>\n",
       "      <td>8.4003</td>\n",
       "      <td>1431.53</td>\n",
       "      <td>8.410365</td>\n",
       "      <td>-0.006226</td>\n",
       "      <td>NaN</td>\n",
       "    </tr>\n",
       "    <tr>\n",
       "      <th>1514765760</th>\n",
       "      <td>0</td>\n",
       "      <td>50.0</td>\n",
       "      <td>8.4297</td>\n",
       "      <td>8.4297</td>\n",
       "      <td>8.4000</td>\n",
       "      <td>8.4000</td>\n",
       "      <td>1069.65</td>\n",
       "      <td>8.400240</td>\n",
       "      <td>-0.002288</td>\n",
       "      <td>-0.015329</td>\n",
       "    </tr>\n",
       "    <tr>\n",
       "      <th>1514765820</th>\n",
       "      <td>0</td>\n",
       "      <td>32.0</td>\n",
       "      <td>8.4040</td>\n",
       "      <td>8.4220</td>\n",
       "      <td>8.3919</td>\n",
       "      <td>8.3919</td>\n",
       "      <td>1690.45</td>\n",
       "      <td>8.400126</td>\n",
       "      <td>-0.000287</td>\n",
       "      <td>-0.014195</td>\n",
       "    </tr>\n",
       "    <tr>\n",
       "      <th>1514765880</th>\n",
       "      <td>0</td>\n",
       "      <td>29.0</td>\n",
       "      <td>8.4000</td>\n",
       "      <td>8.4497</td>\n",
       "      <td>8.3500</td>\n",
       "      <td>8.3501</td>\n",
       "      <td>1481.91</td>\n",
       "      <td>8.383027</td>\n",
       "      <td>-0.002640</td>\n",
       "      <td>-0.014021</td>\n",
       "    </tr>\n",
       "    <tr>\n",
       "      <th>1514765940</th>\n",
       "      <td>0</td>\n",
       "      <td>3.0</td>\n",
       "      <td>8.3502</td>\n",
       "      <td>8.3699</td>\n",
       "      <td>8.3502</td>\n",
       "      <td>8.3699</td>\n",
       "      <td>150.14</td>\n",
       "      <td>8.353100</td>\n",
       "      <td>-0.000263</td>\n",
       "      <td>-0.015055</td>\n",
       "    </tr>\n",
       "    <tr>\n",
       "      <th>1514766000</th>\n",
       "      <td>0</td>\n",
       "      <td>18.0</td>\n",
       "      <td>8.3699</td>\n",
       "      <td>8.3900</td>\n",
       "      <td>8.3501</td>\n",
       "      <td>8.3501</td>\n",
       "      <td>316.41</td>\n",
       "      <td>8.350185</td>\n",
       "      <td>0.001174</td>\n",
       "      <td>-0.012880</td>\n",
       "    </tr>\n",
       "  </tbody>\n",
       "</table>\n",
       "</div>"
      ],
      "text/plain": [
       "            Asset_ID  Count    Open    High     Low   Close   Volume  \\\n",
       "timestamp                                                              \n",
       "1514764860         0    5.0  8.5300  8.5300  8.5300  8.5300    78.38   \n",
       "1514764920         0    7.0  8.5300  8.5300  8.5145  8.5145    71.39   \n",
       "1514764980         0   45.0  8.5065  8.5299  8.4848  8.4848  1546.82   \n",
       "1514765040         0   14.0  8.5009  8.5066  8.4744  8.5009   125.80   \n",
       "1514765100         0    5.0  8.5007  8.5007  8.4560  8.4560   125.01   \n",
       "1514765160         0   89.0  8.4560  8.4560  8.3999  8.4000  3765.25   \n",
       "1514765220         0   20.0  8.4000  8.4000  8.3800  8.3958   827.17   \n",
       "1514765280         0   25.0  8.3800  8.4544  8.3800  8.3804   370.04   \n",
       "1514765340         0   16.0  8.3999  8.4519  8.3800  8.3800  1428.91   \n",
       "1514765400         0    1.0  8.3932  8.3932  8.3932  8.3932    12.00   \n",
       "1514765460         0    8.0  8.3932  8.4199  8.3794  8.3931   229.39   \n",
       "1514765520         0    4.0  8.3821  8.3821  8.3701  8.3726   114.80   \n",
       "1514765580         0   24.0  8.3991  8.4559  8.3573  8.4200   604.39   \n",
       "1514765640         0   10.0  8.4559  8.4560  8.4039  8.4114  1526.43   \n",
       "1514765700         0   23.0  8.4315  8.4499  8.3920  8.4003  1431.53   \n",
       "1514765760         0   50.0  8.4297  8.4297  8.4000  8.4000  1069.65   \n",
       "1514765820         0   32.0  8.4040  8.4220  8.3919  8.3919  1690.45   \n",
       "1514765880         0   29.0  8.4000  8.4497  8.3500  8.3501  1481.91   \n",
       "1514765940         0    3.0  8.3502  8.3699  8.3502  8.3699   150.14   \n",
       "1514766000         0   18.0  8.3699  8.3900  8.3501  8.3501   316.41   \n",
       "\n",
       "                VWAP    Target  log_return  \n",
       "timestamp                                   \n",
       "1514764860  8.530000 -0.014399         NaN  \n",
       "1514764920  8.520215 -0.015875         NaN  \n",
       "1514764980  8.501394 -0.015410         NaN  \n",
       "1514765040  8.479810 -0.012524         NaN  \n",
       "1514765100  8.458435 -0.005940         NaN  \n",
       "1514765160  8.403468 -0.005455         NaN  \n",
       "1514765220  8.390564 -0.000644         NaN  \n",
       "1514765280  8.390332 -0.003580         NaN  \n",
       "1514765340  8.400632 -0.005421         NaN  \n",
       "1514765400  8.393200 -0.005123         NaN  \n",
       "1514765460  8.393178 -0.002974         NaN  \n",
       "1514765520  8.370161 -0.008575         NaN  \n",
       "1514765580  8.413630 -0.007573         NaN  \n",
       "1514765640  8.445954 -0.005988         NaN  \n",
       "1514765700  8.410365 -0.006226         NaN  \n",
       "1514765760  8.400240 -0.002288   -0.015329  \n",
       "1514765820  8.400126 -0.000287   -0.014195  \n",
       "1514765880  8.383027 -0.002640   -0.014021  \n",
       "1514765940  8.353100 -0.000263   -0.015055  \n",
       "1514766000  8.350185  0.001174   -0.012880  "
      ]
     },
     "execution_count": 27,
     "metadata": {},
     "output_type": "execute_result"
    }
   ],
   "source": [
    "bin_coin.head(20)"
   ]
  },
  {
   "cell_type": "code",
   "execution_count": null,
   "id": "c4fc9946",
   "metadata": {},
   "outputs": [],
   "source": []
  },
  {
   "cell_type": "code",
   "execution_count": 28,
   "id": "71a3a235",
   "metadata": {},
   "outputs": [
    {
     "name": "stdout",
     "output_type": "stream",
     "text": [
      "2021-06-21 00:01:00\n"
     ]
    }
   ],
   "source": [
    "# check time point\n",
    "print(datetime.utcfromtimestamp(bin_coin.index[1824480]))"
   ]
  },
  {
   "cell_type": "code",
   "execution_count": 29,
   "id": "76e20d7b",
   "metadata": {},
   "outputs": [],
   "source": [
    "# Split training and testing data for Binance Coin\n",
    "bin_coin_train = bin_coin[1298880:1824480] # Start from 2020-06-21 00:01:00 to 2021-06-21 00:00:00\n",
    "bin_coin_test = bin_coin[1824480:] # Start from 2021-06-21 00:01:00 to 2021-09-21 00:00:00\n",
    "X_bin_coin_train = bin_coin_train.log_return.values.reshape(-1, 1)\n",
    "X_bin_coin_test = bin_coin_test.log_return.values.reshape(-1, 1)\n",
    "y_bin_coin_train = bin_coin_train.Target\n",
    "y_bin_coin_test = bin_coin_test.Target"
   ]
  },
  {
   "cell_type": "code",
   "execution_count": 30,
   "id": "1dc7df35",
   "metadata": {},
   "outputs": [
    {
     "name": "stdout",
     "output_type": "stream",
     "text": [
      "XGBRegressor(base_score=None, booster=None, callbacks=None,\n",
      "             colsample_bylevel=None, colsample_bynode=None,\n",
      "             colsample_bytree=None, early_stopping_rounds=None,\n",
      "             enable_categorical=False, eval_metric=None, gamma=None,\n",
      "             gpu_id=None, grow_policy=None, importance_type=None,\n",
      "             interaction_constraints=None, learning_rate=None, max_bin=None,\n",
      "             max_cat_to_onehot=None, max_delta_step=None, max_depth=None,\n",
      "             max_leaves=None, min_child_weight=None, missing=nan,\n",
      "             monotone_constraints=None, n_estimators=100, n_jobs=None,\n",
      "             num_parallel_tree=None, predictor=None, random_state=None,\n",
      "             reg_alpha=None, reg_lambda=None, ...)\n"
     ]
    }
   ],
   "source": [
    "# define model\n",
    "model = xgb.XGBRegressor(verbosity=0)\n",
    "print(model)\n"
   ]
  },
  {
   "cell_type": "code",
   "execution_count": 31,
   "id": "fc7db851",
   "metadata": {},
   "outputs": [
    {
     "data": {
      "text/plain": [
       "RepeatedKFold(n_repeats=3, n_splits=10, random_state=1)"
      ]
     },
     "execution_count": 31,
     "metadata": {},
     "output_type": "execute_result"
    }
   ],
   "source": [
    "# define model evaluation method\n",
    "cv = RepeatedKFold(n_splits=10, n_repeats=3, random_state=1)\n",
    "cv"
   ]
  },
  {
   "cell_type": "code",
   "execution_count": 32,
   "id": "dc162876",
   "metadata": {},
   "outputs": [
    {
     "data": {
      "text/plain": [
       "XGBRegressor(base_score=0.5, booster='gbtree', callbacks=None,\n",
       "             colsample_bylevel=1, colsample_bynode=1, colsample_bytree=1,\n",
       "             early_stopping_rounds=None, enable_categorical=False,\n",
       "             eval_metric=None, gamma=0, gpu_id=-1, grow_policy='depthwise',\n",
       "             importance_type=None, interaction_constraints='',\n",
       "             learning_rate=0.300000012, max_bin=256, max_cat_to_onehot=4,\n",
       "             max_delta_step=0, max_depth=6, max_leaves=0, min_child_weight=1,\n",
       "             missing=nan, monotone_constraints='()', n_estimators=100, n_jobs=0,\n",
       "             num_parallel_tree=1, predictor='auto', random_state=0, reg_alpha=0,\n",
       "             reg_lambda=1, ...)"
      ]
     },
     "execution_count": 32,
     "metadata": {},
     "output_type": "execute_result"
    }
   ],
   "source": [
    "model.fit(X_bin_coin_train, y_bin_coin_train)"
   ]
  },
  {
   "cell_type": "code",
   "execution_count": 33,
   "id": "bdd90857",
   "metadata": {},
   "outputs": [
    {
     "name": "stdout",
     "output_type": "stream",
     "text": [
      "Training score:  0.04470808267906512\n"
     ]
    }
   ],
   "source": [
    "score = model.score(X_bin_coin_train, y_bin_coin_train)  \n",
    "print(\"Training score: \", score)"
   ]
  },
  {
   "cell_type": "code",
   "execution_count": 34,
   "id": "723935d1",
   "metadata": {},
   "outputs": [
    {
     "name": "stdout",
     "output_type": "stream",
     "text": [
      "Mean cross-validation score: -0.02\n"
     ]
    }
   ],
   "source": [
    "scores = cross_val_score(model, X_bin_coin_train,y_bin_coin_train,cv=10)\n",
    "print(\"Mean cross-validation score: %.2f\" % scores.mean())"
   ]
  },
  {
   "cell_type": "code",
   "execution_count": 35,
   "id": "1cbba538",
   "metadata": {},
   "outputs": [
    {
     "name": "stdout",
     "output_type": "stream",
     "text": [
      "MSE: 0.00\n",
      "RMSE: 0.00\n"
     ]
    }
   ],
   "source": [
    "ypred = model.predict(X_bin_coin_test)\n",
    "mse = mean_squared_error(y_bin_coin_test, ypred)\n",
    "print(\"MSE: %.2f\" % mse)\n",
    "print(\"RMSE: %.2f\" % (mse**(1/2.0)))"
   ]
  },
  {
   "cell_type": "code",
   "execution_count": 36,
   "id": "3762f9f5",
   "metadata": {},
   "outputs": [
    {
     "data": {
      "image/png": "[encoded data removed]",
      "text/plain": [
       "<Figure size 432x288 with 1 Axes>"
      ]
     },
     "metadata": {
      "needs_background": "light"
     },
     "output_type": "display_data"
    }
   ],
   "source": [
    "x_ax = range(len(y_bin_coin_test))\n",
    "plt.plot(x_ax, y_bin_coin_test, label=\"Target\")\n",
    "plt.plot(x_ax, ypred, label=\"Data\")\n",
    "plt.title(\"CryptoCurrency\")\n",
    "plt.legend()\n",
    "plt.show()"
   ]
  },
  {
   "cell_type": "code",
   "execution_count": 37,
   "id": "26bbf568",
   "metadata": {},
   "outputs": [],
   "source": [
    "# Split training and testing data for Bitcoin\n",
    "bit_train = bit[1298880:1824480] # Start from 2020-06-21 00:01:00 to 2021-06-21 00:00:00\n",
    "bit_test = bit[1824480:] # Start from 2021-06-21 00:01:00 to 2021-09-21 00:00:00\n",
    "X_bit_train = bit_train.log_return.values.reshape(-1, 1)\n",
    "X_bit_test = bit_test.log_return.values.reshape(-1, 1)\n",
    "y_bit_train = bit_train.Target\n",
    "y_bit_test = bit_test.Target"
   ]
  },
  {
   "cell_type": "code",
   "execution_count": 38,
   "id": "73becbbf",
   "metadata": {},
   "outputs": [
    {
     "name": "stdout",
     "output_type": "stream",
     "text": [
      "XGBRegressor(base_score=None, booster=None, callbacks=None,\n",
      "             colsample_bylevel=None, colsample_bynode=None,\n",
      "             colsample_bytree=None, early_stopping_rounds=None,\n",
      "             enable_categorical=False, eval_metric=None, gamma=None,\n",
      "             gpu_id=None, grow_policy=None, importance_type=None,\n",
      "             interaction_constraints=None, learning_rate=None, max_bin=None,\n",
      "             max_cat_to_onehot=None, max_delta_step=None, max_depth=None,\n",
      "             max_leaves=None, min_child_weight=None, missing=nan,\n",
      "             monotone_constraints=None, n_estimators=100, n_jobs=None,\n",
      "             num_parallel_tree=None, predictor=None, random_state=None,\n",
      "             reg_alpha=None, reg_lambda=None, ...)\n"
     ]
    }
   ],
   "source": [
    "# define model\n",
    "model = xgb.XGBRegressor(verbosity=0)\n",
    "print(model)\n"
   ]
  },
  {
   "cell_type": "code",
   "execution_count": 39,
   "id": "46a98108",
   "metadata": {},
   "outputs": [
    {
     "data": {
      "text/plain": [
       "RepeatedKFold(n_repeats=3, n_splits=10, random_state=1)"
      ]
     },
     "execution_count": 39,
     "metadata": {},
     "output_type": "execute_result"
    }
   ],
   "source": [
    "# define model evaluation method\n",
    "cv = RepeatedKFold(n_splits=10, n_repeats=3, random_state=1)\n",
    "cv"
   ]
  },
  {
   "cell_type": "code",
   "execution_count": 40,
   "id": "701ad04d",
   "metadata": {},
   "outputs": [
    {
     "data": {
      "text/plain": [
       "XGBRegressor(base_score=0.5, booster='gbtree', callbacks=None,\n",
       "             colsample_bylevel=1, colsample_bynode=1, colsample_bytree=1,\n",
       "             early_stopping_rounds=None, enable_categorical=False,\n",
       "             eval_metric=None, gamma=0, gpu_id=-1, grow_policy='depthwise',\n",
       "             importance_type=None, interaction_constraints='',\n",
       "             learning_rate=0.300000012, max_bin=256, max_cat_to_onehot=4,\n",
       "             max_delta_step=0, max_depth=6, max_leaves=0, min_child_weight=1,\n",
       "             missing=nan, monotone_constraints='()', n_estimators=100, n_jobs=0,\n",
       "             num_parallel_tree=1, predictor='auto', random_state=0, reg_alpha=0,\n",
       "             reg_lambda=1, ...)"
      ]
     },
     "execution_count": 40,
     "metadata": {},
     "output_type": "execute_result"
    }
   ],
   "source": [
    "model.fit(X_bit_train, y_bit_train)"
   ]
  },
  {
   "cell_type": "code",
   "execution_count": 41,
   "id": "458f8f7d",
   "metadata": {},
   "outputs": [
    {
     "name": "stdout",
     "output_type": "stream",
     "text": [
      "Training score:  0.05473592597160171\n"
     ]
    }
   ],
   "source": [
    "score = model.score(X_bit_train, y_bit_train)  \n",
    "print(\"Training score: \", score)"
   ]
  },
  {
   "cell_type": "code",
   "execution_count": 42,
   "id": "b74f08a0",
   "metadata": {},
   "outputs": [
    {
     "name": "stdout",
     "output_type": "stream",
     "text": [
      "Mean cross-validation score: -0.03\n"
     ]
    }
   ],
   "source": [
    "scores = cross_val_score(model, X_bit_train, y_bit_train,cv=10)\n",
    "print(\"Mean cross-validation score: %.2f\" % scores.mean())"
   ]
  },
  {
   "cell_type": "code",
   "execution_count": 43,
   "id": "ddbb88dc",
   "metadata": {},
   "outputs": [
    {
     "name": "stdout",
     "output_type": "stream",
     "text": [
      "MSE: 0.00\n",
      "RMSE: 0.00\n"
     ]
    }
   ],
   "source": [
    "ypred = model.predict(X_bit_test)\n",
    "mse = mean_squared_error(y_bit_test, ypred)\n",
    "print(\"MSE: %.2f\" % mse)\n",
    "print(\"RMSE: %.2f\" % (mse**(1/2.0)))"
   ]
  },
  {
   "cell_type": "code",
   "execution_count": 44,
   "id": "26fb8a55",
   "metadata": {},
   "outputs": [
    {
     "data": {
      "image/png": "[encoded data removed]",
      "text/plain": [
       "<Figure size 432x288 with 1 Axes>"
      ]
     },
     "metadata": {
      "needs_background": "light"
     },
     "output_type": "display_data"
    }
   ],
   "source": [
    "x_ax = range(len(y_bit_test))\n",
    "plt.plot(x_ax, y_bit_test, label=\"Target\")\n",
    "plt.plot(x_ax, ypred, label=\"Data\")\n",
    "plt.title(\"CryptoCurrency\")\n",
    "plt.legend()\n",
    "plt.show()"
   ]
  },
  {
   "cell_type": "code",
   "execution_count": 45,
   "id": "220d1a14",
   "metadata": {},
   "outputs": [],
   "source": [
    "# Split training and testing data for EOS.IO\n",
    "eos_train = eos[1298880:1824480] # Start from 2020-06-21 00:01:00 to 2021-06-21 00:00:00\n",
    "eos_test = eos[1824480:] # Start from 2021-06-21 00:01:00 to 2021-09-21 00:00:00\n",
    "X_eos_train = eos_train.log_return.values.reshape(-1, 1)\n",
    "X_eos_test = eos_test.log_return.values.reshape(-1, 1)\n",
    "y_eos_train = eos_train.Target\n",
    "y_eos_test = eos_test.Target"
   ]
  },
  {
   "cell_type": "code",
   "execution_count": 46,
   "id": "ddfc86c0",
   "metadata": {},
   "outputs": [
    {
     "name": "stdout",
     "output_type": "stream",
     "text": [
      "XGBRegressor(base_score=None, booster=None, callbacks=None,\n",
      "             colsample_bylevel=None, colsample_bynode=None,\n",
      "             colsample_bytree=None, early_stopping_rounds=None,\n",
      "             enable_categorical=False, eval_metric=None, gamma=None,\n",
      "             gpu_id=None, grow_policy=None, importance_type=None,\n",
      "             interaction_constraints=None, learning_rate=None, max_bin=None,\n",
      "             max_cat_to_onehot=None, max_delta_step=None, max_depth=None,\n",
      "             max_leaves=None, min_child_weight=None, missing=nan,\n",
      "             monotone_constraints=None, n_estimators=100, n_jobs=None,\n",
      "             num_parallel_tree=None, predictor=None, random_state=None,\n",
      "             reg_alpha=None, reg_lambda=None, ...)\n"
     ]
    }
   ],
   "source": [
    "# define model\n",
    "model = xgb.XGBRegressor(verbosity=0)\n",
    "print(model)\n"
   ]
  },
  {
   "cell_type": "code",
   "execution_count": 47,
   "id": "176b5c2c",
   "metadata": {},
   "outputs": [
    {
     "data": {
      "text/plain": [
       "RepeatedKFold(n_repeats=3, n_splits=10, random_state=1)"
      ]
     },
     "execution_count": 47,
     "metadata": {},
     "output_type": "execute_result"
    }
   ],
   "source": [
    "# define model evaluation method\n",
    "cv = RepeatedKFold(n_splits=10, n_repeats=3, random_state=1)\n",
    "cv"
   ]
  },
  {
   "cell_type": "code",
   "execution_count": 48,
   "id": "c9b7c939",
   "metadata": {},
   "outputs": [
    {
     "data": {
      "text/plain": [
       "XGBRegressor(base_score=0.5, booster='gbtree', callbacks=None,\n",
       "             colsample_bylevel=1, colsample_bynode=1, colsample_bytree=1,\n",
       "             early_stopping_rounds=None, enable_categorical=False,\n",
       "             eval_metric=None, gamma=0, gpu_id=-1, grow_policy='depthwise',\n",
       "             importance_type=None, interaction_constraints='',\n",
       "             learning_rate=0.300000012, max_bin=256, max_cat_to_onehot=4,\n",
       "             max_delta_step=0, max_depth=6, max_leaves=0, min_child_weight=1,\n",
       "             missing=nan, monotone_constraints='()', n_estimators=100, n_jobs=0,\n",
       "             num_parallel_tree=1, predictor='auto', random_state=0, reg_alpha=0,\n",
       "             reg_lambda=1, ...)"
      ]
     },
     "execution_count": 48,
     "metadata": {},
     "output_type": "execute_result"
    }
   ],
   "source": [
    "model.fit(X_eos_train, y_eos_train)"
   ]
  },
  {
   "cell_type": "code",
   "execution_count": 49,
   "id": "465686a9",
   "metadata": {},
   "outputs": [
    {
     "name": "stdout",
     "output_type": "stream",
     "text": [
      "Training score:  0.06313246154817986\n"
     ]
    }
   ],
   "source": [
    "score = model.score(X_eos_train, y_eos_train)  \n",
    "print(\"Training score: \", score)"
   ]
  },
  {
   "cell_type": "code",
   "execution_count": 50,
   "id": "5c2af19c",
   "metadata": {},
   "outputs": [
    {
     "name": "stdout",
     "output_type": "stream",
     "text": [
      "Mean cross-validation score: -0.01\n"
     ]
    }
   ],
   "source": [
    "scores = cross_val_score(model, X_eos_train, y_eos_train,cv=10)\n",
    "print(\"Mean cross-validation score: %.2f\" % scores.mean())"
   ]
  },
  {
   "cell_type": "code",
   "execution_count": 51,
   "id": "45f5ce4d",
   "metadata": {},
   "outputs": [
    {
     "name": "stdout",
     "output_type": "stream",
     "text": [
      "MSE: 0.00\n",
      "RMSE: 0.00\n"
     ]
    }
   ],
   "source": [
    "ypred = model.predict(X_eos_test)\n",
    "mse = mean_squared_error(y_eos_test, ypred)\n",
    "print(\"MSE: %.2f\" % mse)\n",
    "print(\"RMSE: %.2f\" % (mse**(1/2.0)))"
   ]
  },
  {
   "cell_type": "code",
   "execution_count": 52,
   "id": "fc6becd2",
   "metadata": {},
   "outputs": [
    {
     "data": {
      "image/png": "[encoded data removed]",
      "text/plain": [
       "<Figure size 432x288 with 1 Axes>"
      ]
     },
     "metadata": {
      "needs_background": "light"
     },
     "output_type": "display_data"
    }
   ],
   "source": [
    "x_ax = range(len(y_eos_test))\n",
    "plt.plot(x_ax, y_eos_test, label=\"Target\")\n",
    "plt.plot(x_ax, ypred, label=\"Data\")\n",
    "plt.title(\"CryptoCurrency\")\n",
    "plt.legend()\n",
    "plt.show()"
   ]
  },
  {
   "cell_type": "code",
   "execution_count": 53,
   "id": "e0c54c77",
   "metadata": {},
   "outputs": [],
   "source": [
    "# Split training and testing data for Ethereum\n",
    "eth_train = eth[1298880:1824480] # Start from 2020-06-21 00:01:00 to 2021-06-21 00:00:00\n",
    "eth_test = eth[1824480:] # Start from 2021-06-21 00:01:00 to 2021-09-21 00:00:00\n",
    "X_eth_train = eth_train.log_return.values.reshape(-1, 1)\n",
    "X_eth_test = eth_test.log_return.values.reshape(-1, 1)\n",
    "y_eth_train = eth_train.Target\n",
    "y_eth_test = eth_test.Target"
   ]
  },
  {
   "cell_type": "code",
   "execution_count": 54,
   "id": "9f7c934d",
   "metadata": {},
   "outputs": [
    {
     "name": "stdout",
     "output_type": "stream",
     "text": [
      "XGBRegressor(base_score=None, booster=None, callbacks=None,\n",
      "             colsample_bylevel=None, colsample_bynode=None,\n",
      "             colsample_bytree=None, early_stopping_rounds=None,\n",
      "             enable_categorical=False, eval_metric=None, gamma=None,\n",
      "             gpu_id=None, grow_policy=None, importance_type=None,\n",
      "             interaction_constraints=None, learning_rate=None, max_bin=None,\n",
      "             max_cat_to_onehot=None, max_delta_step=None, max_depth=None,\n",
      "             max_leaves=None, min_child_weight=None, missing=nan,\n",
      "             monotone_constraints=None, n_estimators=100, n_jobs=None,\n",
      "             num_parallel_tree=None, predictor=None, random_state=None,\n",
      "             reg_alpha=None, reg_lambda=None, ...)\n"
     ]
    }
   ],
   "source": [
    "# define model\n",
    "model = xgb.XGBRegressor(verbosity=0)\n",
    "print(model)\n"
   ]
  },
  {
   "cell_type": "code",
   "execution_count": 55,
   "id": "d93e1ce0",
   "metadata": {},
   "outputs": [
    {
     "data": {
      "text/plain": [
       "RepeatedKFold(n_repeats=3, n_splits=10, random_state=1)"
      ]
     },
     "execution_count": 55,
     "metadata": {},
     "output_type": "execute_result"
    }
   ],
   "source": [
    "# define model evaluation method\n",
    "cv = RepeatedKFold(n_splits=10, n_repeats=3, random_state=1)\n",
    "cv"
   ]
  },
  {
   "cell_type": "code",
   "execution_count": 56,
   "id": "0451e456",
   "metadata": {},
   "outputs": [
    {
     "data": {
      "text/plain": [
       "XGBRegressor(base_score=0.5, booster='gbtree', callbacks=None,\n",
       "             colsample_bylevel=1, colsample_bynode=1, colsample_bytree=1,\n",
       "             early_stopping_rounds=None, enable_categorical=False,\n",
       "             eval_metric=None, gamma=0, gpu_id=-1, grow_policy='depthwise',\n",
       "             importance_type=None, interaction_constraints='',\n",
       "             learning_rate=0.300000012, max_bin=256, max_cat_to_onehot=4,\n",
       "             max_delta_step=0, max_depth=6, max_leaves=0, min_child_weight=1,\n",
       "             missing=nan, monotone_constraints='()', n_estimators=100, n_jobs=0,\n",
       "             num_parallel_tree=1, predictor='auto', random_state=0, reg_alpha=0,\n",
       "             reg_lambda=1, ...)"
      ]
     },
     "execution_count": 56,
     "metadata": {},
     "output_type": "execute_result"
    }
   ],
   "source": [
    "model.fit(X_eth_train, y_eth_train)"
   ]
  },
  {
   "cell_type": "code",
   "execution_count": 57,
   "id": "45533663",
   "metadata": {},
   "outputs": [
    {
     "name": "stdout",
     "output_type": "stream",
     "text": [
      "Training score:  0.03839483095298413\n"
     ]
    }
   ],
   "source": [
    "score = model.score(X_eth_train, y_eth_train)  \n",
    "print(\"Training score: \", score)"
   ]
  },
  {
   "cell_type": "code",
   "execution_count": 58,
   "id": "6547caee",
   "metadata": {},
   "outputs": [
    {
     "name": "stdout",
     "output_type": "stream",
     "text": [
      "Mean cross-validation score: -0.01\n"
     ]
    }
   ],
   "source": [
    "scores = cross_val_score(model, X_eth_train, y_eth_train,cv=10)\n",
    "print(\"Mean cross-validation score: %.2f\" % scores.mean())"
   ]
  },
  {
   "cell_type": "code",
   "execution_count": 59,
   "id": "897005fe",
   "metadata": {},
   "outputs": [
    {
     "name": "stdout",
     "output_type": "stream",
     "text": [
      "MSE: 0.00\n",
      "RMSE: 0.00\n"
     ]
    }
   ],
   "source": [
    "ypred = model.predict(X_eth_test)\n",
    "mse = mean_squared_error(y_eth_test, ypred)\n",
    "print(\"MSE: %.2f\" % mse)\n",
    "print(\"RMSE: %.2f\" % (mse**(1/2.0)))"
   ]
  },
  {
   "cell_type": "code",
   "execution_count": 60,
   "id": "0d359300",
   "metadata": {},
   "outputs": [
    {
     "data": {
      "image/png": "[encoded data removed]",
      "text/plain": [
       "<Figure size 432x288 with 1 Axes>"
      ]
     },
     "metadata": {
      "needs_background": "light"
     },
     "output_type": "display_data"
    }
   ],
   "source": [
    "x_ax = range(len(y_eth_test))\n",
    "plt.plot(x_ax, y_eth_test, label=\"Target\")\n",
    "plt.plot(x_ax, ypred, label=\"Data\")\n",
    "plt.title(\"CryptoCurrency\")\n",
    "plt.legend()\n",
    "plt.show()"
   ]
  },
  {
   "cell_type": "code",
   "execution_count": 61,
   "id": "f1a732dd",
   "metadata": {},
   "outputs": [],
   "source": [
    "# Split training and testing data for Litecoin\n",
    "lite_train = lite[1298880:1824480] # Start from 2020-06-21 00:01:00 to 2021-06-21 00:00:00\n",
    "lite_test = lite[1824480:] # Start from 2021-06-21 00:01:00 to 2021-09-21 00:00:00\n",
    "X_lite_train = lite_train.log_return.values.reshape(-1, 1)\n",
    "X_lite_test = lite_test.log_return.values.reshape(-1, 1)\n",
    "y_lite_train = lite_train.Target\n",
    "y_lite_test = lite_test.Target"
   ]
  },
  {
   "cell_type": "code",
   "execution_count": 62,
   "id": "dc23199e",
   "metadata": {},
   "outputs": [
    {
     "name": "stdout",
     "output_type": "stream",
     "text": [
      "XGBRegressor(base_score=None, booster=None, callbacks=None,\n",
      "             colsample_bylevel=None, colsample_bynode=None,\n",
      "             colsample_bytree=None, early_stopping_rounds=None,\n",
      "             enable_categorical=False, eval_metric=None, gamma=None,\n",
      "             gpu_id=None, grow_policy=None, importance_type=None,\n",
      "             interaction_constraints=None, learning_rate=None, max_bin=None,\n",
      "             max_cat_to_onehot=None, max_delta_step=None, max_depth=None,\n",
      "             max_leaves=None, min_child_weight=None, missing=nan,\n",
      "             monotone_constraints=None, n_estimators=100, n_jobs=None,\n",
      "             num_parallel_tree=None, predictor=None, random_state=None,\n",
      "             reg_alpha=None, reg_lambda=None, ...)\n"
     ]
    }
   ],
   "source": [
    "# define model\n",
    "model = xgb.XGBRegressor(verbosity=0)\n",
    "print(model)\n"
   ]
  },
  {
   "cell_type": "code",
   "execution_count": 63,
   "id": "bb491209",
   "metadata": {},
   "outputs": [
    {
     "data": {
      "text/plain": [
       "RepeatedKFold(n_repeats=3, n_splits=10, random_state=1)"
      ]
     },
     "execution_count": 63,
     "metadata": {},
     "output_type": "execute_result"
    }
   ],
   "source": [
    "# define model evaluation method\n",
    "cv = RepeatedKFold(n_splits=10, n_repeats=3, random_state=1)\n",
    "cv\n"
   ]
  },
  {
   "cell_type": "code",
   "execution_count": 64,
   "id": "776f9c8e",
   "metadata": {},
   "outputs": [
    {
     "data": {
      "text/plain": [
       "XGBRegressor(base_score=0.5, booster='gbtree', callbacks=None,\n",
       "             colsample_bylevel=1, colsample_bynode=1, colsample_bytree=1,\n",
       "             early_stopping_rounds=None, enable_categorical=False,\n",
       "             eval_metric=None, gamma=0, gpu_id=-1, grow_policy='depthwise',\n",
       "             importance_type=None, interaction_constraints='',\n",
       "             learning_rate=0.300000012, max_bin=256, max_cat_to_onehot=4,\n",
       "             max_delta_step=0, max_depth=6, max_leaves=0, min_child_weight=1,\n",
       "             missing=nan, monotone_constraints='()', n_estimators=100, n_jobs=0,\n",
       "             num_parallel_tree=1, predictor='auto', random_state=0, reg_alpha=0,\n",
       "             reg_lambda=1, ...)"
      ]
     },
     "execution_count": 64,
     "metadata": {},
     "output_type": "execute_result"
    }
   ],
   "source": [
    "model.fit(X_lite_train , y_lite_train)"
   ]
  },
  {
   "cell_type": "code",
   "execution_count": 65,
   "id": "347715da",
   "metadata": {},
   "outputs": [
    {
     "name": "stdout",
     "output_type": "stream",
     "text": [
      "Training score:  0.044029217853942204\n"
     ]
    }
   ],
   "source": [
    "score = model.score(X_lite_train, y_lite_train)  \n",
    "print(\"Training score: \", score)"
   ]
  },
  {
   "cell_type": "code",
   "execution_count": 66,
   "id": "6e2912d1",
   "metadata": {},
   "outputs": [
    {
     "name": "stdout",
     "output_type": "stream",
     "text": [
      "Mean cross-validation score: -0.02\n"
     ]
    }
   ],
   "source": [
    "scores = cross_val_score(model, X_lite_train, y_lite_train,cv=10)\n",
    "print(\"Mean cross-validation score: %.2f\" % scores.mean())"
   ]
  },
  {
   "cell_type": "code",
   "execution_count": 67,
   "id": "888cd084",
   "metadata": {},
   "outputs": [
    {
     "name": "stdout",
     "output_type": "stream",
     "text": [
      "MSE: 0.00\n",
      "RMSE: 0.00\n"
     ]
    }
   ],
   "source": [
    "ypred = model.predict(X_lite_test)\n",
    "mse = mean_squared_error(y_lite_test, ypred)\n",
    "print(\"MSE: %.2f\" % mse)\n",
    "print(\"RMSE: %.2f\" % (mse**(1/2.0)))"
   ]
  },
  {
   "cell_type": "code",
   "execution_count": 68,
   "id": "b30fce2c",
   "metadata": {},
   "outputs": [
    {
     "data": {
      "image/png": "[encoded data removed]",
      "text/plain": [
       "<Figure size 432x288 with 1 Axes>"
      ]
     },
     "metadata": {
      "needs_background": "light"
     },
     "output_type": "display_data"
    }
   ],
   "source": [
    "x_ax = range(len(y_lite_test))\n",
    "plt.plot(x_ax, y_lite_test, label=\"Target\")\n",
    "plt.plot(x_ax, ypred, label=\"Data\")\n",
    "plt.title(\"CryptoCurrency\")\n",
    "plt.legend()\n",
    "plt.show()"
   ]
  },
  {
   "cell_type": "code",
   "execution_count": 69,
   "id": "faa68c48",
   "metadata": {},
   "outputs": [],
   "source": [
    "# Split training and testing data for Monero\n",
    "mon_train = mon[1298880:1824480] # Start from 2020-06-21 00:01:00 to 2021-06-21 00:00:00\n",
    "mon_test = mon[1824480:] # Start from 2021-06-21 00:01:00 to 2021-09-21 00:00:00\n",
    "X_mon_train = mon_train.log_return.values.reshape(-1, 1)\n",
    "X_mon_test = mon_test.log_return.values.reshape(-1, 1)\n",
    "y_mon_train = mon_train.Target\n",
    "y_mon_test = mon_test.Target"
   ]
  },
  {
   "cell_type": "code",
   "execution_count": 70,
   "id": "14c74838",
   "metadata": {},
   "outputs": [
    {
     "name": "stdout",
     "output_type": "stream",
     "text": [
      "XGBRegressor(base_score=None, booster=None, callbacks=None,\n",
      "             colsample_bylevel=None, colsample_bynode=None,\n",
      "             colsample_bytree=None, early_stopping_rounds=None,\n",
      "             enable_categorical=False, eval_metric=None, gamma=None,\n",
      "             gpu_id=None, grow_policy=None, importance_type=None,\n",
      "             interaction_constraints=None, learning_rate=None, max_bin=None,\n",
      "             max_cat_to_onehot=None, max_delta_step=None, max_depth=None,\n",
      "             max_leaves=None, min_child_weight=None, missing=nan,\n",
      "             monotone_constraints=None, n_estimators=100, n_jobs=None,\n",
      "             num_parallel_tree=None, predictor=None, random_state=None,\n",
      "             reg_alpha=None, reg_lambda=None, ...)\n"
     ]
    }
   ],
   "source": [
    "# define model\n",
    "model = xgb.XGBRegressor(verbosity=0)\n",
    "print(model)\n"
   ]
  },
  {
   "cell_type": "code",
   "execution_count": 71,
   "id": "aa5ba493",
   "metadata": {},
   "outputs": [
    {
     "data": {
      "text/plain": [
       "RepeatedKFold(n_repeats=3, n_splits=10, random_state=1)"
      ]
     },
     "execution_count": 71,
     "metadata": {},
     "output_type": "execute_result"
    }
   ],
   "source": [
    "# define model evaluation method\n",
    "cv = RepeatedKFold(n_splits=10, n_repeats=3, random_state=1)\n",
    "cv"
   ]
  },
  {
   "cell_type": "code",
   "execution_count": 72,
   "id": "8d035a7f",
   "metadata": {},
   "outputs": [
    {
     "data": {
      "text/plain": [
       "XGBRegressor(base_score=0.5, booster='gbtree', callbacks=None,\n",
       "             colsample_bylevel=1, colsample_bynode=1, colsample_bytree=1,\n",
       "             early_stopping_rounds=None, enable_categorical=False,\n",
       "             eval_metric=None, gamma=0, gpu_id=-1, grow_policy='depthwise',\n",
       "             importance_type=None, interaction_constraints='',\n",
       "             learning_rate=0.300000012, max_bin=256, max_cat_to_onehot=4,\n",
       "             max_delta_step=0, max_depth=6, max_leaves=0, min_child_weight=1,\n",
       "             missing=nan, monotone_constraints='()', n_estimators=100, n_jobs=0,\n",
       "             num_parallel_tree=1, predictor='auto', random_state=0, reg_alpha=0,\n",
       "             reg_lambda=1, ...)"
      ]
     },
     "execution_count": 72,
     "metadata": {},
     "output_type": "execute_result"
    }
   ],
   "source": [
    "model.fit(X_mon_train, y_mon_train)"
   ]
  },
  {
   "cell_type": "code",
   "execution_count": 73,
   "id": "4dc5fcd4",
   "metadata": {},
   "outputs": [
    {
     "name": "stdout",
     "output_type": "stream",
     "text": [
      "Training score:  0.037651207935959\n"
     ]
    }
   ],
   "source": [
    "score = model.score(X_mon_train, y_mon_train)  \n",
    "print(\"Training score: \", score)"
   ]
  },
  {
   "cell_type": "code",
   "execution_count": 74,
   "id": "30706e59",
   "metadata": {},
   "outputs": [
    {
     "name": "stdout",
     "output_type": "stream",
     "text": [
      "Mean cross-validation score: -0.02\n"
     ]
    }
   ],
   "source": [
    "scores = cross_val_score(model, X_mon_train, y_mon_train,cv=10)\n",
    "print(\"Mean cross-validation score: %.2f\" % scores.mean())"
   ]
  },
  {
   "cell_type": "code",
   "execution_count": 75,
   "id": "ee598929",
   "metadata": {},
   "outputs": [
    {
     "name": "stdout",
     "output_type": "stream",
     "text": [
      "MSE: 0.00\n",
      "RMSE: 0.00\n"
     ]
    }
   ],
   "source": [
    "ypred = model.predict(X_mon_test)\n",
    "mse = mean_squared_error(y_mon_test, ypred)\n",
    "print(\"MSE: %.2f\" % mse)\n",
    "print(\"RMSE: %.2f\" % (mse**(1/2.0)))"
   ]
  },
  {
   "cell_type": "code",
   "execution_count": 77,
   "id": "ded8f6c9",
   "metadata": {},
   "outputs": [
    {
     "data": {
      "image/png": "[encoded data removed]",
      "text/plain": [
       "<Figure size 432x288 with 1 Axes>"
      ]
     },
     "metadata": {
      "needs_background": "light"
     },
     "output_type": "display_data"
    }
   ],
   "source": [
    "x_ax = range(len(y_mon_test))\n",
    "plt.plot(x_ax, y_mon_test, label=\"Target\")\n",
    "plt.plot(x_ax, ypred, label=\"Data\")\n",
    "plt.title(\"CryptoCurrency\")\n",
    "plt.legend()\n",
    "plt.show()"
   ]
  },
  {
   "cell_type": "markdown",
   "id": "da2e890e",
   "metadata": {},
   "source": [
    "### Scale the traning and testing data"
   ]
  },
  {
   "cell_type": "code",
   "execution_count": null,
   "id": "6dbd2c8d",
   "metadata": {},
   "outputs": [],
   "source": [
    "# Create a StandardScaler instances\n",
    "scaler = StandardScaler()\n",
    "\n",
    "# Scale the data for those six cryptocurrencies\n",
    "X_bin_coin_train_scaled = scaler.fit_transform(X_bin_coin_train)\n",
    "X_bin_coin_test_scaled = scaler.fit_transform(X_bin_coin_test)\n",
    "\n",
    "X_bit_train_scaled = scaler.fit_transform(X_bit_train)\n",
    "X_bit_test_scaled = scaler.fit_transform(X_bit_test)\n",
    "\n",
    "X_eos_train_scaled = scaler.fit_transform(X_eos_train)\n",
    "X_eos_test_scaled = scaler.fit_transform(X_eos_test)\n",
    "\n",
    "X_eth_train_scaled = scaler.fit_transform(X_eth_train)\n",
    "X_eth_test_scaled = scaler.fit_transform(X_eth_test)\n",
    "\n",
    "X_lite_train_scaled = scaler.fit_transform(X_lite_train)\n",
    "X_lite_test_scaled = scaler.fit_transform(X_lite_test)\n",
    "\n",
    "X_mon_train_scaled = scaler.fit_transform(X_mon_train)\n",
    "X_mon_test_scaled = scaler.fit_transform(X_mon_test)"
   ]
  },
  {
   "cell_type": "markdown",
   "id": "4de611a6",
   "metadata": {},
   "source": [
    "### Merge the dataset for Tableau visualisation"
   ]
  },
  {
   "cell_type": "code",
   "execution_count": null,
   "id": "6cdf3487",
   "metadata": {},
   "outputs": [],
   "source": [
    "# merge all the dataset together\n",
    "# refer: https://pandas.pydata.org/pandas-docs/stable/user_guide/merging.html\n",
    "frames = [bin_coin, eos, bit, eth, lite, mon]\n",
    "crypto_con_df = pd.concat(frames)\n",
    "crypto_con_df.head()"
   ]
  },
  {
   "cell_type": "code",
   "execution_count": null,
   "id": "64e3751e",
   "metadata": {},
   "outputs": [],
   "source": [
    "# use the timestamp index to sort the values\n",
    "crypto_con_df = crypto_con_df.sort_index()\n",
    "crypto_con_df.head(10)"
   ]
  },
  {
   "cell_type": "code",
   "execution_count": null,
   "id": "b1128089",
   "metadata": {},
   "outputs": [],
   "source": [
    "crypto_con_df.index[7793280].astype('datetime64[s]')"
   ]
  },
  {
   "cell_type": "code",
   "execution_count": null,
   "id": "4f472c91",
   "metadata": {},
   "outputs": [],
   "source": [
    "crypto_con_df = crypto_con_df.iloc[7793280:]\n",
    "crypto_con_df.head(10)"
   ]
  },
  {
   "cell_type": "code",
   "execution_count": null,
   "id": "c709fbb7",
   "metadata": {},
   "outputs": [],
   "source": [
    "print(datetime.utcfromtimestamp(1592697660))"
   ]
  },
  {
   "cell_type": "code",
   "execution_count": null,
   "id": "99b43d0a",
   "metadata": {},
   "outputs": [],
   "source": [
    "# Convert Index to Column\n",
    "crypto_con_df.reset_index(inplace=True)\n",
    "crypto_con_df.head()"
   ]
  },
  {
   "cell_type": "code",
   "execution_count": null,
   "id": "b6f1541f",
   "metadata": {},
   "outputs": [],
   "source": [
    "# convert the timestamp\n",
    "crypto_con_df[\"date\"]=pd.to_datetime(crypto_con_df[\"timestamp\"], unit='s')\n",
    "crypto_con_df.head()"
   ]
  },
  {
   "cell_type": "code",
   "execution_count": null,
   "id": "ffc14433",
   "metadata": {},
   "outputs": [],
   "source": [
    "# check the datatypes of all the columns \n",
    "crypto_con_df.info(show_counts =True)"
   ]
  },
  {
   "cell_type": "code",
   "execution_count": null,
   "id": "c902099d",
   "metadata": {},
   "outputs": [],
   "source": [
    "# merge crypto_con_df with DataFrame contains asset details\n",
    "crypto_details_df = pd.merge(crypto_con_df, asset_df, how=\"left\", on=[\"Asset_ID\", \"Asset_ID\"])\n",
    "crypto_details_df.head()"
   ]
  },
  {
   "cell_type": "code",
   "execution_count": null,
   "id": "c0e6aa00",
   "metadata": {},
   "outputs": [],
   "source": [
    "# re-order the columns name\n",
    "new_column_order = [\"timestamp\",\"date\",\"Asset_ID\",\"Asset_Name\",\"Weight\",\"Count\",\"Volume\",\"Open\",\"High\",\"Low\",\"Close\",\"VWAP\",\"Target\"]\n",
    "crypto_details_df = crypto_details_df[new_column_order]\n",
    "crypto_details_df.head(10)"
   ]
  },
  {
   "cell_type": "code",
   "execution_count": null,
   "id": "6374c433",
   "metadata": {},
   "outputs": [],
   "source": [
    "# export data into a CSV\n",
    "output_data_file = \"csv/crypto_details_target.csv\"\n",
    "crypto_details_df.to_csv(output_data_file)"
   ]
  },
  {
   "cell_type": "markdown",
   "id": "487515d5",
   "metadata": {},
   "source": [
    "### Create machine learning model"
   ]
  },
  {
   "cell_type": "code",
   "execution_count": null,
   "id": "dfc22119",
   "metadata": {},
   "outputs": [],
   "source": [
    "# Train the data using LinearRegression\n",
    "from sklearn.linear_model import LinearRegression\n",
    "\n",
    "lr = LinearRegression()\n",
    "\n",
    "lr.fit(X_bin_coin_train_scaled,y_bin_coin_train)\n",
    "y_pred_bin_coin = lr.predict(X_bin_coin_test_scaled)\n",
    "\n",
    "lr.fit(X_eos_train_scaled,y_eos_train)\n",
    "y_pred_eos = lr.predict(X_eos_test_scaled)\n",
    "\n",
    "lr.fit(X_bit_train_scaled,y_bit_train)\n",
    "y_pred_bit = lr.predict(X_bit_test_scaled)\n",
    "\n",
    "lr.fit(X_eth_train_scaled,y_eth_train)\n",
    "y_pred_eth = lr.predict(X_eth_test_scaled)\n",
    "\n",
    "lr.fit(X_lite_train_scaled,y_lite_train)\n",
    "y_pred_lite = lr.predict(X_lite_test_scaled)\n",
    "\n",
    "lr.fit(X_mon_train_scaled,y_mon_train)\n",
    "y_pred_mon = lr.predict(X_mon_test_scaled)"
   ]
  },
  {
   "cell_type": "code",
   "execution_count": null,
   "id": "e03ddc8d",
   "metadata": {},
   "outputs": [],
   "source": [
    "#from sklearn.metrics import mean_squared_error\n",
    "#np.sqrt(mean_squared_error(y_bin_coin_test, y_pred_bin_coin))"
   ]
  },
  {
   "cell_type": "code",
   "execution_count": null,
   "id": "13c79ef4",
   "metadata": {},
   "outputs": [],
   "source": [
    "print(f\"Test score for bin_coin: {np.corrcoef(y_bin_coin_test, y_pred_bin_coin)[1,0]:.4f}\")\n",
    "print(f\"Test score for eos: {np.corrcoef(y_eos_test, y_pred_eos)[1,0]:.4f}\")\n",
    "print(f\"Test score for bit: {np.corrcoef(y_bit_test, y_pred_bit)[1,0]:.4f}\")\n",
    "print(f\"Test score for eth: {np.corrcoef(y_eth_test, y_pred_eth)[1,0]:.4f}\")\n",
    "print(f\"Test score for lite: {np.corrcoef(y_lite_test, y_pred_lite)[1,0]:.4f}\")\n",
    "print(f\"Test score for mon: {np.corrcoef(y_mon_test, y_pred_mon)[1,0]:.4f}\")"
   ]
  },
  {
   "cell_type": "markdown",
   "id": "2a43df8f",
   "metadata": {},
   "source": [
    "### Data visualisation"
   ]
  },
  {
   "cell_type": "code",
   "execution_count": null,
   "id": "bdc92ad2",
   "metadata": {},
   "outputs": [],
   "source": [
    "# visualize the target of each cryptocurrencies\n",
    "plt.figure(figsize=(15,6))\n",
    "\n",
    "plt.plot(bin_coin['Target'], label='bin_coin', color=\"blue\")\n",
    "plt.plot(bit['Target'], label='bit', color=\"green\")\n",
    "plt.plot(eos['Target'], label='eos', color=\"yellow\")\n",
    "plt.plot(eth['Target'], label='eth', color=\"red\")\n",
    "\n",
    "plt.legend()\n",
    "plt.xlabel('Time')\n",
    "plt.ylabel('Target')\n",
    "\n",
    "plt.tight_layout()\n",
    "plt.show()"
   ]
  },
  {
   "cell_type": "code",
   "execution_count": null,
   "id": "f3d0a4ee",
   "metadata": {},
   "outputs": [],
   "source": [
    "# visualize the close price of each cryptocurrencies\n",
    "plt.figure(figsize=(15,6))\n",
    "\n",
    "plt.plot(bin_coin['Close'], label='bin_coin', color=\"blue\")\n",
    "plt.plot(bit['Close'], label='bit', color=\"green\")\n",
    "plt.plot(eos['Close'], label='eos', color=\"yellow\")\n",
    "plt.plot(eth['Close'], label='eth', color=\"black\")\n",
    "\n",
    "plt.legend()\n",
    "plt.xlabel('Time')\n",
    "plt.ylabel('Close Price')\n",
    "\n",
    "plt.tight_layout()\n",
    "plt.show()"
   ]
  },
  {
   "cell_type": "code",
   "execution_count": null,
   "id": "7ec096b6",
   "metadata": {},
   "outputs": [],
   "source": [
    "# above just some examples, create any plots which you think is good\n",
    "\n",
    "# YOUR CODE HERE"
   ]
  },
  {
   "cell_type": "markdown",
   "id": "86fec058",
   "metadata": {},
   "source": [
    "### Connect to SQL Database"
   ]
  },
  {
   "cell_type": "code",
   "execution_count": null,
   "id": "f6aa4160",
   "metadata": {},
   "outputs": [],
   "source": [
    "# Connect to SQL Database\n",
    "\n",
    "# YOUR CODE HERE"
   ]
  }
 ],
 "metadata": {
  "kernelspec": {
   "display_name": "Python 3 (ipykernel)",
   "language": "python",
   "name": "python3"
  },
  "language_info": {
   "codemirror_mode": {
    "name": "ipython",
    "version": 3
   },
   "file_extension": ".py",
   "mimetype": "text/x-python",
   "name": "python",
   "nbconvert_exporter": "python",
   "pygments_lexer": "ipython3",
   "version": "3.7.13"
  }
 },
 "nbformat": 4,
 "nbformat_minor": 5
}
