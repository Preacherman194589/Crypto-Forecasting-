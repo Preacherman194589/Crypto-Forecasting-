{
 "cells": [
  {
   "cell_type": "code",
   "execution_count": 228,
   "id": "d065c4c4",
   "metadata": {},
   "outputs": [],
   "source": [
    "import pandas as pd\n",
    "import numpy as np\n",
    "from datetime import datetime\n",
    "import matplotlib.pyplot as plt\n",
    "from sklearn.preprocessing import StandardScaler\n",
    "from sklearn.ensemble import RandomForestRegressor\n",
    "from sklearn.model_selection import RepeatedKFold\n",
    "import xgboost as xgb\n",
    "from xgboost import XGBRegressor"
   ]
  },
  {
   "cell_type": "markdown",
   "id": "7428eef0",
   "metadata": {},
   "source": [
    "## Read in the data"
   ]
  },
  {
   "cell_type": "markdown",
   "id": "2cbb0135",
   "metadata": {},
   "source": [
    "- timestamp - A timestamp for the minute covered by the row.\n",
    "- Asset_ID - An ID code for the cryptoasset.\n",
    "- Count - The number of trades that took place this minute.\n",
    "- Open - The USD price at the beginning of the minute.\n",
    "- High - The highest USD price during the minute.\n",
    "- Low - The lowest USD price during the minute.\n",
    "- Close - The USD price at the end of the minute.\n",
    "- Volume - The number of cryptoasset units traded during the minute.\n",
    "- VWAP - The volume weighted average price for the minute.\n",
    "- Target - 15 minute residualized returns. "
   ]
  },
  {
   "cell_type": "code",
   "execution_count": 229,
   "id": "7997b0c7",
   "metadata": {},
   "outputs": [
    {
     "data": {
      "text/html": [
       "<div>\n",
       "<style scoped>\n",
       "    .dataframe tbody tr th:only-of-type {\n",
       "        vertical-align: middle;\n",
       "    }\n",
       "\n",
       "    .dataframe tbody tr th {\n",
       "        vertical-align: top;\n",
       "    }\n",
       "\n",
       "    .dataframe thead th {\n",
       "        text-align: right;\n",
       "    }\n",
       "</style>\n",
       "<table border=\"1\" class=\"dataframe\">\n",
       "  <thead>\n",
       "    <tr style=\"text-align: right;\">\n",
       "      <th></th>\n",
       "      <th>timestamp</th>\n",
       "      <th>Asset_ID</th>\n",
       "      <th>Count</th>\n",
       "      <th>Open</th>\n",
       "      <th>High</th>\n",
       "      <th>Low</th>\n",
       "      <th>Close</th>\n",
       "      <th>Volume</th>\n",
       "      <th>VWAP</th>\n",
       "      <th>Target</th>\n",
       "    </tr>\n",
       "  </thead>\n",
       "  <tbody>\n",
       "    <tr>\n",
       "      <th>0</th>\n",
       "      <td>1514764860</td>\n",
       "      <td>2</td>\n",
       "      <td>40.0</td>\n",
       "      <td>2376.5800</td>\n",
       "      <td>2399.5000</td>\n",
       "      <td>2357.1400</td>\n",
       "      <td>2374.5900</td>\n",
       "      <td>19.233005</td>\n",
       "      <td>2373.116392</td>\n",
       "      <td>-0.004218</td>\n",
       "    </tr>\n",
       "    <tr>\n",
       "      <th>1</th>\n",
       "      <td>1514764860</td>\n",
       "      <td>0</td>\n",
       "      <td>5.0</td>\n",
       "      <td>8.5300</td>\n",
       "      <td>8.5300</td>\n",
       "      <td>8.5300</td>\n",
       "      <td>8.5300</td>\n",
       "      <td>78.380000</td>\n",
       "      <td>8.530000</td>\n",
       "      <td>-0.014399</td>\n",
       "    </tr>\n",
       "    <tr>\n",
       "      <th>2</th>\n",
       "      <td>1514764860</td>\n",
       "      <td>1</td>\n",
       "      <td>229.0</td>\n",
       "      <td>13835.1940</td>\n",
       "      <td>14013.8000</td>\n",
       "      <td>13666.1100</td>\n",
       "      <td>13850.1760</td>\n",
       "      <td>31.550062</td>\n",
       "      <td>13827.062093</td>\n",
       "      <td>-0.014643</td>\n",
       "    </tr>\n",
       "    <tr>\n",
       "      <th>3</th>\n",
       "      <td>1514764860</td>\n",
       "      <td>5</td>\n",
       "      <td>32.0</td>\n",
       "      <td>7.6596</td>\n",
       "      <td>7.6596</td>\n",
       "      <td>7.6567</td>\n",
       "      <td>7.6576</td>\n",
       "      <td>6626.713370</td>\n",
       "      <td>7.657713</td>\n",
       "      <td>-0.013922</td>\n",
       "    </tr>\n",
       "    <tr>\n",
       "      <th>4</th>\n",
       "      <td>1514764860</td>\n",
       "      <td>7</td>\n",
       "      <td>5.0</td>\n",
       "      <td>25.9200</td>\n",
       "      <td>25.9200</td>\n",
       "      <td>25.8740</td>\n",
       "      <td>25.8770</td>\n",
       "      <td>121.087310</td>\n",
       "      <td>25.891363</td>\n",
       "      <td>-0.008264</td>\n",
       "    </tr>\n",
       "  </tbody>\n",
       "</table>\n",
       "</div>"
      ],
      "text/plain": [
       "    timestamp  Asset_ID  Count        Open        High         Low  \\\n",
       "0  1514764860         2   40.0   2376.5800   2399.5000   2357.1400   \n",
       "1  1514764860         0    5.0      8.5300      8.5300      8.5300   \n",
       "2  1514764860         1  229.0  13835.1940  14013.8000  13666.1100   \n",
       "3  1514764860         5   32.0      7.6596      7.6596      7.6567   \n",
       "4  1514764860         7    5.0     25.9200     25.9200     25.8740   \n",
       "\n",
       "        Close       Volume          VWAP    Target  \n",
       "0   2374.5900    19.233005   2373.116392 -0.004218  \n",
       "1      8.5300    78.380000      8.530000 -0.014399  \n",
       "2  13850.1760    31.550062  13827.062093 -0.014643  \n",
       "3      7.6576  6626.713370      7.657713 -0.013922  \n",
       "4     25.8770   121.087310     25.891363 -0.008264  "
      ]
     },
     "execution_count": 229,
     "metadata": {},
     "output_type": "execute_result"
    }
   ],
   "source": [
    "crypto_df = pd.read_csv('Resources/train.csv')\n",
    "crypto_df.head()"
   ]
  },
  {
   "cell_type": "code",
   "execution_count": 230,
   "id": "4579fc66",
   "metadata": {},
   "outputs": [
    {
     "data": {
      "text/html": [
       "<div>\n",
       "<style scoped>\n",
       "    .dataframe tbody tr th:only-of-type {\n",
       "        vertical-align: middle;\n",
       "    }\n",
       "\n",
       "    .dataframe tbody tr th {\n",
       "        vertical-align: top;\n",
       "    }\n",
       "\n",
       "    .dataframe thead th {\n",
       "        text-align: right;\n",
       "    }\n",
       "</style>\n",
       "<table border=\"1\" class=\"dataframe\">\n",
       "  <thead>\n",
       "    <tr style=\"text-align: right;\">\n",
       "      <th></th>\n",
       "      <th>Asset_ID</th>\n",
       "      <th>Weight</th>\n",
       "      <th>Asset_Name</th>\n",
       "    </tr>\n",
       "  </thead>\n",
       "  <tbody>\n",
       "    <tr>\n",
       "      <th>0</th>\n",
       "      <td>2</td>\n",
       "      <td>2.397895</td>\n",
       "      <td>Bitcoin Cash</td>\n",
       "    </tr>\n",
       "    <tr>\n",
       "      <th>1</th>\n",
       "      <td>0</td>\n",
       "      <td>4.304065</td>\n",
       "      <td>Binance Coin</td>\n",
       "    </tr>\n",
       "    <tr>\n",
       "      <th>2</th>\n",
       "      <td>1</td>\n",
       "      <td>6.779922</td>\n",
       "      <td>Bitcoin</td>\n",
       "    </tr>\n",
       "    <tr>\n",
       "      <th>3</th>\n",
       "      <td>5</td>\n",
       "      <td>1.386294</td>\n",
       "      <td>EOS.IO</td>\n",
       "    </tr>\n",
       "    <tr>\n",
       "      <th>4</th>\n",
       "      <td>7</td>\n",
       "      <td>2.079442</td>\n",
       "      <td>Ethereum Classic</td>\n",
       "    </tr>\n",
       "    <tr>\n",
       "      <th>5</th>\n",
       "      <td>6</td>\n",
       "      <td>5.894403</td>\n",
       "      <td>Ethereum</td>\n",
       "    </tr>\n",
       "    <tr>\n",
       "      <th>6</th>\n",
       "      <td>9</td>\n",
       "      <td>2.397895</td>\n",
       "      <td>Litecoin</td>\n",
       "    </tr>\n",
       "    <tr>\n",
       "      <th>7</th>\n",
       "      <td>11</td>\n",
       "      <td>1.609438</td>\n",
       "      <td>Monero</td>\n",
       "    </tr>\n",
       "    <tr>\n",
       "      <th>8</th>\n",
       "      <td>13</td>\n",
       "      <td>1.791759</td>\n",
       "      <td>TRON</td>\n",
       "    </tr>\n",
       "    <tr>\n",
       "      <th>9</th>\n",
       "      <td>12</td>\n",
       "      <td>2.079442</td>\n",
       "      <td>Stellar</td>\n",
       "    </tr>\n",
       "    <tr>\n",
       "      <th>10</th>\n",
       "      <td>3</td>\n",
       "      <td>4.406719</td>\n",
       "      <td>Cardano</td>\n",
       "    </tr>\n",
       "    <tr>\n",
       "      <th>11</th>\n",
       "      <td>8</td>\n",
       "      <td>1.098612</td>\n",
       "      <td>IOTA</td>\n",
       "    </tr>\n",
       "    <tr>\n",
       "      <th>12</th>\n",
       "      <td>10</td>\n",
       "      <td>1.098612</td>\n",
       "      <td>Maker</td>\n",
       "    </tr>\n",
       "    <tr>\n",
       "      <th>13</th>\n",
       "      <td>4</td>\n",
       "      <td>3.555348</td>\n",
       "      <td>Dogecoin</td>\n",
       "    </tr>\n",
       "  </tbody>\n",
       "</table>\n",
       "</div>"
      ],
      "text/plain": [
       "    Asset_ID    Weight        Asset_Name\n",
       "0          2  2.397895      Bitcoin Cash\n",
       "1          0  4.304065      Binance Coin\n",
       "2          1  6.779922           Bitcoin\n",
       "3          5  1.386294            EOS.IO\n",
       "4          7  2.079442  Ethereum Classic\n",
       "5          6  5.894403          Ethereum\n",
       "6          9  2.397895          Litecoin\n",
       "7         11  1.609438            Monero\n",
       "8         13  1.791759              TRON\n",
       "9         12  2.079442           Stellar\n",
       "10         3  4.406719           Cardano\n",
       "11         8  1.098612              IOTA\n",
       "12        10  1.098612             Maker\n",
       "13         4  3.555348          Dogecoin"
      ]
     },
     "execution_count": 230,
     "metadata": {},
     "output_type": "execute_result"
    }
   ],
   "source": [
    "asset_df = pd.read_csv('Resources/asset_details.csv')\n",
    "asset_df"
   ]
  },
  {
   "cell_type": "markdown",
   "id": "913708a0",
   "metadata": {},
   "source": [
    "## Clean the dataset"
   ]
  },
  {
   "cell_type": "code",
   "execution_count": 231,
   "id": "8b10ad81",
   "metadata": {},
   "outputs": [
    {
     "name": "stdout",
     "output_type": "stream",
     "text": [
      "<class 'pandas.core.frame.DataFrame'>\n",
      "RangeIndex: 24236806 entries, 0 to 24236805\n",
      "Data columns (total 10 columns):\n",
      " #   Column     Non-Null Count     Dtype  \n",
      "---  ------     --------------     -----  \n",
      " 0   timestamp  24236806 non-null  int64  \n",
      " 1   Asset_ID   24236806 non-null  int64  \n",
      " 2   Count      24236806 non-null  float64\n",
      " 3   Open       24236806 non-null  float64\n",
      " 4   High       24236806 non-null  float64\n",
      " 5   Low        24236806 non-null  float64\n",
      " 6   Close      24236806 non-null  float64\n",
      " 7   Volume     24236806 non-null  float64\n",
      " 8   VWAP       24236797 non-null  float64\n",
      " 9   Target     23486468 non-null  float64\n",
      "dtypes: float64(8), int64(2)\n",
      "memory usage: 1.8 GB\n"
     ]
    }
   ],
   "source": [
    "# check the datatypes and counts of each column\n",
    "crypto_df.info(show_counts =True)"
   ]
  },
  {
   "cell_type": "code",
   "execution_count": 232,
   "id": "170b9b7c",
   "metadata": {},
   "outputs": [
    {
     "data": {
      "text/plain": [
       "timestamp         0\n",
       "Asset_ID          0\n",
       "Count             0\n",
       "Open              0\n",
       "High              0\n",
       "Low               0\n",
       "Close             0\n",
       "Volume            0\n",
       "VWAP              9\n",
       "Target       750338\n",
       "dtype: int64"
      ]
     },
     "execution_count": 232,
     "metadata": {},
     "output_type": "execute_result"
    }
   ],
   "source": [
    "# double check the missing values in each column \n",
    "crypto_df.isnull().sum()"
   ]
  },
  {
   "cell_type": "code",
   "execution_count": 233,
   "id": "e3e84421",
   "metadata": {},
   "outputs": [],
   "source": [
    "# replace NaN Values with Zeros in Target column\n",
    "crypto_df[\"Target\"] = crypto_df[\"Target\"].fillna(0)"
   ]
  },
  {
   "cell_type": "code",
   "execution_count": 234,
   "id": "c2054780",
   "metadata": {},
   "outputs": [
    {
     "data": {
      "text/html": [
       "<div>\n",
       "<style scoped>\n",
       "    .dataframe tbody tr th:only-of-type {\n",
       "        vertical-align: middle;\n",
       "    }\n",
       "\n",
       "    .dataframe tbody tr th {\n",
       "        vertical-align: top;\n",
       "    }\n",
       "\n",
       "    .dataframe thead th {\n",
       "        text-align: right;\n",
       "    }\n",
       "</style>\n",
       "<table border=\"1\" class=\"dataframe\">\n",
       "  <thead>\n",
       "    <tr style=\"text-align: right;\">\n",
       "      <th></th>\n",
       "      <th>timestamp</th>\n",
       "      <th>Asset_ID</th>\n",
       "      <th>Count</th>\n",
       "      <th>Open</th>\n",
       "      <th>High</th>\n",
       "      <th>Low</th>\n",
       "      <th>Close</th>\n",
       "      <th>Volume</th>\n",
       "      <th>VWAP</th>\n",
       "      <th>Target</th>\n",
       "    </tr>\n",
       "  </thead>\n",
       "  <tbody>\n",
       "    <tr>\n",
       "      <th>15004269</th>\n",
       "      <td>1592173560</td>\n",
       "      <td>10</td>\n",
       "      <td>2.0</td>\n",
       "      <td>501.00</td>\n",
       "      <td>501.00</td>\n",
       "      <td>501.00</td>\n",
       "      <td>501.00</td>\n",
       "      <td>0.0</td>\n",
       "      <td>NaN</td>\n",
       "      <td>0.000000</td>\n",
       "    </tr>\n",
       "    <tr>\n",
       "      <th>15004283</th>\n",
       "      <td>1592173620</td>\n",
       "      <td>10</td>\n",
       "      <td>4.0</td>\n",
       "      <td>501.00</td>\n",
       "      <td>501.00</td>\n",
       "      <td>501.00</td>\n",
       "      <td>501.00</td>\n",
       "      <td>0.0</td>\n",
       "      <td>NaN</td>\n",
       "      <td>0.000000</td>\n",
       "    </tr>\n",
       "    <tr>\n",
       "      <th>15059232</th>\n",
       "      <td>1592426160</td>\n",
       "      <td>10</td>\n",
       "      <td>2.0</td>\n",
       "      <td>529.77</td>\n",
       "      <td>529.77</td>\n",
       "      <td>529.77</td>\n",
       "      <td>529.77</td>\n",
       "      <td>0.0</td>\n",
       "      <td>NaN</td>\n",
       "      <td>0.007356</td>\n",
       "    </tr>\n",
       "    <tr>\n",
       "      <th>15143187</th>\n",
       "      <td>1592823720</td>\n",
       "      <td>10</td>\n",
       "      <td>2.0</td>\n",
       "      <td>503.60</td>\n",
       "      <td>503.60</td>\n",
       "      <td>503.60</td>\n",
       "      <td>503.60</td>\n",
       "      <td>0.0</td>\n",
       "      <td>NaN</td>\n",
       "      <td>-0.005672</td>\n",
       "    </tr>\n",
       "    <tr>\n",
       "      <th>15183088</th>\n",
       "      <td>1593008940</td>\n",
       "      <td>10</td>\n",
       "      <td>2.0</td>\n",
       "      <td>484.16</td>\n",
       "      <td>484.16</td>\n",
       "      <td>484.16</td>\n",
       "      <td>484.16</td>\n",
       "      <td>0.0</td>\n",
       "      <td>NaN</td>\n",
       "      <td>-0.004281</td>\n",
       "    </tr>\n",
       "    <tr>\n",
       "      <th>15184216</th>\n",
       "      <td>1593013920</td>\n",
       "      <td>10</td>\n",
       "      <td>2.0</td>\n",
       "      <td>480.00</td>\n",
       "      <td>480.00</td>\n",
       "      <td>480.00</td>\n",
       "      <td>480.00</td>\n",
       "      <td>0.0</td>\n",
       "      <td>NaN</td>\n",
       "      <td>0.000000</td>\n",
       "    </tr>\n",
       "    <tr>\n",
       "      <th>15184243</th>\n",
       "      <td>1593014040</td>\n",
       "      <td>10</td>\n",
       "      <td>2.0</td>\n",
       "      <td>480.00</td>\n",
       "      <td>480.00</td>\n",
       "      <td>480.00</td>\n",
       "      <td>480.00</td>\n",
       "      <td>0.0</td>\n",
       "      <td>NaN</td>\n",
       "      <td>0.000000</td>\n",
       "    </tr>\n",
       "    <tr>\n",
       "      <th>15184309</th>\n",
       "      <td>1593014340</td>\n",
       "      <td>10</td>\n",
       "      <td>6.0</td>\n",
       "      <td>479.07</td>\n",
       "      <td>479.07</td>\n",
       "      <td>479.07</td>\n",
       "      <td>479.07</td>\n",
       "      <td>0.0</td>\n",
       "      <td>NaN</td>\n",
       "      <td>0.000000</td>\n",
       "    </tr>\n",
       "    <tr>\n",
       "      <th>15184778</th>\n",
       "      <td>1593016440</td>\n",
       "      <td>10</td>\n",
       "      <td>4.0</td>\n",
       "      <td>478.00</td>\n",
       "      <td>478.00</td>\n",
       "      <td>475.00</td>\n",
       "      <td>478.00</td>\n",
       "      <td>0.0</td>\n",
       "      <td>NaN</td>\n",
       "      <td>0.000000</td>\n",
       "    </tr>\n",
       "  </tbody>\n",
       "</table>\n",
       "</div>"
      ],
      "text/plain": [
       "           timestamp  Asset_ID  Count    Open    High     Low   Close  Volume  \\\n",
       "15004269  1592173560        10    2.0  501.00  501.00  501.00  501.00     0.0   \n",
       "15004283  1592173620        10    4.0  501.00  501.00  501.00  501.00     0.0   \n",
       "15059232  1592426160        10    2.0  529.77  529.77  529.77  529.77     0.0   \n",
       "15143187  1592823720        10    2.0  503.60  503.60  503.60  503.60     0.0   \n",
       "15183088  1593008940        10    2.0  484.16  484.16  484.16  484.16     0.0   \n",
       "15184216  1593013920        10    2.0  480.00  480.00  480.00  480.00     0.0   \n",
       "15184243  1593014040        10    2.0  480.00  480.00  480.00  480.00     0.0   \n",
       "15184309  1593014340        10    6.0  479.07  479.07  479.07  479.07     0.0   \n",
       "15184778  1593016440        10    4.0  478.00  478.00  475.00  478.00     0.0   \n",
       "\n",
       "          VWAP    Target  \n",
       "15004269   NaN  0.000000  \n",
       "15004283   NaN  0.000000  \n",
       "15059232   NaN  0.007356  \n",
       "15143187   NaN -0.005672  \n",
       "15183088   NaN -0.004281  \n",
       "15184216   NaN  0.000000  \n",
       "15184243   NaN  0.000000  \n",
       "15184309   NaN  0.000000  \n",
       "15184778   NaN  0.000000  "
      ]
     },
     "execution_count": 234,
     "metadata": {},
     "output_type": "execute_result"
    }
   ],
   "source": [
    "# show all Rows with NaN Values in VWAP column\n",
    "# from the output below we can see that all the nan values come from Asset_ID 10\n",
    "crypto_df[crypto_df[\"VWAP\"].isnull()]"
   ]
  },
  {
   "cell_type": "code",
   "execution_count": 235,
   "id": "0efdca84",
   "metadata": {},
   "outputs": [],
   "source": [
    "# when I clean the data, I found a lot of gaps in data, which influence the consecutive of data visualisation \n",
    "# to fill the gaps, we can use the .reindex() method for forward filling, filling gaps with the previous valid value\n",
    "# https://pandas.pydata.org/docs/reference/api/pandas.DataFrame.reindex.html"
   ]
  },
  {
   "cell_type": "code",
   "execution_count": 236,
   "id": "f88a1567",
   "metadata": {},
   "outputs": [
    {
     "data": {
      "text/plain": [
       "60    1956959\n",
       "Name: timestamp, dtype: int64"
      ]
     },
     "execution_count": 236,
     "metadata": {},
     "output_type": "execute_result"
    }
   ],
   "source": [
    "# fill gaps for Bitcoin Cash\n",
    "bit_cash = crypto_df[crypto_df[\"Asset_ID\"]==2].set_index(\"timestamp\")\n",
    "bit_cash = bit_cash.reindex(range(bit_cash.index[0],bit_cash.index[-1]+60,60),method='pad')\n",
    "(bit_cash.index[1:]-bit_cash.index[:-1]).value_counts()"
   ]
  },
  {
   "cell_type": "code",
   "execution_count": 237,
   "id": "b53ae483",
   "metadata": {},
   "outputs": [
    {
     "data": {
      "text/plain": [
       "60    1956959\n",
       "Name: timestamp, dtype: int64"
      ]
     },
     "execution_count": 237,
     "metadata": {},
     "output_type": "execute_result"
    }
   ],
   "source": [
    "# fill gaps for Binance Coin\n",
    "bnc = crypto_df[crypto_df[\"Asset_ID\"]==0].set_index(\"timestamp\")\n",
    "bnc = bnc.reindex(range(bnc.index[0],bnc.index[-1]+60,60),method='pad')\n",
    "(bnc.index[1:]-bnc.index[:-1]).value_counts()"
   ]
  },
  {
   "cell_type": "code",
   "execution_count": 238,
   "id": "d703b8fe",
   "metadata": {},
   "outputs": [
    {
     "data": {
      "text/plain": [
       "60    1956959\n",
       "Name: timestamp, dtype: int64"
      ]
     },
     "execution_count": 238,
     "metadata": {},
     "output_type": "execute_result"
    }
   ],
   "source": [
    "# fill gaps for Bitcoin \n",
    "bit = crypto_df[crypto_df[\"Asset_ID\"]==1].set_index(\"timestamp\")\n",
    "bit = bit.reindex(range(bit.index[0],bit.index[-1]+60,60),method='pad')\n",
    "(bit.index[1:]-bit.index[:-1]).value_counts()"
   ]
  },
  {
   "cell_type": "code",
   "execution_count": 239,
   "id": "939a298f",
   "metadata": {},
   "outputs": [
    {
     "data": {
      "text/plain": [
       "60    1956959\n",
       "Name: timestamp, dtype: int64"
      ]
     },
     "execution_count": 239,
     "metadata": {},
     "output_type": "execute_result"
    }
   ],
   "source": [
    "# fill gaps for EOS.IO\n",
    "eos = crypto_df[crypto_df[\"Asset_ID\"]==5].set_index(\"timestamp\")\n",
    "eos = eos.reindex(range(eos.index[0],eos.index[-1]+60,60),method='pad')\n",
    "(eos.index[1:]-eos.index[:-1]).value_counts()"
   ]
  },
  {
   "cell_type": "code",
   "execution_count": 240,
   "id": "a5a4b044",
   "metadata": {},
   "outputs": [
    {
     "data": {
      "text/plain": [
       "60    1956959\n",
       "Name: timestamp, dtype: int64"
      ]
     },
     "execution_count": 240,
     "metadata": {},
     "output_type": "execute_result"
    }
   ],
   "source": [
    "# fill gaps for Ethereum Classic\n",
    "eth_classic = crypto_df[crypto_df[\"Asset_ID\"]==7].set_index(\"timestamp\")\n",
    "eth_classic = eth_classic.reindex(range(eth_classic.index[0],eth_classic.index[-1]+60,60),method='pad')\n",
    "(eth_classic.index[1:]-eth_classic.index[:-1]).value_counts()"
   ]
  },
  {
   "cell_type": "code",
   "execution_count": 241,
   "id": "77998718",
   "metadata": {},
   "outputs": [
    {
     "data": {
      "text/plain": [
       "60    1956959\n",
       "Name: timestamp, dtype: int64"
      ]
     },
     "execution_count": 241,
     "metadata": {},
     "output_type": "execute_result"
    }
   ],
   "source": [
    "# fill gaps for Ethereum\n",
    "eth = crypto_df[crypto_df[\"Asset_ID\"]==6].set_index(\"timestamp\")\n",
    "eth = eth.reindex(range(eth.index[0],eth.index[-1]+60,60),method='pad')\n",
    "(eth.index[1:]-eth.index[:-1]).value_counts()"
   ]
  },
  {
   "cell_type": "code",
   "execution_count": 242,
   "id": "74e8f7f3",
   "metadata": {},
   "outputs": [
    {
     "data": {
      "text/plain": [
       "60    1956959\n",
       "Name: timestamp, dtype: int64"
      ]
     },
     "execution_count": 242,
     "metadata": {},
     "output_type": "execute_result"
    }
   ],
   "source": [
    "# fill gaps for Litecoin\n",
    "lit = crypto_df[crypto_df[\"Asset_ID\"]==9].set_index(\"timestamp\")\n",
    "lit = lit.reindex(range(lit.index[0],lit.index[-1]+60,60),method='pad')\n",
    "(lit.index[1:]-lit.index[:-1]).value_counts()"
   ]
  },
  {
   "cell_type": "code",
   "execution_count": 243,
   "id": "50e1e89b",
   "metadata": {},
   "outputs": [
    {
     "data": {
      "text/plain": [
       "60    1956959\n",
       "Name: timestamp, dtype: int64"
      ]
     },
     "execution_count": 243,
     "metadata": {},
     "output_type": "execute_result"
    }
   ],
   "source": [
    "# fill gaps for Monero\n",
    "mon = crypto_df[crypto_df[\"Asset_ID\"]==11].set_index(\"timestamp\")\n",
    "mon = mon.reindex(range(mon.index[0],mon.index[-1]+60,60),method='pad')\n",
    "(mon.index[1:]-mon.index[:-1]).value_counts()"
   ]
  },
  {
   "cell_type": "code",
   "execution_count": 244,
   "id": "d26992de",
   "metadata": {},
   "outputs": [
    {
     "data": {
      "text/plain": [
       "'\\ntro = crypto_df[crypto_df[\"Asset_ID\"]==13].set_index(\"timestamp\")\\ntro = tro.reindex(range(tro.index[0],tro.index[-1]+60,60),method=\\'pad\\')\\n(tro.index[1:]-tro.index[:-1]).value_counts()\\n\\nste = crypto_df[crypto_df[\"Asset_ID\"]==12].set_index(\"timestamp\")\\nste = ste.reindex(range(ste.index[0],ste.index[-1]+60,60),method=\\'pad\\')\\n(ste.index[1:]-ste.index[:-1]).value_counts()\\n\\ncar = crypto_df[crypto_df[\"Asset_ID\"]==3].set_index(\"timestamp\")\\ncar = car.reindex(range(car.index[0],car.index[-1]+60,60),method=\\'pad\\')\\n(car.index[1:]-car.index[:-1]).value_counts()\\n\\niota = crypto_df[crypto_df[\"Asset_ID\"]==8].set_index(\"timestamp\")\\niota = iota.reindex(range(iota.index[0],iota.index[-1]+60,60),method=\\'pad\\')\\n(iota.index[1:]-iota.index[:-1]).value_counts()\\n\\nmak = crypto_df[crypto_df[\"Asset_ID\"]==10].set_index(\"timestamp\")\\nmak = mak.reindex(range(mak.index[0],mak.index[-1]+60,60),method=\\'pad\\')\\n(mak.index[1:]-mak.index[:-1]).value_counts()\\n\\ndog = crypto_df[crypto_df[\"Asset_ID\"]==4].set_index(\"timestamp\")\\ndog = dog.reindex(range(dog.index[0],dog.index[-1]+60,60),method=\\'pad\\')\\n(dog.index[1:]-dog.index[:-1]).value_counts()\\n'"
      ]
     },
     "execution_count": 244,
     "metadata": {},
     "output_type": "execute_result"
    }
   ],
   "source": [
    "### We find that the start dates of these 6 cryptocurrencies are not from the 2018-01-01, so we are not going to \n",
    "### include these in our project.\n",
    "'''\n",
    "tro = crypto_df[crypto_df[\"Asset_ID\"]==13].set_index(\"timestamp\")\n",
    "tro = tro.reindex(range(tro.index[0],tro.index[-1]+60,60),method='pad')\n",
    "(tro.index[1:]-tro.index[:-1]).value_counts()\n",
    "\n",
    "ste = crypto_df[crypto_df[\"Asset_ID\"]==12].set_index(\"timestamp\")\n",
    "ste = ste.reindex(range(ste.index[0],ste.index[-1]+60,60),method='pad')\n",
    "(ste.index[1:]-ste.index[:-1]).value_counts()\n",
    "\n",
    "car = crypto_df[crypto_df[\"Asset_ID\"]==3].set_index(\"timestamp\")\n",
    "car = car.reindex(range(car.index[0],car.index[-1]+60,60),method='pad')\n",
    "(car.index[1:]-car.index[:-1]).value_counts()\n",
    "\n",
    "iota = crypto_df[crypto_df[\"Asset_ID\"]==8].set_index(\"timestamp\")\n",
    "iota = iota.reindex(range(iota.index[0],iota.index[-1]+60,60),method='pad')\n",
    "(iota.index[1:]-iota.index[:-1]).value_counts()\n",
    "\n",
    "mak = crypto_df[crypto_df[\"Asset_ID\"]==10].set_index(\"timestamp\")\n",
    "mak = mak.reindex(range(mak.index[0],mak.index[-1]+60,60),method='pad')\n",
    "(mak.index[1:]-mak.index[:-1]).value_counts()\n",
    "\n",
    "dog = crypto_df[crypto_df[\"Asset_ID\"]==4].set_index(\"timestamp\")\n",
    "dog = dog.reindex(range(dog.index[0],dog.index[-1]+60,60),method='pad')\n",
    "(dog.index[1:]-dog.index[:-1]).value_counts()\n",
    "'''"
   ]
  },
  {
   "cell_type": "code",
   "execution_count": 245,
   "id": "75cf6664",
   "metadata": {},
   "outputs": [
    {
     "data": {
      "text/plain": [
       "Asset_ID    0\n",
       "Count       0\n",
       "Open        0\n",
       "High        0\n",
       "Low         0\n",
       "Close       0\n",
       "Volume      0\n",
       "VWAP        0\n",
       "Target      0\n",
       "dtype: int64"
      ]
     },
     "execution_count": 245,
     "metadata": {},
     "output_type": "execute_result"
    }
   ],
   "source": [
    "# check again to see if there still any missing data left\n",
    "bit_cash.isnull().sum()"
   ]
  },
  {
   "cell_type": "code",
   "execution_count": 246,
   "id": "b678718b",
   "metadata": {},
   "outputs": [
    {
     "data": {
      "text/plain": [
       "Asset_ID    0\n",
       "Count       0\n",
       "Open        0\n",
       "High        0\n",
       "Low         0\n",
       "Close       0\n",
       "Volume      0\n",
       "VWAP        0\n",
       "Target      0\n",
       "dtype: int64"
      ]
     },
     "execution_count": 246,
     "metadata": {},
     "output_type": "execute_result"
    }
   ],
   "source": [
    "bnc.isnull().sum()"
   ]
  },
  {
   "cell_type": "code",
   "execution_count": 247,
   "id": "dc2cd159",
   "metadata": {},
   "outputs": [
    {
     "data": {
      "text/plain": [
       "Asset_ID    0\n",
       "Count       0\n",
       "Open        0\n",
       "High        0\n",
       "Low         0\n",
       "Close       0\n",
       "Volume      0\n",
       "VWAP        0\n",
       "Target      0\n",
       "dtype: int64"
      ]
     },
     "execution_count": 247,
     "metadata": {},
     "output_type": "execute_result"
    }
   ],
   "source": [
    "bit.isnull().sum()"
   ]
  },
  {
   "cell_type": "code",
   "execution_count": 248,
   "id": "579afa5e",
   "metadata": {},
   "outputs": [
    {
     "data": {
      "text/plain": [
       "Asset_ID    0\n",
       "Count       0\n",
       "Open        0\n",
       "High        0\n",
       "Low         0\n",
       "Close       0\n",
       "Volume      0\n",
       "VWAP        0\n",
       "Target      0\n",
       "dtype: int64"
      ]
     },
     "execution_count": 248,
     "metadata": {},
     "output_type": "execute_result"
    }
   ],
   "source": [
    "eos.isnull().sum()"
   ]
  },
  {
   "cell_type": "code",
   "execution_count": 249,
   "id": "f2cd8128",
   "metadata": {},
   "outputs": [
    {
     "data": {
      "text/plain": [
       "Asset_ID    0\n",
       "Count       0\n",
       "Open        0\n",
       "High        0\n",
       "Low         0\n",
       "Close       0\n",
       "Volume      0\n",
       "VWAP        0\n",
       "Target      0\n",
       "dtype: int64"
      ]
     },
     "execution_count": 249,
     "metadata": {},
     "output_type": "execute_result"
    }
   ],
   "source": [
    "eth_classic.isnull().sum()"
   ]
  },
  {
   "cell_type": "code",
   "execution_count": 250,
   "id": "89130b66",
   "metadata": {},
   "outputs": [
    {
     "data": {
      "text/plain": [
       "Asset_ID    0\n",
       "Count       0\n",
       "Open        0\n",
       "High        0\n",
       "Low         0\n",
       "Close       0\n",
       "Volume      0\n",
       "VWAP        0\n",
       "Target      0\n",
       "dtype: int64"
      ]
     },
     "execution_count": 250,
     "metadata": {},
     "output_type": "execute_result"
    }
   ],
   "source": [
    "eth.isnull().sum()"
   ]
  },
  {
   "cell_type": "code",
   "execution_count": 251,
   "id": "5db76ff9",
   "metadata": {},
   "outputs": [
    {
     "data": {
      "text/plain": [
       "Asset_ID    0\n",
       "Count       0\n",
       "Open        0\n",
       "High        0\n",
       "Low         0\n",
       "Close       0\n",
       "Volume      0\n",
       "VWAP        0\n",
       "Target      0\n",
       "dtype: int64"
      ]
     },
     "execution_count": 251,
     "metadata": {},
     "output_type": "execute_result"
    }
   ],
   "source": [
    "lit.isnull().sum()"
   ]
  },
  {
   "cell_type": "code",
   "execution_count": 252,
   "id": "4673da18",
   "metadata": {},
   "outputs": [
    {
     "data": {
      "text/plain": [
       "Asset_ID    0\n",
       "Count       0\n",
       "Open        0\n",
       "High        0\n",
       "Low         0\n",
       "Close       0\n",
       "Volume      0\n",
       "VWAP        0\n",
       "Target      0\n",
       "dtype: int64"
      ]
     },
     "execution_count": 252,
     "metadata": {},
     "output_type": "execute_result"
    }
   ],
   "source": [
    "mon.isnull().sum()"
   ]
  },
  {
   "cell_type": "markdown",
   "id": "ca69095d",
   "metadata": {},
   "source": [
    "## Split training and testing data for each cryptocurrency\n",
    "We'll select 6 of the most popular cryptocurrencies to feed in the machine learning model for the prediction.\n",
    "Crypto list for analysing: Binance Coin, Bitcoin, EOS.IO, Ethereum, Litecoin, Monero."
   ]
  },
  {
   "cell_type": "code",
   "execution_count": 253,
   "id": "9713a396",
   "metadata": {},
   "outputs": [],
   "source": [
    "# add some new relevent features in the dataset\n",
    "def add_features(df):\n",
    "    #df['Upper_Shadow'] = df['High'] - np.maximum(df['Close'], df['Open'])\n",
    "    #df['Lower_Shadow'] = np.minimum(df['Close'], df['Open']) - df['Low']\n",
    "    df[\"log_return\"] = np.log(df['VWAP']).diff(periods=15)\n",
    "    return df\n",
    "\n",
    "df_list = [bnc, bit, eos, eth, lit, mon]\n",
    "for df in df_list:\n",
    "    df = add_features(df)"
   ]
  },
  {
   "cell_type": "code",
   "execution_count": 254,
   "id": "3ad6b902",
   "metadata": {},
   "outputs": [
    {
     "data": {
      "text/html": [
       "<div>\n",
       "<style scoped>\n",
       "    .dataframe tbody tr th:only-of-type {\n",
       "        vertical-align: middle;\n",
       "    }\n",
       "\n",
       "    .dataframe tbody tr th {\n",
       "        vertical-align: top;\n",
       "    }\n",
       "\n",
       "    .dataframe thead th {\n",
       "        text-align: right;\n",
       "    }\n",
       "</style>\n",
       "<table border=\"1\" class=\"dataframe\">\n",
       "  <thead>\n",
       "    <tr style=\"text-align: right;\">\n",
       "      <th></th>\n",
       "      <th>Asset_ID</th>\n",
       "      <th>Count</th>\n",
       "      <th>Open</th>\n",
       "      <th>High</th>\n",
       "      <th>Low</th>\n",
       "      <th>Close</th>\n",
       "      <th>Volume</th>\n",
       "      <th>VWAP</th>\n",
       "      <th>Target</th>\n",
       "      <th>log_return</th>\n",
       "    </tr>\n",
       "    <tr>\n",
       "      <th>timestamp</th>\n",
       "      <th></th>\n",
       "      <th></th>\n",
       "      <th></th>\n",
       "      <th></th>\n",
       "      <th></th>\n",
       "      <th></th>\n",
       "      <th></th>\n",
       "      <th></th>\n",
       "      <th></th>\n",
       "      <th></th>\n",
       "    </tr>\n",
       "  </thead>\n",
       "  <tbody>\n",
       "    <tr>\n",
       "      <th>1514764860</th>\n",
       "      <td>0</td>\n",
       "      <td>5.0</td>\n",
       "      <td>8.5300</td>\n",
       "      <td>8.5300</td>\n",
       "      <td>8.5300</td>\n",
       "      <td>8.5300</td>\n",
       "      <td>78.38</td>\n",
       "      <td>8.530000</td>\n",
       "      <td>-0.014399</td>\n",
       "      <td>NaN</td>\n",
       "    </tr>\n",
       "    <tr>\n",
       "      <th>1514764920</th>\n",
       "      <td>0</td>\n",
       "      <td>7.0</td>\n",
       "      <td>8.5300</td>\n",
       "      <td>8.5300</td>\n",
       "      <td>8.5145</td>\n",
       "      <td>8.5145</td>\n",
       "      <td>71.39</td>\n",
       "      <td>8.520215</td>\n",
       "      <td>-0.015875</td>\n",
       "      <td>NaN</td>\n",
       "    </tr>\n",
       "    <tr>\n",
       "      <th>1514764980</th>\n",
       "      <td>0</td>\n",
       "      <td>45.0</td>\n",
       "      <td>8.5065</td>\n",
       "      <td>8.5299</td>\n",
       "      <td>8.4848</td>\n",
       "      <td>8.4848</td>\n",
       "      <td>1546.82</td>\n",
       "      <td>8.501394</td>\n",
       "      <td>-0.015410</td>\n",
       "      <td>NaN</td>\n",
       "    </tr>\n",
       "    <tr>\n",
       "      <th>1514765040</th>\n",
       "      <td>0</td>\n",
       "      <td>14.0</td>\n",
       "      <td>8.5009</td>\n",
       "      <td>8.5066</td>\n",
       "      <td>8.4744</td>\n",
       "      <td>8.5009</td>\n",
       "      <td>125.80</td>\n",
       "      <td>8.479810</td>\n",
       "      <td>-0.012524</td>\n",
       "      <td>NaN</td>\n",
       "    </tr>\n",
       "    <tr>\n",
       "      <th>1514765100</th>\n",
       "      <td>0</td>\n",
       "      <td>5.0</td>\n",
       "      <td>8.5007</td>\n",
       "      <td>8.5007</td>\n",
       "      <td>8.4560</td>\n",
       "      <td>8.4560</td>\n",
       "      <td>125.01</td>\n",
       "      <td>8.458435</td>\n",
       "      <td>-0.005940</td>\n",
       "      <td>NaN</td>\n",
       "    </tr>\n",
       "    <tr>\n",
       "      <th>1514765160</th>\n",
       "      <td>0</td>\n",
       "      <td>89.0</td>\n",
       "      <td>8.4560</td>\n",
       "      <td>8.4560</td>\n",
       "      <td>8.3999</td>\n",
       "      <td>8.4000</td>\n",
       "      <td>3765.25</td>\n",
       "      <td>8.403468</td>\n",
       "      <td>-0.005455</td>\n",
       "      <td>NaN</td>\n",
       "    </tr>\n",
       "    <tr>\n",
       "      <th>1514765220</th>\n",
       "      <td>0</td>\n",
       "      <td>20.0</td>\n",
       "      <td>8.4000</td>\n",
       "      <td>8.4000</td>\n",
       "      <td>8.3800</td>\n",
       "      <td>8.3958</td>\n",
       "      <td>827.17</td>\n",
       "      <td>8.390564</td>\n",
       "      <td>-0.000644</td>\n",
       "      <td>NaN</td>\n",
       "    </tr>\n",
       "    <tr>\n",
       "      <th>1514765280</th>\n",
       "      <td>0</td>\n",
       "      <td>25.0</td>\n",
       "      <td>8.3800</td>\n",
       "      <td>8.4544</td>\n",
       "      <td>8.3800</td>\n",
       "      <td>8.3804</td>\n",
       "      <td>370.04</td>\n",
       "      <td>8.390332</td>\n",
       "      <td>-0.003580</td>\n",
       "      <td>NaN</td>\n",
       "    </tr>\n",
       "    <tr>\n",
       "      <th>1514765340</th>\n",
       "      <td>0</td>\n",
       "      <td>16.0</td>\n",
       "      <td>8.3999</td>\n",
       "      <td>8.4519</td>\n",
       "      <td>8.3800</td>\n",
       "      <td>8.3800</td>\n",
       "      <td>1428.91</td>\n",
       "      <td>8.400632</td>\n",
       "      <td>-0.005421</td>\n",
       "      <td>NaN</td>\n",
       "    </tr>\n",
       "    <tr>\n",
       "      <th>1514765400</th>\n",
       "      <td>0</td>\n",
       "      <td>1.0</td>\n",
       "      <td>8.3932</td>\n",
       "      <td>8.3932</td>\n",
       "      <td>8.3932</td>\n",
       "      <td>8.3932</td>\n",
       "      <td>12.00</td>\n",
       "      <td>8.393200</td>\n",
       "      <td>-0.005123</td>\n",
       "      <td>NaN</td>\n",
       "    </tr>\n",
       "    <tr>\n",
       "      <th>1514765460</th>\n",
       "      <td>0</td>\n",
       "      <td>8.0</td>\n",
       "      <td>8.3932</td>\n",
       "      <td>8.4199</td>\n",
       "      <td>8.3794</td>\n",
       "      <td>8.3931</td>\n",
       "      <td>229.39</td>\n",
       "      <td>8.393178</td>\n",
       "      <td>-0.002974</td>\n",
       "      <td>NaN</td>\n",
       "    </tr>\n",
       "    <tr>\n",
       "      <th>1514765520</th>\n",
       "      <td>0</td>\n",
       "      <td>4.0</td>\n",
       "      <td>8.3821</td>\n",
       "      <td>8.3821</td>\n",
       "      <td>8.3701</td>\n",
       "      <td>8.3726</td>\n",
       "      <td>114.80</td>\n",
       "      <td>8.370161</td>\n",
       "      <td>-0.008575</td>\n",
       "      <td>NaN</td>\n",
       "    </tr>\n",
       "    <tr>\n",
       "      <th>1514765580</th>\n",
       "      <td>0</td>\n",
       "      <td>24.0</td>\n",
       "      <td>8.3991</td>\n",
       "      <td>8.4559</td>\n",
       "      <td>8.3573</td>\n",
       "      <td>8.4200</td>\n",
       "      <td>604.39</td>\n",
       "      <td>8.413630</td>\n",
       "      <td>-0.007573</td>\n",
       "      <td>NaN</td>\n",
       "    </tr>\n",
       "    <tr>\n",
       "      <th>1514765640</th>\n",
       "      <td>0</td>\n",
       "      <td>10.0</td>\n",
       "      <td>8.4559</td>\n",
       "      <td>8.4560</td>\n",
       "      <td>8.4039</td>\n",
       "      <td>8.4114</td>\n",
       "      <td>1526.43</td>\n",
       "      <td>8.445954</td>\n",
       "      <td>-0.005988</td>\n",
       "      <td>NaN</td>\n",
       "    </tr>\n",
       "    <tr>\n",
       "      <th>1514765700</th>\n",
       "      <td>0</td>\n",
       "      <td>23.0</td>\n",
       "      <td>8.4315</td>\n",
       "      <td>8.4499</td>\n",
       "      <td>8.3920</td>\n",
       "      <td>8.4003</td>\n",
       "      <td>1431.53</td>\n",
       "      <td>8.410365</td>\n",
       "      <td>-0.006226</td>\n",
       "      <td>NaN</td>\n",
       "    </tr>\n",
       "    <tr>\n",
       "      <th>1514765760</th>\n",
       "      <td>0</td>\n",
       "      <td>50.0</td>\n",
       "      <td>8.4297</td>\n",
       "      <td>8.4297</td>\n",
       "      <td>8.4000</td>\n",
       "      <td>8.4000</td>\n",
       "      <td>1069.65</td>\n",
       "      <td>8.400240</td>\n",
       "      <td>-0.002288</td>\n",
       "      <td>-0.015329</td>\n",
       "    </tr>\n",
       "    <tr>\n",
       "      <th>1514765820</th>\n",
       "      <td>0</td>\n",
       "      <td>32.0</td>\n",
       "      <td>8.4040</td>\n",
       "      <td>8.4220</td>\n",
       "      <td>8.3919</td>\n",
       "      <td>8.3919</td>\n",
       "      <td>1690.45</td>\n",
       "      <td>8.400126</td>\n",
       "      <td>-0.000287</td>\n",
       "      <td>-0.014195</td>\n",
       "    </tr>\n",
       "    <tr>\n",
       "      <th>1514765880</th>\n",
       "      <td>0</td>\n",
       "      <td>29.0</td>\n",
       "      <td>8.4000</td>\n",
       "      <td>8.4497</td>\n",
       "      <td>8.3500</td>\n",
       "      <td>8.3501</td>\n",
       "      <td>1481.91</td>\n",
       "      <td>8.383027</td>\n",
       "      <td>-0.002640</td>\n",
       "      <td>-0.014021</td>\n",
       "    </tr>\n",
       "    <tr>\n",
       "      <th>1514765940</th>\n",
       "      <td>0</td>\n",
       "      <td>3.0</td>\n",
       "      <td>8.3502</td>\n",
       "      <td>8.3699</td>\n",
       "      <td>8.3502</td>\n",
       "      <td>8.3699</td>\n",
       "      <td>150.14</td>\n",
       "      <td>8.353100</td>\n",
       "      <td>-0.000263</td>\n",
       "      <td>-0.015055</td>\n",
       "    </tr>\n",
       "    <tr>\n",
       "      <th>1514766000</th>\n",
       "      <td>0</td>\n",
       "      <td>18.0</td>\n",
       "      <td>8.3699</td>\n",
       "      <td>8.3900</td>\n",
       "      <td>8.3501</td>\n",
       "      <td>8.3501</td>\n",
       "      <td>316.41</td>\n",
       "      <td>8.350185</td>\n",
       "      <td>0.001174</td>\n",
       "      <td>-0.012880</td>\n",
       "    </tr>\n",
       "  </tbody>\n",
       "</table>\n",
       "</div>"
      ],
      "text/plain": [
       "            Asset_ID  Count    Open    High     Low   Close   Volume  \\\n",
       "timestamp                                                              \n",
       "1514764860         0    5.0  8.5300  8.5300  8.5300  8.5300    78.38   \n",
       "1514764920         0    7.0  8.5300  8.5300  8.5145  8.5145    71.39   \n",
       "1514764980         0   45.0  8.5065  8.5299  8.4848  8.4848  1546.82   \n",
       "1514765040         0   14.0  8.5009  8.5066  8.4744  8.5009   125.80   \n",
       "1514765100         0    5.0  8.5007  8.5007  8.4560  8.4560   125.01   \n",
       "1514765160         0   89.0  8.4560  8.4560  8.3999  8.4000  3765.25   \n",
       "1514765220         0   20.0  8.4000  8.4000  8.3800  8.3958   827.17   \n",
       "1514765280         0   25.0  8.3800  8.4544  8.3800  8.3804   370.04   \n",
       "1514765340         0   16.0  8.3999  8.4519  8.3800  8.3800  1428.91   \n",
       "1514765400         0    1.0  8.3932  8.3932  8.3932  8.3932    12.00   \n",
       "1514765460         0    8.0  8.3932  8.4199  8.3794  8.3931   229.39   \n",
       "1514765520         0    4.0  8.3821  8.3821  8.3701  8.3726   114.80   \n",
       "1514765580         0   24.0  8.3991  8.4559  8.3573  8.4200   604.39   \n",
       "1514765640         0   10.0  8.4559  8.4560  8.4039  8.4114  1526.43   \n",
       "1514765700         0   23.0  8.4315  8.4499  8.3920  8.4003  1431.53   \n",
       "1514765760         0   50.0  8.4297  8.4297  8.4000  8.4000  1069.65   \n",
       "1514765820         0   32.0  8.4040  8.4220  8.3919  8.3919  1690.45   \n",
       "1514765880         0   29.0  8.4000  8.4497  8.3500  8.3501  1481.91   \n",
       "1514765940         0    3.0  8.3502  8.3699  8.3502  8.3699   150.14   \n",
       "1514766000         0   18.0  8.3699  8.3900  8.3501  8.3501   316.41   \n",
       "\n",
       "                VWAP    Target  log_return  \n",
       "timestamp                                   \n",
       "1514764860  8.530000 -0.014399         NaN  \n",
       "1514764920  8.520215 -0.015875         NaN  \n",
       "1514764980  8.501394 -0.015410         NaN  \n",
       "1514765040  8.479810 -0.012524         NaN  \n",
       "1514765100  8.458435 -0.005940         NaN  \n",
       "1514765160  8.403468 -0.005455         NaN  \n",
       "1514765220  8.390564 -0.000644         NaN  \n",
       "1514765280  8.390332 -0.003580         NaN  \n",
       "1514765340  8.400632 -0.005421         NaN  \n",
       "1514765400  8.393200 -0.005123         NaN  \n",
       "1514765460  8.393178 -0.002974         NaN  \n",
       "1514765520  8.370161 -0.008575         NaN  \n",
       "1514765580  8.413630 -0.007573         NaN  \n",
       "1514765640  8.445954 -0.005988         NaN  \n",
       "1514765700  8.410365 -0.006226         NaN  \n",
       "1514765760  8.400240 -0.002288   -0.015329  \n",
       "1514765820  8.400126 -0.000287   -0.014195  \n",
       "1514765880  8.383027 -0.002640   -0.014021  \n",
       "1514765940  8.353100 -0.000263   -0.015055  \n",
       "1514766000  8.350185  0.001174   -0.012880  "
      ]
     },
     "execution_count": 254,
     "metadata": {},
     "output_type": "execute_result"
    }
   ],
   "source": [
    "bnc.head(20)"
   ]
  },
  {
   "cell_type": "code",
   "execution_count": 255,
   "id": "71a3a235",
   "metadata": {},
   "outputs": [
    {
     "name": "stdout",
     "output_type": "stream",
     "text": [
      "2021-06-21 00:01:00\n"
     ]
    }
   ],
   "source": [
    "# check time point\n",
    "print(datetime.utcfromtimestamp(bnc.index[1824480]))"
   ]
  },
  {
   "cell_type": "code",
   "execution_count": 256,
   "id": "76e20d7b",
   "metadata": {},
   "outputs": [],
   "source": [
    "# Split training and testing data for Binance Coin\n",
    "bnc_train = bnc[1298880:1824480] # Start from 2020-06-21 00:01:00 to 2021-06-21 00:00:00\n",
    "bnc_test = bnc[1824480:] # Start from 2021-06-21 00:01:00 to 2021-09-21 00:00:00\n",
    "X_bnc_train = bnc_train.log_return.values.reshape(-1, 1)\n",
    "X_bnc_test = bnc_test.log_return.values.reshape(-1, 1)\n",
    "y_bnc_train = bnc_train.Target\n",
    "y_bnc_test = bnc_test.Target\n",
    "\n",
    "# Split training and testing data for Bitcoin\n",
    "bit_train = bit[1298880:1824480] # Start from 2020-06-21 00:01:00 to 2021-06-21 00:00:00\n",
    "bit_test = bit[1824480:] # Start from 2021-06-21 00:01:00 to 2021-09-21 00:00:00\n",
    "X_bit_train = bit_train.log_return.values.reshape(-1, 1)\n",
    "X_bit_test = bit_test.log_return.values.reshape(-1, 1)\n",
    "y_bit_train = bit_train.Target\n",
    "y_bit_test = bit_test.Target\n",
    "\n",
    "# Split training and testing data for EOS.IO\n",
    "eos_train = eos[1298880:1824480] # Start from 2020-06-21 00:01:00 to 2021-06-21 00:00:00\n",
    "eos_test = eos[1824480:] # Start from 2021-06-21 00:01:00 to 2021-09-21 00:00:00\n",
    "X_eos_train = eos_train.log_return.values.reshape(-1, 1)\n",
    "X_eos_test = eos_test.log_return.values.reshape(-1, 1)\n",
    "y_eos_train = eos_train.Target\n",
    "y_eos_test = eos_test.Target\n",
    "\n",
    "# Split training and testing data for Ethereum\n",
    "eth_train = eth[1298880:1824480] # Start from 2020-06-21 00:01:00 to 2021-06-21 00:00:00\n",
    "eth_test = eth[1824480:] # Start from 2021-06-21 00:01:00 to 2021-09-21 00:00:00\n",
    "X_eth_train = eth_train.log_return.values.reshape(-1, 1)\n",
    "X_eth_test = eth_test.log_return.values.reshape(-1, 1)\n",
    "y_eth_train = eth_train.Target\n",
    "y_eth_test = eth_test.Target\n",
    "\n",
    "# Split training and testing data for Litecoin\n",
    "lit_train = lit[1298880:1824480] # Start from 2020-06-21 00:01:00 to 2021-06-21 00:00:00\n",
    "lit_test = lit[1824480:] # Start from 2021-06-21 00:01:00 to 2021-09-21 00:00:00\n",
    "X_lit_train = lit_train.log_return.values.reshape(-1, 1)\n",
    "X_lit_test = lit_test.log_return.values.reshape(-1, 1)\n",
    "y_lit_train = lit_train.Target\n",
    "y_lit_test = lit_test.Target\n",
    "\n",
    "# Split training and testing data for Monero\n",
    "mon_train = mon[1298880:1824480] # Start from 2020-06-21 00:01:00 to 2021-06-21 00:00:00\n",
    "mon_test = mon[1824480:] # Start from 2021-06-21 00:01:00 to 2021-09-21 00:00:00\n",
    "X_mon_train = mon_train.log_return.values.reshape(-1, 1)\n",
    "X_mon_test = mon_test.log_return.values.reshape(-1, 1)\n",
    "y_mon_train = mon_train.Target\n",
    "y_mon_test = mon_test.Target"
   ]
  },
  {
   "cell_type": "markdown",
   "id": "da2e890e",
   "metadata": {},
   "source": [
    "## Scale the traning and testing data"
   ]
  },
  {
   "cell_type": "code",
   "execution_count": null,
   "id": "6dbd2c8d",
   "metadata": {},
   "outputs": [],
   "source": [
    "# Create a StandardScaler instances\n",
    "scaler = StandardScaler()\n",
    "\n",
    "# Scale the data for those six cryptocurrencies\n",
    "X_bnc_train_scaled = scaler.fit_transform(X_bnc_train)\n",
    "X_bnc_test_scaled = scaler.fit_transform(X_bnc_test)\n",
    "\n",
    "X_bit_train_scaled = scaler.fit_transform(X_bit_train)\n",
    "X_bit_test_scaled = scaler.fit_transform(X_bit_test)\n",
    "\n",
    "X_eos_train_scaled = scaler.fit_transform(X_eos_train)\n",
    "X_eos_test_scaled = scaler.fit_transform(X_eos_test)\n",
    "\n",
    "X_eth_train_scaled = scaler.fit_transform(X_eth_train)\n",
    "X_eth_test_scaled = scaler.fit_transform(X_eth_test)\n",
    "\n",
    "X_lit_train_scaled = scaler.fit_transform(X_lit_train)\n",
    "X_lit_test_scaled = scaler.fit_transform(X_lit_test)\n",
    "\n",
    "X_mon_train_scaled = scaler.fit_transform(X_mon_train)\n",
    "X_mon_test_scaled = scaler.fit_transform(X_mon_test)"
   ]
  },
  {
   "cell_type": "markdown",
   "id": "4de611a6",
   "metadata": {},
   "source": [
    "## Merge the dataset for Tableau visualisation"
   ]
  },
  {
   "cell_type": "markdown",
   "id": "50febf52",
   "metadata": {},
   "source": [
    "#### 1. Merge all the dataset which are used in our machine learning model"
   ]
  },
  {
   "cell_type": "code",
   "execution_count": null,
   "id": "6cdf3487",
   "metadata": {},
   "outputs": [],
   "source": [
    "# merge all the dataset together\n",
    "# refer: https://pandas.pydata.org/pandas-docs/stable/user_guide/merging.html\n",
    "frames = [bnc, eos, bit, eth, lit, mon]\n",
    "crypto_con_df = pd.concat(frames)\n",
    "# use the timestamp index to sort the values\n",
    "crypto_con_df = crypto_con_df.sort_index()\n",
    "# select the data which is from 2020-06-21T00:01:00 in each asset\n",
    "crypto_con_df = crypto_con_df.iloc[7793280:]\n",
    "# Convert Index to Column\n",
    "crypto_con_df.reset_index(inplace=True)\n",
    "# convert the timestamp\n",
    "crypto_con_df[\"date\"]=pd.to_datetime(crypto_con_df[\"timestamp\"], unit='s')\n",
    "crypto_con_df.head()"
   ]
  },
  {
   "cell_type": "code",
   "execution_count": null,
   "id": "ffc14433",
   "metadata": {},
   "outputs": [],
   "source": [
    "# check the datatypes of all the columns \n",
    "crypto_con_df.info(show_counts =True)"
   ]
  },
  {
   "cell_type": "code",
   "execution_count": null,
   "id": "c902099d",
   "metadata": {},
   "outputs": [],
   "source": [
    "# merge crypto_con_df with DataFrame contains asset details\n",
    "crypto_details_df = pd.merge(crypto_con_df, asset_df, how=\"left\", on=[\"Asset_ID\", \"Asset_ID\"])\n",
    "# re-order the columns name\n",
    "new_column_order = [\"timestamp\",\"date\",\"Asset_ID\",\"Asset_Name\",\"Weight\",\"Count\",\"Volume\",\"Open\",\"High\",\"Low\",\"Close\",\"VWAP\",\"Target\"]\n",
    "crypto_details_df = crypto_details_df[new_column_order]\n",
    "crypto_details_df.head()"
   ]
  },
  {
   "cell_type": "code",
   "execution_count": null,
   "id": "6374c433",
   "metadata": {},
   "outputs": [],
   "source": [
    "# export data into a CSV\n",
    "output_data_file = \"Data/crypto_details.csv\"\n",
    "#crypto_details_df.to_csv(output_data_file)"
   ]
  },
  {
   "cell_type": "markdown",
   "id": "3a685e9e",
   "metadata": {},
   "source": [
    "#### 2. Merge all the testing data in last 3 months"
   ]
  },
  {
   "cell_type": "code",
   "execution_count": null,
   "id": "576bdb55",
   "metadata": {},
   "outputs": [],
   "source": [
    "# merge all the testing data in last 3 months together, which is from 2021-06-21\n",
    "test_frames = [bnc_test, eos_test, bit_test, eth_test, lit_test, mon_test]\n",
    "crypto_con2_df = pd.concat(test_frames)\n",
    "crypto_con2_df = crypto_con2_df.sort_index()\n",
    "crypto_con2_df.reset_index(inplace=True)\n",
    "crypto_con2_df[\"date\"]=pd.to_datetime(crypto_con2_df[\"timestamp\"], unit='s')\n",
    "crypto_details_last3months = pd.merge(crypto_con2_df, asset_df, how=\"left\", on=[\"Asset_ID\", \"Asset_ID\"])\n",
    "new_column_order2 = [\"timestamp\",\"date\",\"Asset_ID\",\"Asset_Name\",\"Weight\",\"Count\",\"Volume\",\"Open\",\"High\",\"Low\",\"Close\",\"VWAP\",\"Target\"]\n",
    "crypto_details_last3months = crypto_details_last3months[new_column_order2]\n",
    "crypto_details_last3months.head()"
   ]
  },
  {
   "cell_type": "code",
   "execution_count": null,
   "id": "f695201d",
   "metadata": {},
   "outputs": [],
   "source": [
    "# export data into a CSV\n",
    "output_data_file2 = \"Data/crypto_details_last3months.csv\"\n",
    "#crypto_details_last3months.to_csv(output_data_file2)"
   ]
  },
  {
   "cell_type": "markdown",
   "id": "487515d5",
   "metadata": {},
   "source": [
    "## Create machine learning model\n",
    "### 1. LinearRegression"
   ]
  },
  {
   "cell_type": "code",
   "execution_count": null,
   "id": "dfc22119",
   "metadata": {},
   "outputs": [],
   "source": [
    "# Train the data using LinearRegression\n",
    "from sklearn.linear_model import LinearRegression\n",
    "\n",
    "lr = LinearRegression()\n",
    "\n",
    "lr.fit(X_bnc_train_scaled,y_bnc_train)\n",
    "y_pred_lr_bnc = lr.predict(X_bnc_test_scaled)\n",
    "\n",
    "lr.fit(X_bit_train_scaled,y_bit_train)\n",
    "y_pred_lr_bit = lr.predict(X_bit_test_scaled)\n",
    "\n",
    "lr.fit(X_eos_train_scaled,y_eos_train)\n",
    "y_pred_lr_eos = lr.predict(X_eos_test_scaled)\n",
    "\n",
    "lr.fit(X_eth_train_scaled,y_eth_train)\n",
    "y_pred_lr_eth = lr.predict(X_eth_test_scaled)\n",
    "\n",
    "lr.fit(X_lit_train_scaled,y_lit_train)\n",
    "y_pred_lr_lit = lr.predict(X_lit_test_scaled)\n",
    "\n",
    "lr.fit(X_mon_train_scaled,y_mon_train)\n",
    "y_pred_lr_mon = lr.predict(X_mon_test_scaled)"
   ]
  },
  {
   "cell_type": "code",
   "execution_count": null,
   "id": "13c79ef4",
   "metadata": {},
   "outputs": [],
   "source": [
    "print(f\"Test score for bnc: {np.corrcoef(y_bnc_test, y_pred_lr_bnc)[1,0]:.4f}\")\n",
    "print(f\"Test score for bit: {np.corrcoef(y_bit_test, y_pred_lr_bit)[1,0]:.4f}\")\n",
    "print(f\"Test score for eos: {np.corrcoef(y_eos_test, y_pred_lr_eos)[1,0]:.4f}\")\n",
    "print(f\"Test score for eth: {np.corrcoef(y_eth_test, y_pred_lr_eth)[1,0]:.4f}\")\n",
    "print(f\"Test score for lit: {np.corrcoef(y_lit_test, y_pred_lr_lit)[1,0]:.4f}\")\n",
    "print(f\"Test score for mon: {np.corrcoef(y_mon_test, y_pred_lr_mon)[1,0]:.4f}\")"
   ]
  },
  {
   "cell_type": "markdown",
   "id": "d29628ee",
   "metadata": {},
   "source": [
    "### 2. RandomForest"
   ]
  },
  {
   "cell_type": "code",
   "execution_count": null,
   "id": "4e87a1bf",
   "metadata": {},
   "outputs": [],
   "source": [
    "rf_model = RandomForestRegressor()\n",
    "\n",
    "rf_model.fit(X_bnc_train_scaled,y_bnc_train)\n",
    "y_pred_rf_bnc = rf_model.predict(X_bnc_test_scaled)\n",
    "\n",
    "rf_model.fit(X_bit_train_scaled,y_bit_train)\n",
    "y_pred_rf_bit = rf_model.predict(X_bit_test_scaled)\n",
    "\n",
    "rf_model.fit(X_eos_train_scaled,y_eos_train)\n",
    "y_pred_rf_eos = rf_model.predict(X_eos_test_scaled)\n",
    "\n",
    "rf_model.fit(X_eth_train_scaled,y_eth_train)\n",
    "y_pred_rf_eth = rf_model.predict(X_eth_test_scaled)\n",
    "\n",
    "rf_model.fit(X_lit_train_scaled,y_lit_train)\n",
    "y_pred_rf_lit = rf_model.predict(X_lit_test_scaled)\n",
    "\n",
    "rf_model.fit(X_mon_train_scaled,y_mon_train)\n",
    "y_pred_rf_mon = rf_model.predict(X_mon_test_scaled)"
   ]
  },
  {
   "cell_type": "code",
   "execution_count": null,
   "id": "09202e77",
   "metadata": {},
   "outputs": [],
   "source": [
    "print(f\"Test score for bnc: {np.corrcoef(y_bnc_test, y_pred_rf_bnc)[1,0]:.4f}\")\n",
    "print(f\"Test score for bit: {np.corrcoef(y_bit_test, y_pred_rf_bit)[1,0]:.4f}\")\n",
    "print(f\"Test score for eos: {np.corrcoef(y_eos_test, y_pred_rf_eos)[1,0]:.4f}\")\n",
    "print(f\"Test score for eth: {np.corrcoef(y_eth_test, y_pred_rf_eth)[1,0]:.4f}\")\n",
    "print(f\"Test score for lit: {np.corrcoef(y_lit_test, y_pred_rf_lit)[1,0]:.4f}\")\n",
    "print(f\"Test score for mon: {np.corrcoef(y_mon_test, y_pred_rf_mon)[1,0]:.4f}\")"
   ]
  },
  {
   "cell_type": "markdown",
   "id": "176edb13",
   "metadata": {},
   "source": [
    "### 3. XGBoost\n",
    "Perhaps the most commonly configured hyperparameters are the following:\n",
    "- n_estimators: The number of trees in the ensemble, often increased until no further improvements are seen.\n",
    "- max_depth: The maximum depth of each tree, often values are between 1 and 10.\n",
    "- eta: The learning rate used to weight each model, often set to small values such as 0.3, 0.1, 0.01, or smaller.\n",
    "- subsample: The number of samples (rows) used in each tree, set to a value between 0 and 1, often 1.0 to use all samples.\n",
    "- colsample_bytree: Number of features (columns) used in each tree, set to a value between 0 and 1, often 1.0 to use all features."
   ]
  },
  {
   "cell_type": "code",
   "execution_count": null,
   "id": "b4fb0bdb",
   "metadata": {},
   "outputs": [],
   "source": [
    "# create an xgboost regression model\n",
    "xg_model = XGBRegressor()\n",
    "\n",
    "# define model evaluation method\n",
    "cv = RepeatedKFold(n_splits=10, n_repeats=3, random_state=1)\n",
    "\n",
    "xg_model.fit(X_bnc_train_scaled, y_bnc_train)\n",
    "y_pred_xg_bnc = xg_model.predict(X_bnc_test_scaled)\n",
    "\n",
    "xg_model.fit(X_bit_train_scaled, y_bit_train)\n",
    "y_pred_xg_bit = xg_model.predict(X_bit_test_scaled)\n",
    "\n",
    "xg_model.fit(X_eos_train_scaled, y_eos_train)\n",
    "y_pred_xg_eos = xg_model.predict(X_eos_test_scaled)\n",
    "\n",
    "xg_model.fit(X_eth_train_scaled, y_eth_train)\n",
    "y_pred_xg_eth = xg_model.predict(X_eth_test_scaled)\n",
    "\n",
    "xg_model.fit(X_lit_train_scaled, y_lit_train)\n",
    "y_pred_xg_lit = xg_model.predict(X_lit_test_scaled)\n",
    "\n",
    "xg_model.fit(X_mon_train_scaled, y_mon_train)\n",
    "y_pred_xg_mon = xg_model.predict(X_mon_test_scaled)"
   ]
  },
  {
   "cell_type": "code",
   "execution_count": null,
   "id": "c8927fb5",
   "metadata": {},
   "outputs": [],
   "source": [
    "print(f\"Test score for bnc: {np.corrcoef(y_bnc_test, y_pred_xg_bnc)[1,0]:.4f}\")\n",
    "print(f\"Test score for bit: {np.corrcoef(y_bit_test, y_pred_xg_bit)[1,0]:.4f}\")\n",
    "print(f\"Test score for eos: {np.corrcoef(y_eos_test, y_pred_xg_eos)[1,0]:.4f}\")\n",
    "print(f\"Test score for eth: {np.corrcoef(y_eth_test, y_pred_xg_eth)[1,0]:.4f}\")\n",
    "print(f\"Test score for lit: {np.corrcoef(y_lit_test, y_pred_xg_lit)[1,0]:.4f}\")\n",
    "print(f\"Test score for mon: {np.corrcoef(y_mon_test, y_pred_xg_mon)[1,0]:.4f}\")"
   ]
  },
  {
   "cell_type": "markdown",
   "id": "362d3b19",
   "metadata": {},
   "source": [
    "## Save the prediction outputs of each model\n",
    "It may cost a long time for you to rerun all the 3 machine learning models, so let's save the outputs into a DataFrame for future analysis and data visualization."
   ]
  },
  {
   "cell_type": "code",
   "execution_count": null,
   "id": "5c911bf9",
   "metadata": {},
   "outputs": [],
   "source": [
    "df = pd.DataFrame(list(zip(y_bnc_test,y_pred_lr_bnc,y_pred_rf_bnc,y_pred_xg_bnc,y_bit_test,y_pred_lr_bit,y_pred_rf_bit,y_pred_xg_bit,y_eos_test,y_pred_lr_eos,y_pred_rf_eos,y_pred_xg_eos,y_eth_test,y_pred_lr_eth,y_pred_rf_eth,y_pred_xg_eth,y_lit_test,y_pred_lr_lit,y_pred_rf_lit,y_pred_xg_lit,y_mon_test,y_pred_lr_mon,y_pred_rf_mon,y_pred_xg_mon)), \n",
    "                      index=y_bnc_test.index, columns=[\"y_bnc_test\",\"y_pred_lr_bnc\",\"y_pred_rf_bnc\",\"y_pred_xg_bnc\",\"y_bit_test\",\"y_pred_lr_bit\",\"y_pred_rf_bit\",\"y_pred_xg_bit\",\"y_eos_test\",\"y_pred_lr_eos\",\"y_pred_rf_eos\",\"y_pred_xg_eos\",\"y_eth_test\",\"y_pred_lr_eth\",\"y_pred_rf_eth\",\"y_pred_xg_eth\",\"y_lit_test\",\"y_pred_lr_lit\",\"y_pred_rf_lit\",\"y_pred_xg_lit\",\"y_mon_test\",\"y_pred_lr_mon\",\"y_pred_rf_mon\",\"y_pred_xg_mon\"])\n",
    "df.head()"
   ]
  },
  {
   "cell_type": "code",
   "execution_count": null,
   "id": "5d41c7d7",
   "metadata": {},
   "outputs": [],
   "source": [
    "# export data into a CSV\n",
    "output_data_file = \"Data/crypto_model_output.csv\"\n",
    "df.to_csv(output_data_file)"
   ]
  },
  {
   "cell_type": "code",
   "execution_count": null,
   "id": "f326ba93",
   "metadata": {},
   "outputs": [],
   "source": [
    "score_df = pd.read_csv('Data/crypto_model_output.csv')\n",
    "score_df.head()"
   ]
  },
  {
   "cell_type": "code",
   "execution_count": null,
   "id": "697706e4",
   "metadata": {},
   "outputs": [],
   "source": [
    "def wcorr_score(pred, valid, weight):\n",
    "    len_data = len(pred)\n",
    "    sum_w = np.sum(weight)\n",
    "    mean_pred = np.sum(pred * weight) / sum_w\n",
    "    mean_valid = np.sum(valid * weight) / sum_w\n",
    "    var_pred = np.sum(weight * np.square(pred - mean_pred)) / sum_w\n",
    "    var_valid = np.sum(weight * np.square(valid - mean_valid)) / sum_w\n",
    "\n",
    "    cov = np.sum((pred * valid * weight)) / sum_w - mean_pred*mean_valid\n",
    "    corr = cov / np.sqrt(var_pred * var_valid)\n",
    "\n",
    "    return corr"
   ]
  },
  {
   "cell_type": "code",
   "execution_count": null,
   "id": "a5df0588",
   "metadata": {},
   "outputs": [],
   "source": [
    "# calculate the weighted correlation coefficient of LinearRegression\n",
    "all_pred = score_df[[\"y_pred_lr_bnc\", \"y_pred_lr_bit\", \"y_pred_lr_eos\", \"y_pred_lr_eth\", \"y_pred_lr_lit\", \"y_pred_lr_mon\"]]\n",
    "all_valid = score_df[[\"y_bnc_test\", \"y_bit_test\", \"y_eos_test\", \"y_eth_test\", \"y_lit_test\", \"y_mon_test\"]]\n",
    "all_weight = [asset_df.Weight[1], asset_df.Weight[2],asset_df.Weight[3], asset_df.Weight[5],asset_df.Weight[6], asset_df.Weight[7]]\n",
    "lr_wcorr = wcorr_score(np.array(all_pred), np.array(all_valid), np.array(all_weight))\n",
    "print(f'Weighted corr score for LinearRegression: {lr_wcorr:.8f}.')\n",
    "\n",
    "# calculate the weighted correlation coefficient of Random Forest\n",
    "all_pred2 = score_df[[\"y_pred_rf_bnc\", \"y_pred_rf_bit\", \"y_pred_rf_eos\", \"y_pred_rf_eth\", \"y_pred_rf_lit\", \"y_pred_rf_mon\"]]\n",
    "rf_wcorr = wcorr_score(np.array(all_pred2), np.array(all_valid), np.array(all_weight))\n",
    "print(f'Weighted corr score for Random Forest: {xg_wcorr:.8f}.')\n",
    "\n",
    "# calculate the weighted correlation coefficient of XGBoost\n",
    "all_pred3 = score_df[[\"y_pred_xg_bnc\", \"y_pred_xg_bit\", \"y_pred_xg_eos\", \"y_pred_xg_eth\", \"y_pred_xg_lit\", \"y_pred_xg_mon\"]]\n",
    "xg_wcorr = wcorr_score(np.array(all_pred3), np.array(all_valid), np.array(all_weight))\n",
    "print(f'Weighted corr score for XGBoost: {xg_wcorr:.8f}.')"
   ]
  },
  {
   "cell_type": "markdown",
   "id": "2a43df8f",
   "metadata": {},
   "source": [
    "## Data visualisation"
   ]
  },
  {
   "cell_type": "markdown",
   "id": "2f8fec2d",
   "metadata": {},
   "source": [
    "###  1. Check the correlation between each asset"
   ]
  },
  {
   "cell_type": "code",
   "execution_count": 271,
   "id": "2daa2ecb",
   "metadata": {},
   "outputs": [
    {
     "data": {
      "text/html": [
       "<div>\n",
       "<style scoped>\n",
       "    .dataframe tbody tr th:only-of-type {\n",
       "        vertical-align: middle;\n",
       "    }\n",
       "\n",
       "    .dataframe tbody tr th {\n",
       "        vertical-align: top;\n",
       "    }\n",
       "\n",
       "    .dataframe thead th {\n",
       "        text-align: right;\n",
       "    }\n",
       "</style>\n",
       "<table border=\"1\" class=\"dataframe\">\n",
       "  <thead>\n",
       "    <tr style=\"text-align: right;\">\n",
       "      <th></th>\n",
       "      <th>Binance Coin</th>\n",
       "      <th>Bitcoin</th>\n",
       "      <th>EOS.IO</th>\n",
       "      <th>Ethereum</th>\n",
       "      <th>Litecoin</th>\n",
       "      <th>Monero</th>\n",
       "    </tr>\n",
       "  </thead>\n",
       "  <tbody>\n",
       "    <tr>\n",
       "      <th>0</th>\n",
       "      <td>0.001812</td>\n",
       "      <td>-0.000526</td>\n",
       "      <td>0.003052</td>\n",
       "      <td>0.006721</td>\n",
       "      <td>0.003187</td>\n",
       "      <td>0.006057</td>\n",
       "    </tr>\n",
       "    <tr>\n",
       "      <th>1</th>\n",
       "      <td>0.005213</td>\n",
       "      <td>0.001627</td>\n",
       "      <td>0.003541</td>\n",
       "      <td>0.007496</td>\n",
       "      <td>0.004705</td>\n",
       "      <td>0.007601</td>\n",
       "    </tr>\n",
       "    <tr>\n",
       "      <th>2</th>\n",
       "      <td>0.005811</td>\n",
       "      <td>0.002531</td>\n",
       "      <td>0.002127</td>\n",
       "      <td>0.007557</td>\n",
       "      <td>0.003668</td>\n",
       "      <td>0.007740</td>\n",
       "    </tr>\n",
       "    <tr>\n",
       "      <th>3</th>\n",
       "      <td>0.001998</td>\n",
       "      <td>-0.002474</td>\n",
       "      <td>-0.000133</td>\n",
       "      <td>0.003745</td>\n",
       "      <td>0.001406</td>\n",
       "      <td>0.005900</td>\n",
       "    </tr>\n",
       "    <tr>\n",
       "      <th>4</th>\n",
       "      <td>-0.000713</td>\n",
       "      <td>-0.004768</td>\n",
       "      <td>-0.001764</td>\n",
       "      <td>-0.000523</td>\n",
       "      <td>-0.000890</td>\n",
       "      <td>0.003159</td>\n",
       "    </tr>\n",
       "  </tbody>\n",
       "</table>\n",
       "</div>"
      ],
      "text/plain": [
       "   Binance Coin   Bitcoin    EOS.IO  Ethereum  Litecoin    Monero\n",
       "0      0.001812 -0.000526  0.003052  0.006721  0.003187  0.006057\n",
       "1      0.005213  0.001627  0.003541  0.007496  0.004705  0.007601\n",
       "2      0.005811  0.002531  0.002127  0.007557  0.003668  0.007740\n",
       "3      0.001998 -0.002474 -0.000133  0.003745  0.001406  0.005900\n",
       "4     -0.000713 -0.004768 -0.001764 -0.000523 -0.000890  0.003159"
      ]
     },
     "execution_count": 271,
     "metadata": {},
     "output_type": "execute_result"
    }
   ],
   "source": [
    "#  check the correlation between each asset\n",
    "all_assets = pd.DataFrame(list(zip(bnc_test[\"log_return\"], bit_test[\"log_return\"], eos_test[\"log_return\"],eth_test[\"log_return\"],lit_test[\"log_return\"], mon_test[\"log_return\"])), \n",
    "                          index=bnc_test.index, columns=[\"Binance Coin\", \"Bitcoin\", \"EOS.IO\", \"Ethereum\", \"Litecoin\", \"Monero\"])\n",
    "all_assets.head()"
   ]
  },
  {
   "cell_type": "code",
   "execution_count": 272,
   "id": "fbaaa30f",
   "metadata": {},
   "outputs": [
    {
     "data": {
      "text/plain": [
       "<matplotlib.colorbar.Colorbar at 0x7f812a6a5750>"
      ]
     },
     "execution_count": 272,
     "metadata": {},
     "output_type": "execute_result"
    },
    {
     "data": {
      "image/png": "[encoded data removed]",
      "text/plain": [
       "<Figure size 432x288 with 2 Axes>"
      ]
     },
     "metadata": {
      "needs_background": "light"
     },
     "output_type": "display_data"
    }
   ],
   "source": [
    "# check the correlation between each asset\n",
    "labels=['Binance Coin','Bitcoin','EOS.io','Ethereum','Litecoin','Monero']\n",
    "plt.imshow(all_assets.corr())\n",
    "plt.yticks(range(6), labels)\n",
    "plt.xticks(range(6), labels, rotation=90) \n",
    "plt.colorbar()"
   ]
  },
  {
   "cell_type": "code",
   "execution_count": 273,
   "id": "87517250",
   "metadata": {},
   "outputs": [
    {
     "name": "stdout",
     "output_type": "stream",
     "text": [
      "              Binance Coin   Bitcoin    EOS.IO  Ethereum  Litecoin    Monero\n",
      "Binance Coin      1.000000  0.815152  0.785339  0.827462  0.741223  0.757462\n",
      "Bitcoin           0.815152  1.000000  0.758926  0.865003  0.763287  0.745212\n",
      "EOS.IO            0.785339  0.758926  1.000000  0.783113  0.769019  0.741414\n",
      "Ethereum          0.827462  0.865003  0.783113  1.000000  0.765917  0.752732\n",
      "Litecoin          0.741223  0.763287  0.769019  0.765917  1.000000  0.689631\n",
      "Monero            0.757462  0.745212  0.741414  0.752732  0.689631  1.000000\n"
     ]
    }
   ],
   "source": [
    "print(all_assets.corr())"
   ]
  },
  {
   "cell_type": "markdown",
   "id": "562045a7",
   "metadata": {},
   "source": [
    "### 2. Visualize the close price of each asset in the last 3 months"
   ]
  },
  {
   "cell_type": "code",
   "execution_count": 274,
   "id": "f35b28c2",
   "metadata": {},
   "outputs": [
    {
     "data": {
      "text/plain": [
       "0         2021-06-21\n",
       "1         2021-06-21\n",
       "2         2021-06-21\n",
       "3         2021-06-21\n",
       "4         2021-06-21\n",
       "             ...    \n",
       "132475    2021-09-20\n",
       "132476    2021-09-20\n",
       "132477    2021-09-20\n",
       "132478    2021-09-20\n",
       "132479    2021-09-21\n",
       "Name: timestamp, Length: 132480, dtype: object"
      ]
     },
     "execution_count": 274,
     "metadata": {},
     "output_type": "execute_result"
    }
   ],
   "source": [
    "times = score_df[\"timestamp\"]\n",
    "dates = times.apply(lambda d: datetime.utcfromtimestamp(d).strftime('%Y-%m-%d'))\n",
    "dates"
   ]
  },
  {
   "cell_type": "code",
   "execution_count": 275,
   "id": "f3d0a4ee",
   "metadata": {},
   "outputs": [
    {
     "data": {
      "image/png": "[encoded data removed]",
      "text/plain": [
       "<Figure size 1080x720 with 6 Axes>"
      ]
     },
     "metadata": {
      "needs_background": "light"
     },
     "output_type": "display_data"
    }
   ],
   "source": [
    "# visualize the close price of each cryptocurrencies in the last 3 months\n",
    "fig = plt.figure(figsize=(15,10))\n",
    "fig.add_subplot(321)\n",
    "plt.plot(times, bnc_test['Close'], color=\"blue\")\n",
    "plt.xlabel('Binance Coin')\n",
    "plt.ylabel('Close Price')\n",
    "plt.xticks(times[0:-1:10000],dates[0:-1:10000], rotation = 45)\n",
    "\n",
    "fig.add_subplot(322)\n",
    "plt.plot(times,bit_test['Close'], color=\"green\")\n",
    "plt.xlabel('Bitcoin')\n",
    "plt.ylabel('Close Price')\n",
    "plt.xticks(times[0:-1:10000],dates[0:-1:10000], rotation = 45)\n",
    "\n",
    "fig.add_subplot(323)\n",
    "plt.plot(times,eos_test['Close'], color=\"yellow\")\n",
    "plt.xlabel('EOS.IO')\n",
    "plt.ylabel('Close Price')\n",
    "plt.xticks(times[0:-1:10000],dates[0:-1:10000], rotation = 45)\n",
    "\n",
    "fig.add_subplot(324)\n",
    "plt.plot(times,eth_test['Close'], color=\"black\")\n",
    "plt.xlabel('Ethereum')\n",
    "plt.ylabel('Close Price')\n",
    "plt.xticks(times[0:-1:10000],dates[0:-1:10000], rotation = 45)\n",
    "\n",
    "fig.add_subplot(325)\n",
    "plt.plot(times,lit_test['Close'], color=\"red\")\n",
    "plt.xlabel('Litecoin')\n",
    "plt.ylabel('Close Price')\n",
    "plt.xticks(times[0:-1:10000],dates[0:-1:10000], rotation = 45)\n",
    "\n",
    "fig.add_subplot(326)\n",
    "plt.plot(times,mon_test['Close'], color=\"orange\")\n",
    "plt.xlabel('Monero')\n",
    "plt.ylabel('Close Price')\n",
    "plt.xticks(times[0:-1:10000],dates[0:-1:10000], rotation = 45)\n",
    "\n",
    "plt.tight_layout()\n",
    "plt.show()"
   ]
  },
  {
   "cell_type": "markdown",
   "id": "fd6ad101",
   "metadata": {},
   "source": [
    "### 3. Create the candlestick chart for last 3 months"
   ]
  },
  {
   "cell_type": "code",
   "execution_count": 261,
   "id": "f26eec44",
   "metadata": {},
   "outputs": [
    {
     "name": "stderr",
     "output_type": "stream",
     "text": [
      "/Users/yufengwu/opt/anaconda3/envs/mlenv/lib/python3.7/site-packages/ipykernel_launcher.py:3: SettingWithCopyWarning:\n",
      "\n",
      "\n",
      "A value is trying to be set on a copy of a slice from a DataFrame.\n",
      "Try using .loc[row_indexer,col_indexer] = value instead\n",
      "\n",
      "See the caveats in the documentation: https://pandas.pydata.org/pandas-docs/stable/user_guide/indexing.html#returning-a-view-versus-a-copy\n",
      "\n"
     ]
    },
    {
     "data": {
      "text/html": [
       "<div>\n",
       "<style scoped>\n",
       "    .dataframe tbody tr th:only-of-type {\n",
       "        vertical-align: middle;\n",
       "    }\n",
       "\n",
       "    .dataframe tbody tr th {\n",
       "        vertical-align: top;\n",
       "    }\n",
       "\n",
       "    .dataframe thead th {\n",
       "        text-align: right;\n",
       "    }\n",
       "</style>\n",
       "<table border=\"1\" class=\"dataframe\">\n",
       "  <thead>\n",
       "    <tr style=\"text-align: right;\">\n",
       "      <th></th>\n",
       "      <th>index</th>\n",
       "      <th>timestamp</th>\n",
       "      <th>Asset_ID</th>\n",
       "      <th>Count</th>\n",
       "      <th>Open</th>\n",
       "      <th>High</th>\n",
       "      <th>Low</th>\n",
       "      <th>Close</th>\n",
       "      <th>Volume</th>\n",
       "      <th>VWAP</th>\n",
       "      <th>Target</th>\n",
       "      <th>log_return</th>\n",
       "      <th>date</th>\n",
       "    </tr>\n",
       "  </thead>\n",
       "  <tbody>\n",
       "    <tr>\n",
       "      <th>0</th>\n",
       "      <td>0</td>\n",
       "      <td>1624233660</td>\n",
       "      <td>0</td>\n",
       "      <td>296.0</td>\n",
       "      <td>339.9190</td>\n",
       "      <td>340.01</td>\n",
       "      <td>339.240</td>\n",
       "      <td>339.6760</td>\n",
       "      <td>623.416611</td>\n",
       "      <td>339.668832</td>\n",
       "      <td>0.000482</td>\n",
       "      <td>0.001812</td>\n",
       "      <td>2021-06-21 00:01:00</td>\n",
       "    </tr>\n",
       "    <tr>\n",
       "      <th>1</th>\n",
       "      <td>1</td>\n",
       "      <td>1624233720</td>\n",
       "      <td>0</td>\n",
       "      <td>2046.0</td>\n",
       "      <td>339.6825</td>\n",
       "      <td>342.00</td>\n",
       "      <td>339.675</td>\n",
       "      <td>341.3840</td>\n",
       "      <td>6182.884665</td>\n",
       "      <td>341.112575</td>\n",
       "      <td>0.001171</td>\n",
       "      <td>0.005213</td>\n",
       "      <td>2021-06-21 00:02:00</td>\n",
       "    </tr>\n",
       "    <tr>\n",
       "      <th>2</th>\n",
       "      <td>2</td>\n",
       "      <td>1624233780</td>\n",
       "      <td>0</td>\n",
       "      <td>1036.0</td>\n",
       "      <td>341.4175</td>\n",
       "      <td>342.00</td>\n",
       "      <td>340.995</td>\n",
       "      <td>341.2925</td>\n",
       "      <td>2485.581536</td>\n",
       "      <td>341.616181</td>\n",
       "      <td>0.000698</td>\n",
       "      <td>0.005811</td>\n",
       "      <td>2021-06-21 00:03:00</td>\n",
       "    </tr>\n",
       "    <tr>\n",
       "      <th>3</th>\n",
       "      <td>3</td>\n",
       "      <td>1624233840</td>\n",
       "      <td>0</td>\n",
       "      <td>862.0</td>\n",
       "      <td>341.3025</td>\n",
       "      <td>341.41</td>\n",
       "      <td>339.750</td>\n",
       "      <td>339.8510</td>\n",
       "      <td>1608.247226</td>\n",
       "      <td>340.667832</td>\n",
       "      <td>0.001799</td>\n",
       "      <td>0.001998</td>\n",
       "      <td>2021-06-21 00:04:00</td>\n",
       "    </tr>\n",
       "    <tr>\n",
       "      <th>4</th>\n",
       "      <td>4</td>\n",
       "      <td>1624233900</td>\n",
       "      <td>0</td>\n",
       "      <td>580.0</td>\n",
       "      <td>339.8740</td>\n",
       "      <td>340.28</td>\n",
       "      <td>339.380</td>\n",
       "      <td>339.4755</td>\n",
       "      <td>1493.521875</td>\n",
       "      <td>339.862421</td>\n",
       "      <td>0.002198</td>\n",
       "      <td>-0.000713</td>\n",
       "      <td>2021-06-21 00:05:00</td>\n",
       "    </tr>\n",
       "  </tbody>\n",
       "</table>\n",
       "</div>"
      ],
      "text/plain": [
       "   index   timestamp  Asset_ID   Count      Open    High      Low     Close  \\\n",
       "0      0  1624233660         0   296.0  339.9190  340.01  339.240  339.6760   \n",
       "1      1  1624233720         0  2046.0  339.6825  342.00  339.675  341.3840   \n",
       "2      2  1624233780         0  1036.0  341.4175  342.00  340.995  341.2925   \n",
       "3      3  1624233840         0   862.0  341.3025  341.41  339.750  339.8510   \n",
       "4      4  1624233900         0   580.0  339.8740  340.28  339.380  339.4755   \n",
       "\n",
       "        Volume        VWAP    Target  log_return                date  \n",
       "0   623.416611  339.668832  0.000482    0.001812 2021-06-21 00:01:00  \n",
       "1  6182.884665  341.112575  0.001171    0.005213 2021-06-21 00:02:00  \n",
       "2  2485.581536  341.616181  0.000698    0.005811 2021-06-21 00:03:00  \n",
       "3  1608.247226  340.667832  0.001799    0.001998 2021-06-21 00:04:00  \n",
       "4  1493.521875  339.862421  0.002198   -0.000713 2021-06-21 00:05:00  "
      ]
     },
     "execution_count": 261,
     "metadata": {},
     "output_type": "execute_result"
    }
   ],
   "source": [
    "# convert minutes data to daily data\n",
    "bnc_test.reset_index(inplace=True)\n",
    "bnc_test[\"date\"]=pd.to_datetime(bnc_test[\"timestamp\"], unit='s')\n",
    "bnc_test.head()"
   ]
  },
  {
   "cell_type": "code",
   "execution_count": 259,
   "id": "331031a1",
   "metadata": {},
   "outputs": [
    {
     "data": {
      "text/html": [
       "<div>\n",
       "<style scoped>\n",
       "    .dataframe tbody tr th:only-of-type {\n",
       "        vertical-align: middle;\n",
       "    }\n",
       "\n",
       "    .dataframe tbody tr th {\n",
       "        vertical-align: top;\n",
       "    }\n",
       "\n",
       "    .dataframe thead th {\n",
       "        text-align: right;\n",
       "    }\n",
       "</style>\n",
       "<table border=\"1\" class=\"dataframe\">\n",
       "  <thead>\n",
       "    <tr style=\"text-align: right;\">\n",
       "      <th></th>\n",
       "      <th>Open</th>\n",
       "      <th>High</th>\n",
       "      <th>Low</th>\n",
       "      <th>Close</th>\n",
       "    </tr>\n",
       "    <tr>\n",
       "      <th>date</th>\n",
       "      <th></th>\n",
       "      <th></th>\n",
       "      <th></th>\n",
       "      <th></th>\n",
       "    </tr>\n",
       "  </thead>\n",
       "  <tbody>\n",
       "    <tr>\n",
       "      <th>2021-06-21</th>\n",
       "      <td>309.530696</td>\n",
       "      <td>310.094880</td>\n",
       "      <td>308.933265</td>\n",
       "      <td>309.477793</td>\n",
       "    </tr>\n",
       "    <tr>\n",
       "      <th>2021-06-22</th>\n",
       "      <td>267.083007</td>\n",
       "      <td>267.780006</td>\n",
       "      <td>266.448086</td>\n",
       "      <td>267.093205</td>\n",
       "    </tr>\n",
       "    <tr>\n",
       "      <th>2021-06-23</th>\n",
       "      <td>289.119620</td>\n",
       "      <td>289.650689</td>\n",
       "      <td>288.616466</td>\n",
       "      <td>289.138807</td>\n",
       "    </tr>\n",
       "    <tr>\n",
       "      <th>2021-06-24</th>\n",
       "      <td>301.553758</td>\n",
       "      <td>301.965431</td>\n",
       "      <td>301.157397</td>\n",
       "      <td>301.556685</td>\n",
       "    </tr>\n",
       "    <tr>\n",
       "      <th>2021-06-25</th>\n",
       "      <td>293.107461</td>\n",
       "      <td>293.551430</td>\n",
       "      <td>292.621157</td>\n",
       "      <td>293.080339</td>\n",
       "    </tr>\n",
       "    <tr>\n",
       "      <th>...</th>\n",
       "      <td>...</td>\n",
       "      <td>...</td>\n",
       "      <td>...</td>\n",
       "      <td>...</td>\n",
       "    </tr>\n",
       "    <tr>\n",
       "      <th>2021-09-17</th>\n",
       "      <td>414.190533</td>\n",
       "      <td>414.492197</td>\n",
       "      <td>413.857896</td>\n",
       "      <td>414.180899</td>\n",
       "    </tr>\n",
       "    <tr>\n",
       "      <th>2021-09-18</th>\n",
       "      <td>413.473663</td>\n",
       "      <td>413.723285</td>\n",
       "      <td>413.221269</td>\n",
       "      <td>413.471362</td>\n",
       "    </tr>\n",
       "    <tr>\n",
       "      <th>2021-09-19</th>\n",
       "      <td>410.895177</td>\n",
       "      <td>411.126442</td>\n",
       "      <td>410.646383</td>\n",
       "      <td>410.892732</td>\n",
       "    </tr>\n",
       "    <tr>\n",
       "      <th>2021-09-20</th>\n",
       "      <td>379.646330</td>\n",
       "      <td>380.137892</td>\n",
       "      <td>379.106358</td>\n",
       "      <td>379.614258</td>\n",
       "    </tr>\n",
       "    <tr>\n",
       "      <th>2021-09-21</th>\n",
       "      <td>364.115000</td>\n",
       "      <td>364.500000</td>\n",
       "      <td>363.700000</td>\n",
       "      <td>363.757500</td>\n",
       "    </tr>\n",
       "  </tbody>\n",
       "</table>\n",
       "<p>93 rows × 4 columns</p>\n",
       "</div>"
      ],
      "text/plain": [
       "                  Open        High         Low       Close\n",
       "date                                                      \n",
       "2021-06-21  309.530696  310.094880  308.933265  309.477793\n",
       "2021-06-22  267.083007  267.780006  266.448086  267.093205\n",
       "2021-06-23  289.119620  289.650689  288.616466  289.138807\n",
       "2021-06-24  301.553758  301.965431  301.157397  301.556685\n",
       "2021-06-25  293.107461  293.551430  292.621157  293.080339\n",
       "...                ...         ...         ...         ...\n",
       "2021-09-17  414.190533  414.492197  413.857896  414.180899\n",
       "2021-09-18  413.473663  413.723285  413.221269  413.471362\n",
       "2021-09-19  410.895177  411.126442  410.646383  410.892732\n",
       "2021-09-20  379.646330  380.137892  379.106358  379.614258\n",
       "2021-09-21  364.115000  364.500000  363.700000  363.757500\n",
       "\n",
       "[93 rows x 4 columns]"
      ]
     },
     "execution_count": 259,
     "metadata": {},
     "output_type": "execute_result"
    }
   ],
   "source": [
    "cols = ['Open', 'High', 'Low', 'Close']\n",
    "bnc_daily_price = bnc_test.groupby(pd.Grouper(freq='D', key='date')).mean()[cols]\n",
    "bnc_daily_price"
   ]
  },
  {
   "cell_type": "code",
   "execution_count": 270,
   "id": "af562f9c",
   "metadata": {
    "scrolled": true
   },
   "outputs": [
    {
     "data": {
      "application/vnd.plotly.v1+json": {
       "config": {
        "plotlyServerURL": "https://plot.ly"
       },
       "data": [
        {
         "close": [
          309.4777929117443,
          267.09320486111113,
          289.1388072916667,
          301.55668472222226,
          293.0803392361112,
          275.96792256944445,
          278.8876340277778,
          290.1712875,
          302.43913993055554,
          294.6397465277778,
          289.91773506944446,
          282.31609444444445,
          293.2876420138889,
          305.20609618055556,
          300.5652972222223,
          313.9736260416667,
          332.28472638888894,
          316.20702847222225,
          311.2114777777778,
          314.82436458333336,
          319.6457399305556,
          322.47054270833337,
          311.5794670138889,
          303.69450520833334,
          311.49330590277776,
          310.4568885416667,
          300.69035972222224,
          304.66305451388894,
          291.5202767361111,
          266.1935215277778,
          282.3230736111111,
          293.2976211805556,
          291.66027881944444,
          301.35444895833336,
          299.14147048611113,
          316.73903020833336,
          307.70449479166666,
          313.42801875,
          313.6607857638889,
          315.4444677083333,
          327.1580920138889,
          339.9482232638889,
          332.15888020833336,
          323.46444722222225,
          327.60967118055555,
          332.6696194444445,
          337.93105868055557,
          350.8361545138889,
          349.34938298611115,
          348.4172725694445,
          361.41642430555555,
          389.6782520833333,
          386.5734045138889,
          398.9941361111111,
          407.8501444444444,
          405.08773229166667,
          422.2040152777778,
          420.60626284722224,
          399.55194513888887,
          410.70185625,
          437.5477045138889,
          452.90544270833334,
          449.18519930555556,
          487.70011111111114,
          486.38255381944447,
          489.69689687500005,
          487.9616149305556,
          483.5203541666667,
          487.29803576388895,
          484.57015000000007,
          474.3951100694445,
          464.6283701388889,
          475.1184628472222,
          489.9506777777778,
          487.6268572916666,
          494.5014399305556,
          496.5159079861111,
          499.24735937500003,
          459.59874722222224,
          412.3937163194444,
          417.23507916666665,
          414.4947347222223,
          408.32788159722224,
          412.028515625,
          398.98924791666667,
          403.8210819444445,
          424.24185208333336,
          426.53110694444445,
          414.18089861111116,
          413.4713621527778,
          410.8927322916666,
          379.6142579861111,
          363.7575
         ],
         "high": [
          310.09487977762336,
          267.78000625,
          289.6506888888889,
          301.9654305555556,
          293.5514298611111,
          276.38281944444446,
          279.1791,
          290.46448541666666,
          302.76659861111114,
          294.96472708333334,
          290.2128465277778,
          282.5595048611111,
          293.4684256944444,
          305.40888125,
          300.8175826388889,
          314.2707375,
          332.5839583333333,
          316.51684375,
          311.4608166666667,
          315.0388569444445,
          319.84597777777776,
          322.72470833333335,
          311.81912708333334,
          303.9830666666667,
          311.8340513888889,
          310.7431472222222,
          300.9340097222222,
          304.84779097222224,
          291.75695069444447,
          266.50421111111115,
          282.62399652777776,
          293.5544666666667,
          291.90350625,
          301.5823291666667,
          299.3625131944445,
          317.10834375,
          308.0096805555556,
          313.6839611111111,
          313.8663305555556,
          315.6486611111111,
          327.38453125,
          340.23226319444444,
          332.40767847222224,
          323.7017173611111,
          327.81501180555557,
          332.91062569444443,
          338.15010416666667,
          351.1108263888889,
          349.63289375,
          348.68039930555557,
          361.72074305555554,
          390.01773541666665,
          386.9718902777778,
          399.2913638888889,
          408.18041041666663,
          405.37942083333337,
          422.56759444444447,
          421.05004583333334,
          399.99188888888887,
          411.1125277777778,
          437.88161388888886,
          453.2607763888889,
          449.48997638888886,
          488.19581388888884,
          486.8441875,
          490.22473402777774,
          488.5708493055556,
          483.99353194444444,
          487.6326951388889,
          484.8893361111111,
          474.7396875,
          465.0506888888889,
          475.48733263888886,
          490.3040104166667,
          487.96437777777777,
          494.88233333333335,
          496.8150041666667,
          499.56146875,
          460.493275,
          413.0124618055555,
          417.69574305555557,
          414.95376736111115,
          408.6497826388889,
          412.3320673611111,
          399.4330194444444,
          404.1293618055555,
          424.5395,
          426.83116875,
          414.4921965277778,
          413.7232847222222,
          411.12644166666666,
          380.1378916666667,
          364.5
         ],
         "low": [
          308.9332654621265,
          266.44808611111114,
          288.6164659722222,
          301.1573965277778,
          292.62115694444446,
          275.56561180555553,
          278.5974347222222,
          289.87880972222223,
          302.1095270833333,
          294.28930972222224,
          289.6207875,
          282.0822340277778,
          293.0945041666667,
          304.9802027777778,
          300.2975902777778,
          313.6628645833334,
          331.9762798611111,
          315.87139236111113,
          310.94939097222226,
          314.6051756944444,
          319.4494569444444,
          322.2208083333333,
          311.35519166666666,
          303.4253013888889,
          311.15411666666665,
          310.17654513888886,
          300.4411173611111,
          304.4729451388889,
          291.28002430555557,
          265.89274166666667,
          282.0224548611111,
          293.04036180555556,
          291.40099791666665,
          301.10825416666665,
          298.9043965277778,
          316.3384916666667,
          307.39532152777775,
          313.1578645833333,
          313.45641111111115,
          315.2241763888889,
          326.91578888888887,
          339.6452541666667,
          331.91249791666667,
          323.22009305555554,
          327.39560625,
          332.41246666666666,
          337.6961708333334,
          350.53792152777777,
          349.06730069444444,
          348.1383,
          361.09229305555556,
          389.2876222222222,
          386.1247743055556,
          398.6570881944445,
          407.49016597222226,
          404.7726631944445,
          421.8283923611111,
          420.17052569444445,
          399.11422638888894,
          410.2872375,
          437.1823895833333,
          452.5286458333333,
          448.8592756944444,
          487.1544715277778,
          485.91425625,
          489.1780069444444,
          487.3427743055555,
          483.0525909722222,
          486.9803270833333,
          484.2587361111111,
          474.02345833333334,
          464.16178333333335,
          474.72968958333337,
          489.5516284722222,
          487.2613638888889,
          494.0948659722222,
          496.19786875,
          498.9101986111111,
          458.66280277777776,
          411.7928555555556,
          416.75797986111115,
          414.0171534722222,
          407.98893333333336,
          411.7072972222222,
          398.5309951388889,
          403.52324722222227,
          423.94704722222224,
          426.2019576388889,
          413.8578958333333,
          413.22126875,
          410.6463826388889,
          379.10635833333333,
          363.7
         ],
         "open": [
          309.5306959694232,
          267.0830065972222,
          289.11962013888893,
          301.55375833333335,
          293.1074614583334,
          275.968978125,
          278.88284895833334,
          290.1723517361111,
          302.435334375,
          294.638259375,
          289.93329409722224,
          282.32514583333335,
          293.2819895833333,
          305.20229687500006,
          300.5729875,
          313.96724131944444,
          332.2809920138889,
          316.21733888888895,
          311.2109892361111,
          314.82894548611114,
          319.6469538194445,
          322.4781510416667,
          311.5857364583334,
          303.7010270833334,
          311.49564583333336,
          310.46786875000004,
          300.6979538194445,
          304.66545034722225,
          291.53774166666665,
          266.20666319444445,
          282.3079232638889,
          293.30806458333336,
          291.66176111111116,
          301.3572649305556,
          299.1470482638889,
          316.74346909722226,
          307.70455694444445,
          313.4302805555556,
          313.6646760416667,
          315.44306770833333,
          327.1528805555556,
          339.95025104166666,
          332.1635552083334,
          323.4724232638889,
          327.6050069444445,
          332.6694510416667,
          337.93010173611117,
          350.83247465277776,
          349.36459618055557,
          348.4155840277778,
          361.4103138888889,
          389.66574930555555,
          386.57396597222225,
          398.9743402777778,
          407.8532427083333,
          405.0869701388889,
          422.2021736111111,
          420.61878506944447,
          399.5612458333334,
          410.6834149305556,
          437.53344097222225,
          452.9118694444445,
          449.1883451388889,
          487.670209375,
          486.3937402777778,
          489.68461354166664,
          487.977428125,
          483.5100003472222,
          487.3034482638889,
          484.5784815972222,
          474.4030357638889,
          464.62834548611113,
          475.10374444444443,
          489.95178229166663,
          487.6239736111111,
          494.4922680555556,
          496.5138270833333,
          499.25404340277777,
          459.6358295138889,
          412.40212430555556,
          417.2276222222222,
          414.5088309027778,
          408.3238739583333,
          412.0205524305556,
          399.001396875,
          403.81226631944446,
          424.23179375000007,
          426.5337788194445,
          414.19053263888884,
          413.4736628472222,
          410.89517673611107,
          379.6463302083334,
          364.115
         ],
         "type": "candlestick",
         "x": [
          "2021-06-21T00:00:00",
          "2021-06-22T00:00:00",
          "2021-06-23T00:00:00",
          "2021-06-24T00:00:00",
          "2021-06-25T00:00:00",
          "2021-06-26T00:00:00",
          "2021-06-27T00:00:00",
          "2021-06-28T00:00:00",
          "2021-06-29T00:00:00",
          "2021-06-30T00:00:00",
          "2021-07-01T00:00:00",
          "2021-07-02T00:00:00",
          "2021-07-03T00:00:00",
          "2021-07-04T00:00:00",
          "2021-07-05T00:00:00",
          "2021-07-06T00:00:00",
          "2021-07-07T00:00:00",
          "2021-07-08T00:00:00",
          "2021-07-09T00:00:00",
          "2021-07-10T00:00:00",
          "2021-07-11T00:00:00",
          "2021-07-12T00:00:00",
          "2021-07-13T00:00:00",
          "2021-07-14T00:00:00",
          "2021-07-15T00:00:00",
          "2021-07-16T00:00:00",
          "2021-07-17T00:00:00",
          "2021-07-18T00:00:00",
          "2021-07-19T00:00:00",
          "2021-07-20T00:00:00",
          "2021-07-21T00:00:00",
          "2021-07-22T00:00:00",
          "2021-07-23T00:00:00",
          "2021-07-24T00:00:00",
          "2021-07-25T00:00:00",
          "2021-07-26T00:00:00",
          "2021-07-27T00:00:00",
          "2021-07-28T00:00:00",
          "2021-07-29T00:00:00",
          "2021-07-30T00:00:00",
          "2021-07-31T00:00:00",
          "2021-08-01T00:00:00",
          "2021-08-02T00:00:00",
          "2021-08-03T00:00:00",
          "2021-08-04T00:00:00",
          "2021-08-05T00:00:00",
          "2021-08-06T00:00:00",
          "2021-08-07T00:00:00",
          "2021-08-08T00:00:00",
          "2021-08-09T00:00:00",
          "2021-08-10T00:00:00",
          "2021-08-11T00:00:00",
          "2021-08-12T00:00:00",
          "2021-08-13T00:00:00",
          "2021-08-14T00:00:00",
          "2021-08-15T00:00:00",
          "2021-08-16T00:00:00",
          "2021-08-17T00:00:00",
          "2021-08-18T00:00:00",
          "2021-08-19T00:00:00",
          "2021-08-20T00:00:00",
          "2021-08-21T00:00:00",
          "2021-08-22T00:00:00",
          "2021-08-23T00:00:00",
          "2021-08-24T00:00:00",
          "2021-08-25T00:00:00",
          "2021-08-26T00:00:00",
          "2021-08-27T00:00:00",
          "2021-08-28T00:00:00",
          "2021-08-29T00:00:00",
          "2021-08-30T00:00:00",
          "2021-08-31T00:00:00",
          "2021-09-01T00:00:00",
          "2021-09-02T00:00:00",
          "2021-09-03T00:00:00",
          "2021-09-04T00:00:00",
          "2021-09-05T00:00:00",
          "2021-09-06T00:00:00",
          "2021-09-07T00:00:00",
          "2021-09-08T00:00:00",
          "2021-09-09T00:00:00",
          "2021-09-10T00:00:00",
          "2021-09-11T00:00:00",
          "2021-09-12T00:00:00",
          "2021-09-13T00:00:00",
          "2021-09-14T00:00:00",
          "2021-09-15T00:00:00",
          "2021-09-16T00:00:00",
          "2021-09-17T00:00:00",
          "2021-09-18T00:00:00",
          "2021-09-19T00:00:00",
          "2021-09-20T00:00:00",
          "2021-09-21T00:00:00"
         ]
        }
       ],
       "layout": {
        "template": {
         "data": {
          "bar": [
           {
            "error_x": {
             "color": "#2a3f5f"
            },
            "error_y": {
             "color": "#2a3f5f"
            },
            "marker": {
             "line": {
              "color": "#E5ECF6",
              "width": 0.5
             },
             "pattern": {
              "fillmode": "overlay",
              "size": 10,
              "solidity": 0.2
             }
            },
            "type": "bar"
           }
          ],
          "barpolar": [
           {
            "marker": {
             "line": {
              "color": "#E5ECF6",
              "width": 0.5
             },
             "pattern": {
              "fillmode": "overlay",
              "size": 10,
              "solidity": 0.2
             }
            },
            "type": "barpolar"
           }
          ],
          "carpet": [
           {
            "aaxis": {
             "endlinecolor": "#2a3f5f",
             "gridcolor": "white",
             "linecolor": "white",
             "minorgridcolor": "white",
             "startlinecolor": "#2a3f5f"
            },
            "baxis": {
             "endlinecolor": "#2a3f5f",
             "gridcolor": "white",
             "linecolor": "white",
             "minorgridcolor": "white",
             "startlinecolor": "#2a3f5f"
            },
            "type": "carpet"
           }
          ],
          "choropleth": [
           {
            "colorbar": {
             "outlinewidth": 0,
             "ticks": ""
            },
            "type": "choropleth"
           }
          ],
          "contour": [
           {
            "colorbar": {
             "outlinewidth": 0,
             "ticks": ""
            },
            "colorscale": [
             [
              0,
              "#0d0887"
             ],
             [
              0.1111111111111111,
              "#46039f"
             ],
             [
              0.2222222222222222,
              "#7201a8"
             ],
             [
              0.3333333333333333,
              "#9c179e"
             ],
             [
              0.4444444444444444,
              "#bd3786"
             ],
             [
              0.5555555555555556,
              "#d8576b"
             ],
             [
              0.6666666666666666,
              "#ed7953"
             ],
             [
              0.7777777777777778,
              "#fb9f3a"
             ],
             [
              0.8888888888888888,
              "#fdca26"
             ],
             [
              1,
              "#f0f921"
             ]
            ],
            "type": "contour"
           }
          ],
          "contourcarpet": [
           {
            "colorbar": {
             "outlinewidth": 0,
             "ticks": ""
            },
            "type": "contourcarpet"
           }
          ],
          "heatmap": [
           {
            "colorbar": {
             "outlinewidth": 0,
             "ticks": ""
            },
            "colorscale": [
             [
              0,
              "#0d0887"
             ],
             [
              0.1111111111111111,
              "#46039f"
             ],
             [
              0.2222222222222222,
              "#7201a8"
             ],
             [
              0.3333333333333333,
              "#9c179e"
             ],
             [
              0.4444444444444444,
              "#bd3786"
             ],
             [
              0.5555555555555556,
              "#d8576b"
             ],
             [
              0.6666666666666666,
              "#ed7953"
             ],
             [
              0.7777777777777778,
              "#fb9f3a"
             ],
             [
              0.8888888888888888,
              "#fdca26"
             ],
             [
              1,
              "#f0f921"
             ]
            ],
            "type": "heatmap"
           }
          ],
          "heatmapgl": [
           {
            "colorbar": {
             "outlinewidth": 0,
             "ticks": ""
            },
            "colorscale": [
             [
              0,
              "#0d0887"
             ],
             [
              0.1111111111111111,
              "#46039f"
             ],
             [
              0.2222222222222222,
              "#7201a8"
             ],
             [
              0.3333333333333333,
              "#9c179e"
             ],
             [
              0.4444444444444444,
              "#bd3786"
             ],
             [
              0.5555555555555556,
              "#d8576b"
             ],
             [
              0.6666666666666666,
              "#ed7953"
             ],
             [
              0.7777777777777778,
              "#fb9f3a"
             ],
             [
              0.8888888888888888,
              "#fdca26"
             ],
             [
              1,
              "#f0f921"
             ]
            ],
            "type": "heatmapgl"
           }
          ],
          "histogram": [
           {
            "marker": {
             "pattern": {
              "fillmode": "overlay",
              "size": 10,
              "solidity": 0.2
             }
            },
            "type": "histogram"
           }
          ],
          "histogram2d": [
           {
            "colorbar": {
             "outlinewidth": 0,
             "ticks": ""
            },
            "colorscale": [
             [
              0,
              "#0d0887"
             ],
             [
              0.1111111111111111,
              "#46039f"
             ],
             [
              0.2222222222222222,
              "#7201a8"
             ],
             [
              0.3333333333333333,
              "#9c179e"
             ],
             [
              0.4444444444444444,
              "#bd3786"
             ],
             [
              0.5555555555555556,
              "#d8576b"
             ],
             [
              0.6666666666666666,
              "#ed7953"
             ],
             [
              0.7777777777777778,
              "#fb9f3a"
             ],
             [
              0.8888888888888888,
              "#fdca26"
             ],
             [
              1,
              "#f0f921"
             ]
            ],
            "type": "histogram2d"
           }
          ],
          "histogram2dcontour": [
           {
            "colorbar": {
             "outlinewidth": 0,
             "ticks": ""
            },
            "colorscale": [
             [
              0,
              "#0d0887"
             ],
             [
              0.1111111111111111,
              "#46039f"
             ],
             [
              0.2222222222222222,
              "#7201a8"
             ],
             [
              0.3333333333333333,
              "#9c179e"
             ],
             [
              0.4444444444444444,
              "#bd3786"
             ],
             [
              0.5555555555555556,
              "#d8576b"
             ],
             [
              0.6666666666666666,
              "#ed7953"
             ],
             [
              0.7777777777777778,
              "#fb9f3a"
             ],
             [
              0.8888888888888888,
              "#fdca26"
             ],
             [
              1,
              "#f0f921"
             ]
            ],
            "type": "histogram2dcontour"
           }
          ],
          "mesh3d": [
           {
            "colorbar": {
             "outlinewidth": 0,
             "ticks": ""
            },
            "type": "mesh3d"
           }
          ],
          "parcoords": [
           {
            "line": {
             "colorbar": {
              "outlinewidth": 0,
              "ticks": ""
             }
            },
            "type": "parcoords"
           }
          ],
          "pie": [
           {
            "automargin": true,
            "type": "pie"
           }
          ],
          "scatter": [
           {
            "marker": {
             "colorbar": {
              "outlinewidth": 0,
              "ticks": ""
             }
            },
            "type": "scatter"
           }
          ],
          "scatter3d": [
           {
            "line": {
             "colorbar": {
              "outlinewidth": 0,
              "ticks": ""
             }
            },
            "marker": {
             "colorbar": {
              "outlinewidth": 0,
              "ticks": ""
             }
            },
            "type": "scatter3d"
           }
          ],
          "scattercarpet": [
           {
            "marker": {
             "colorbar": {
              "outlinewidth": 0,
              "ticks": ""
             }
            },
            "type": "scattercarpet"
           }
          ],
          "scattergeo": [
           {
            "marker": {
             "colorbar": {
              "outlinewidth": 0,
              "ticks": ""
             }
            },
            "type": "scattergeo"
           }
          ],
          "scattergl": [
           {
            "marker": {
             "colorbar": {
              "outlinewidth": 0,
              "ticks": ""
             }
            },
            "type": "scattergl"
           }
          ],
          "scattermapbox": [
           {
            "marker": {
             "colorbar": {
              "outlinewidth": 0,
              "ticks": ""
             }
            },
            "type": "scattermapbox"
           }
          ],
          "scatterpolar": [
           {
            "marker": {
             "colorbar": {
              "outlinewidth": 0,
              "ticks": ""
             }
            },
            "type": "scatterpolar"
           }
          ],
          "scatterpolargl": [
           {
            "marker": {
             "colorbar": {
              "outlinewidth": 0,
              "ticks": ""
             }
            },
            "type": "scatterpolargl"
           }
          ],
          "scatterternary": [
           {
            "marker": {
             "colorbar": {
              "outlinewidth": 0,
              "ticks": ""
             }
            },
            "type": "scatterternary"
           }
          ],
          "surface": [
           {
            "colorbar": {
             "outlinewidth": 0,
             "ticks": ""
            },
            "colorscale": [
             [
              0,
              "#0d0887"
             ],
             [
              0.1111111111111111,
              "#46039f"
             ],
             [
              0.2222222222222222,
              "#7201a8"
             ],
             [
              0.3333333333333333,
              "#9c179e"
             ],
             [
              0.4444444444444444,
              "#bd3786"
             ],
             [
              0.5555555555555556,
              "#d8576b"
             ],
             [
              0.6666666666666666,
              "#ed7953"
             ],
             [
              0.7777777777777778,
              "#fb9f3a"
             ],
             [
              0.8888888888888888,
              "#fdca26"
             ],
             [
              1,
              "#f0f921"
             ]
            ],
            "type": "surface"
           }
          ],
          "table": [
           {
            "cells": {
             "fill": {
              "color": "#EBF0F8"
             },
             "line": {
              "color": "white"
             }
            },
            "header": {
             "fill": {
              "color": "#C8D4E3"
             },
             "line": {
              "color": "white"
             }
            },
            "type": "table"
           }
          ]
         },
         "layout": {
          "annotationdefaults": {
           "arrowcolor": "#2a3f5f",
           "arrowhead": 0,
           "arrowwidth": 1
          },
          "autotypenumbers": "strict",
          "coloraxis": {
           "colorbar": {
            "outlinewidth": 0,
            "ticks": ""
           }
          },
          "colorscale": {
           "diverging": [
            [
             0,
             "#8e0152"
            ],
            [
             0.1,
             "#c51b7d"
            ],
            [
             0.2,
             "#de77ae"
            ],
            [
             0.3,
             "#f1b6da"
            ],
            [
             0.4,
             "#fde0ef"
            ],
            [
             0.5,
             "#f7f7f7"
            ],
            [
             0.6,
             "#e6f5d0"
            ],
            [
             0.7,
             "#b8e186"
            ],
            [
             0.8,
             "#7fbc41"
            ],
            [
             0.9,
             "#4d9221"
            ],
            [
             1,
             "#276419"
            ]
           ],
           "sequential": [
            [
             0,
             "#0d0887"
            ],
            [
             0.1111111111111111,
             "#46039f"
            ],
            [
             0.2222222222222222,
             "#7201a8"
            ],
            [
             0.3333333333333333,
             "#9c179e"
            ],
            [
             0.4444444444444444,
             "#bd3786"
            ],
            [
             0.5555555555555556,
             "#d8576b"
            ],
            [
             0.6666666666666666,
             "#ed7953"
            ],
            [
             0.7777777777777778,
             "#fb9f3a"
            ],
            [
             0.8888888888888888,
             "#fdca26"
            ],
            [
             1,
             "#f0f921"
            ]
           ],
           "sequentialminus": [
            [
             0,
             "#0d0887"
            ],
            [
             0.1111111111111111,
             "#46039f"
            ],
            [
             0.2222222222222222,
             "#7201a8"
            ],
            [
             0.3333333333333333,
             "#9c179e"
            ],
            [
             0.4444444444444444,
             "#bd3786"
            ],
            [
             0.5555555555555556,
             "#d8576b"
            ],
            [
             0.6666666666666666,
             "#ed7953"
            ],
            [
             0.7777777777777778,
             "#fb9f3a"
            ],
            [
             0.8888888888888888,
             "#fdca26"
            ],
            [
             1,
             "#f0f921"
            ]
           ]
          },
          "colorway": [
           "#636efa",
           "#EF553B",
           "#00cc96",
           "#ab63fa",
           "#FFA15A",
           "#19d3f3",
           "#FF6692",
           "#B6E880",
           "#FF97FF",
           "#FECB52"
          ],
          "font": {
           "color": "#2a3f5f"
          },
          "geo": {
           "bgcolor": "white",
           "lakecolor": "white",
           "landcolor": "#E5ECF6",
           "showlakes": true,
           "showland": true,
           "subunitcolor": "white"
          },
          "hoverlabel": {
           "align": "left"
          },
          "hovermode": "closest",
          "mapbox": {
           "style": "light"
          },
          "paper_bgcolor": "white",
          "plot_bgcolor": "#E5ECF6",
          "polar": {
           "angularaxis": {
            "gridcolor": "white",
            "linecolor": "white",
            "ticks": ""
           },
           "bgcolor": "#E5ECF6",
           "radialaxis": {
            "gridcolor": "white",
            "linecolor": "white",
            "ticks": ""
           }
          },
          "scene": {
           "xaxis": {
            "backgroundcolor": "#E5ECF6",
            "gridcolor": "white",
            "gridwidth": 2,
            "linecolor": "white",
            "showbackground": true,
            "ticks": "",
            "zerolinecolor": "white"
           },
           "yaxis": {
            "backgroundcolor": "#E5ECF6",
            "gridcolor": "white",
            "gridwidth": 2,
            "linecolor": "white",
            "showbackground": true,
            "ticks": "",
            "zerolinecolor": "white"
           },
           "zaxis": {
            "backgroundcolor": "#E5ECF6",
            "gridcolor": "white",
            "gridwidth": 2,
            "linecolor": "white",
            "showbackground": true,
            "ticks": "",
            "zerolinecolor": "white"
           }
          },
          "shapedefaults": {
           "line": {
            "color": "#2a3f5f"
           }
          },
          "ternary": {
           "aaxis": {
            "gridcolor": "white",
            "linecolor": "white",
            "ticks": ""
           },
           "baxis": {
            "gridcolor": "white",
            "linecolor": "white",
            "ticks": ""
           },
           "bgcolor": "#E5ECF6",
           "caxis": {
            "gridcolor": "white",
            "linecolor": "white",
            "ticks": ""
           }
          },
          "title": {
           "x": 0.05
          },
          "xaxis": {
           "automargin": true,
           "gridcolor": "white",
           "linecolor": "white",
           "ticks": "",
           "title": {
            "standoff": 15
           },
           "zerolinecolor": "white",
           "zerolinewidth": 2
          },
          "yaxis": {
           "automargin": true,
           "gridcolor": "white",
           "linecolor": "white",
           "ticks": "",
           "title": {
            "standoff": 15
           },
           "zerolinecolor": "white",
           "zerolinewidth": 2
          }
         }
        },
        "title": {
         "text": "Candlesticks chart for Binance Coin in last 3 months"
        }
       }
      },
      "text/html": [
       "<div>                            <div id=\"17ed624a-1bb4-45aa-8c2a-a8e58fe664b2\" class=\"plotly-graph-div\" style=\"height:525px; width:100%;\"></div>            <script type=\"text/javascript\">                require([\"plotly\"], function(Plotly) {                    window.PLOTLYENV=window.PLOTLYENV || {};                                    if (document.getElementById(\"17ed624a-1bb4-45aa-8c2a-a8e58fe664b2\")) {                    Plotly.newPlot(                        \"17ed624a-1bb4-45aa-8c2a-a8e58fe664b2\",                        [{\"close\":[309.4777929117443,267.09320486111113,289.1388072916667,301.55668472222226,293.0803392361112,275.96792256944445,278.8876340277778,290.1712875,302.43913993055554,294.6397465277778,289.91773506944446,282.31609444444445,293.2876420138889,305.20609618055556,300.5652972222223,313.9736260416667,332.28472638888894,316.20702847222225,311.2114777777778,314.82436458333336,319.6457399305556,322.47054270833337,311.5794670138889,303.69450520833334,311.49330590277776,310.4568885416667,300.69035972222224,304.66305451388894,291.5202767361111,266.1935215277778,282.3230736111111,293.2976211805556,291.66027881944444,301.35444895833336,299.14147048611113,316.73903020833336,307.70449479166666,313.42801875,313.6607857638889,315.4444677083333,327.1580920138889,339.9482232638889,332.15888020833336,323.46444722222225,327.60967118055555,332.6696194444445,337.93105868055557,350.8361545138889,349.34938298611115,348.4172725694445,361.41642430555555,389.6782520833333,386.5734045138889,398.9941361111111,407.8501444444444,405.08773229166667,422.2040152777778,420.60626284722224,399.55194513888887,410.70185625,437.5477045138889,452.90544270833334,449.18519930555556,487.70011111111114,486.38255381944447,489.69689687500005,487.9616149305556,483.5203541666667,487.29803576388895,484.57015000000007,474.3951100694445,464.6283701388889,475.1184628472222,489.9506777777778,487.6268572916666,494.5014399305556,496.5159079861111,499.24735937500003,459.59874722222224,412.3937163194444,417.23507916666665,414.4947347222223,408.32788159722224,412.028515625,398.98924791666667,403.8210819444445,424.24185208333336,426.53110694444445,414.18089861111116,413.4713621527778,410.8927322916666,379.6142579861111,363.7575],\"high\":[310.09487977762336,267.78000625,289.6506888888889,301.9654305555556,293.5514298611111,276.38281944444446,279.1791,290.46448541666666,302.76659861111114,294.96472708333334,290.2128465277778,282.5595048611111,293.4684256944444,305.40888125,300.8175826388889,314.2707375,332.5839583333333,316.51684375,311.4608166666667,315.0388569444445,319.84597777777776,322.72470833333335,311.81912708333334,303.9830666666667,311.8340513888889,310.7431472222222,300.9340097222222,304.84779097222224,291.75695069444447,266.50421111111115,282.62399652777776,293.5544666666667,291.90350625,301.5823291666667,299.3625131944445,317.10834375,308.0096805555556,313.6839611111111,313.8663305555556,315.6486611111111,327.38453125,340.23226319444444,332.40767847222224,323.7017173611111,327.81501180555557,332.91062569444443,338.15010416666667,351.1108263888889,349.63289375,348.68039930555557,361.72074305555554,390.01773541666665,386.9718902777778,399.2913638888889,408.18041041666663,405.37942083333337,422.56759444444447,421.05004583333334,399.99188888888887,411.1125277777778,437.88161388888886,453.2607763888889,449.48997638888886,488.19581388888884,486.8441875,490.22473402777774,488.5708493055556,483.99353194444444,487.6326951388889,484.8893361111111,474.7396875,465.0506888888889,475.48733263888886,490.3040104166667,487.96437777777777,494.88233333333335,496.8150041666667,499.56146875,460.493275,413.0124618055555,417.69574305555557,414.95376736111115,408.6497826388889,412.3320673611111,399.4330194444444,404.1293618055555,424.5395,426.83116875,414.4921965277778,413.7232847222222,411.12644166666666,380.1378916666667,364.5],\"low\":[308.9332654621265,266.44808611111114,288.6164659722222,301.1573965277778,292.62115694444446,275.56561180555553,278.5974347222222,289.87880972222223,302.1095270833333,294.28930972222224,289.6207875,282.0822340277778,293.0945041666667,304.9802027777778,300.2975902777778,313.6628645833334,331.9762798611111,315.87139236111113,310.94939097222226,314.6051756944444,319.4494569444444,322.2208083333333,311.35519166666666,303.4253013888889,311.15411666666665,310.17654513888886,300.4411173611111,304.4729451388889,291.28002430555557,265.89274166666667,282.0224548611111,293.04036180555556,291.40099791666665,301.10825416666665,298.9043965277778,316.3384916666667,307.39532152777775,313.1578645833333,313.45641111111115,315.2241763888889,326.91578888888887,339.6452541666667,331.91249791666667,323.22009305555554,327.39560625,332.41246666666666,337.6961708333334,350.53792152777777,349.06730069444444,348.1383,361.09229305555556,389.2876222222222,386.1247743055556,398.6570881944445,407.49016597222226,404.7726631944445,421.8283923611111,420.17052569444445,399.11422638888894,410.2872375,437.1823895833333,452.5286458333333,448.8592756944444,487.1544715277778,485.91425625,489.1780069444444,487.3427743055555,483.0525909722222,486.9803270833333,484.2587361111111,474.02345833333334,464.16178333333335,474.72968958333337,489.5516284722222,487.2613638888889,494.0948659722222,496.19786875,498.9101986111111,458.66280277777776,411.7928555555556,416.75797986111115,414.0171534722222,407.98893333333336,411.7072972222222,398.5309951388889,403.52324722222227,423.94704722222224,426.2019576388889,413.8578958333333,413.22126875,410.6463826388889,379.10635833333333,363.7],\"open\":[309.5306959694232,267.0830065972222,289.11962013888893,301.55375833333335,293.1074614583334,275.968978125,278.88284895833334,290.1723517361111,302.435334375,294.638259375,289.93329409722224,282.32514583333335,293.2819895833333,305.20229687500006,300.5729875,313.96724131944444,332.2809920138889,316.21733888888895,311.2109892361111,314.82894548611114,319.6469538194445,322.4781510416667,311.5857364583334,303.7010270833334,311.49564583333336,310.46786875000004,300.6979538194445,304.66545034722225,291.53774166666665,266.20666319444445,282.3079232638889,293.30806458333336,291.66176111111116,301.3572649305556,299.1470482638889,316.74346909722226,307.70455694444445,313.4302805555556,313.6646760416667,315.44306770833333,327.1528805555556,339.95025104166666,332.1635552083334,323.4724232638889,327.6050069444445,332.6694510416667,337.93010173611117,350.83247465277776,349.36459618055557,348.4155840277778,361.4103138888889,389.66574930555555,386.57396597222225,398.9743402777778,407.8532427083333,405.0869701388889,422.2021736111111,420.61878506944447,399.5612458333334,410.6834149305556,437.53344097222225,452.9118694444445,449.1883451388889,487.670209375,486.3937402777778,489.68461354166664,487.977428125,483.5100003472222,487.3034482638889,484.5784815972222,474.4030357638889,464.62834548611113,475.10374444444443,489.95178229166663,487.6239736111111,494.4922680555556,496.5138270833333,499.25404340277777,459.6358295138889,412.40212430555556,417.2276222222222,414.5088309027778,408.3238739583333,412.0205524305556,399.001396875,403.81226631944446,424.23179375000007,426.5337788194445,414.19053263888884,413.4736628472222,410.89517673611107,379.6463302083334,364.115],\"x\":[\"2021-06-21T00:00:00\",\"2021-06-22T00:00:00\",\"2021-06-23T00:00:00\",\"2021-06-24T00:00:00\",\"2021-06-25T00:00:00\",\"2021-06-26T00:00:00\",\"2021-06-27T00:00:00\",\"2021-06-28T00:00:00\",\"2021-06-29T00:00:00\",\"2021-06-30T00:00:00\",\"2021-07-01T00:00:00\",\"2021-07-02T00:00:00\",\"2021-07-03T00:00:00\",\"2021-07-04T00:00:00\",\"2021-07-05T00:00:00\",\"2021-07-06T00:00:00\",\"2021-07-07T00:00:00\",\"2021-07-08T00:00:00\",\"2021-07-09T00:00:00\",\"2021-07-10T00:00:00\",\"2021-07-11T00:00:00\",\"2021-07-12T00:00:00\",\"2021-07-13T00:00:00\",\"2021-07-14T00:00:00\",\"2021-07-15T00:00:00\",\"2021-07-16T00:00:00\",\"2021-07-17T00:00:00\",\"2021-07-18T00:00:00\",\"2021-07-19T00:00:00\",\"2021-07-20T00:00:00\",\"2021-07-21T00:00:00\",\"2021-07-22T00:00:00\",\"2021-07-23T00:00:00\",\"2021-07-24T00:00:00\",\"2021-07-25T00:00:00\",\"2021-07-26T00:00:00\",\"2021-07-27T00:00:00\",\"2021-07-28T00:00:00\",\"2021-07-29T00:00:00\",\"2021-07-30T00:00:00\",\"2021-07-31T00:00:00\",\"2021-08-01T00:00:00\",\"2021-08-02T00:00:00\",\"2021-08-03T00:00:00\",\"2021-08-04T00:00:00\",\"2021-08-05T00:00:00\",\"2021-08-06T00:00:00\",\"2021-08-07T00:00:00\",\"2021-08-08T00:00:00\",\"2021-08-09T00:00:00\",\"2021-08-10T00:00:00\",\"2021-08-11T00:00:00\",\"2021-08-12T00:00:00\",\"2021-08-13T00:00:00\",\"2021-08-14T00:00:00\",\"2021-08-15T00:00:00\",\"2021-08-16T00:00:00\",\"2021-08-17T00:00:00\",\"2021-08-18T00:00:00\",\"2021-08-19T00:00:00\",\"2021-08-20T00:00:00\",\"2021-08-21T00:00:00\",\"2021-08-22T00:00:00\",\"2021-08-23T00:00:00\",\"2021-08-24T00:00:00\",\"2021-08-25T00:00:00\",\"2021-08-26T00:00:00\",\"2021-08-27T00:00:00\",\"2021-08-28T00:00:00\",\"2021-08-29T00:00:00\",\"2021-08-30T00:00:00\",\"2021-08-31T00:00:00\",\"2021-09-01T00:00:00\",\"2021-09-02T00:00:00\",\"2021-09-03T00:00:00\",\"2021-09-04T00:00:00\",\"2021-09-05T00:00:00\",\"2021-09-06T00:00:00\",\"2021-09-07T00:00:00\",\"2021-09-08T00:00:00\",\"2021-09-09T00:00:00\",\"2021-09-10T00:00:00\",\"2021-09-11T00:00:00\",\"2021-09-12T00:00:00\",\"2021-09-13T00:00:00\",\"2021-09-14T00:00:00\",\"2021-09-15T00:00:00\",\"2021-09-16T00:00:00\",\"2021-09-17T00:00:00\",\"2021-09-18T00:00:00\",\"2021-09-19T00:00:00\",\"2021-09-20T00:00:00\",\"2021-09-21T00:00:00\"],\"type\":\"candlestick\"}],                        {\"template\":{\"data\":{\"bar\":[{\"error_x\":{\"color\":\"#2a3f5f\"},\"error_y\":{\"color\":\"#2a3f5f\"},\"marker\":{\"line\":{\"color\":\"#E5ECF6\",\"width\":0.5},\"pattern\":{\"fillmode\":\"overlay\",\"size\":10,\"solidity\":0.2}},\"type\":\"bar\"}],\"barpolar\":[{\"marker\":{\"line\":{\"color\":\"#E5ECF6\",\"width\":0.5},\"pattern\":{\"fillmode\":\"overlay\",\"size\":10,\"solidity\":0.2}},\"type\":\"barpolar\"}],\"carpet\":[{\"aaxis\":{\"endlinecolor\":\"#2a3f5f\",\"gridcolor\":\"white\",\"linecolor\":\"white\",\"minorgridcolor\":\"white\",\"startlinecolor\":\"#2a3f5f\"},\"baxis\":{\"endlinecolor\":\"#2a3f5f\",\"gridcolor\":\"white\",\"linecolor\":\"white\",\"minorgridcolor\":\"white\",\"startlinecolor\":\"#2a3f5f\"},\"type\":\"carpet\"}],\"choropleth\":[{\"colorbar\":{\"outlinewidth\":0,\"ticks\":\"\"},\"type\":\"choropleth\"}],\"contour\":[{\"colorbar\":{\"outlinewidth\":0,\"ticks\":\"\"},\"colorscale\":[[0.0,\"#0d0887\"],[0.1111111111111111,\"#46039f\"],[0.2222222222222222,\"#7201a8\"],[0.3333333333333333,\"#9c179e\"],[0.4444444444444444,\"#bd3786\"],[0.5555555555555556,\"#d8576b\"],[0.6666666666666666,\"#ed7953\"],[0.7777777777777778,\"#fb9f3a\"],[0.8888888888888888,\"#fdca26\"],[1.0,\"#f0f921\"]],\"type\":\"contour\"}],\"contourcarpet\":[{\"colorbar\":{\"outlinewidth\":0,\"ticks\":\"\"},\"type\":\"contourcarpet\"}],\"heatmap\":[{\"colorbar\":{\"outlinewidth\":0,\"ticks\":\"\"},\"colorscale\":[[0.0,\"#0d0887\"],[0.1111111111111111,\"#46039f\"],[0.2222222222222222,\"#7201a8\"],[0.3333333333333333,\"#9c179e\"],[0.4444444444444444,\"#bd3786\"],[0.5555555555555556,\"#d8576b\"],[0.6666666666666666,\"#ed7953\"],[0.7777777777777778,\"#fb9f3a\"],[0.8888888888888888,\"#fdca26\"],[1.0,\"#f0f921\"]],\"type\":\"heatmap\"}],\"heatmapgl\":[{\"colorbar\":{\"outlinewidth\":0,\"ticks\":\"\"},\"colorscale\":[[0.0,\"#0d0887\"],[0.1111111111111111,\"#46039f\"],[0.2222222222222222,\"#7201a8\"],[0.3333333333333333,\"#9c179e\"],[0.4444444444444444,\"#bd3786\"],[0.5555555555555556,\"#d8576b\"],[0.6666666666666666,\"#ed7953\"],[0.7777777777777778,\"#fb9f3a\"],[0.8888888888888888,\"#fdca26\"],[1.0,\"#f0f921\"]],\"type\":\"heatmapgl\"}],\"histogram\":[{\"marker\":{\"pattern\":{\"fillmode\":\"overlay\",\"size\":10,\"solidity\":0.2}},\"type\":\"histogram\"}],\"histogram2d\":[{\"colorbar\":{\"outlinewidth\":0,\"ticks\":\"\"},\"colorscale\":[[0.0,\"#0d0887\"],[0.1111111111111111,\"#46039f\"],[0.2222222222222222,\"#7201a8\"],[0.3333333333333333,\"#9c179e\"],[0.4444444444444444,\"#bd3786\"],[0.5555555555555556,\"#d8576b\"],[0.6666666666666666,\"#ed7953\"],[0.7777777777777778,\"#fb9f3a\"],[0.8888888888888888,\"#fdca26\"],[1.0,\"#f0f921\"]],\"type\":\"histogram2d\"}],\"histogram2dcontour\":[{\"colorbar\":{\"outlinewidth\":0,\"ticks\":\"\"},\"colorscale\":[[0.0,\"#0d0887\"],[0.1111111111111111,\"#46039f\"],[0.2222222222222222,\"#7201a8\"],[0.3333333333333333,\"#9c179e\"],[0.4444444444444444,\"#bd3786\"],[0.5555555555555556,\"#d8576b\"],[0.6666666666666666,\"#ed7953\"],[0.7777777777777778,\"#fb9f3a\"],[0.8888888888888888,\"#fdca26\"],[1.0,\"#f0f921\"]],\"type\":\"histogram2dcontour\"}],\"mesh3d\":[{\"colorbar\":{\"outlinewidth\":0,\"ticks\":\"\"},\"type\":\"mesh3d\"}],\"parcoords\":[{\"line\":{\"colorbar\":{\"outlinewidth\":0,\"ticks\":\"\"}},\"type\":\"parcoords\"}],\"pie\":[{\"automargin\":true,\"type\":\"pie\"}],\"scatter\":[{\"marker\":{\"colorbar\":{\"outlinewidth\":0,\"ticks\":\"\"}},\"type\":\"scatter\"}],\"scatter3d\":[{\"line\":{\"colorbar\":{\"outlinewidth\":0,\"ticks\":\"\"}},\"marker\":{\"colorbar\":{\"outlinewidth\":0,\"ticks\":\"\"}},\"type\":\"scatter3d\"}],\"scattercarpet\":[{\"marker\":{\"colorbar\":{\"outlinewidth\":0,\"ticks\":\"\"}},\"type\":\"scattercarpet\"}],\"scattergeo\":[{\"marker\":{\"colorbar\":{\"outlinewidth\":0,\"ticks\":\"\"}},\"type\":\"scattergeo\"}],\"scattergl\":[{\"marker\":{\"colorbar\":{\"outlinewidth\":0,\"ticks\":\"\"}},\"type\":\"scattergl\"}],\"scattermapbox\":[{\"marker\":{\"colorbar\":{\"outlinewidth\":0,\"ticks\":\"\"}},\"type\":\"scattermapbox\"}],\"scatterpolar\":[{\"marker\":{\"colorbar\":{\"outlinewidth\":0,\"ticks\":\"\"}},\"type\":\"scatterpolar\"}],\"scatterpolargl\":[{\"marker\":{\"colorbar\":{\"outlinewidth\":0,\"ticks\":\"\"}},\"type\":\"scatterpolargl\"}],\"scatterternary\":[{\"marker\":{\"colorbar\":{\"outlinewidth\":0,\"ticks\":\"\"}},\"type\":\"scatterternary\"}],\"surface\":[{\"colorbar\":{\"outlinewidth\":0,\"ticks\":\"\"},\"colorscale\":[[0.0,\"#0d0887\"],[0.1111111111111111,\"#46039f\"],[0.2222222222222222,\"#7201a8\"],[0.3333333333333333,\"#9c179e\"],[0.4444444444444444,\"#bd3786\"],[0.5555555555555556,\"#d8576b\"],[0.6666666666666666,\"#ed7953\"],[0.7777777777777778,\"#fb9f3a\"],[0.8888888888888888,\"#fdca26\"],[1.0,\"#f0f921\"]],\"type\":\"surface\"}],\"table\":[{\"cells\":{\"fill\":{\"color\":\"#EBF0F8\"},\"line\":{\"color\":\"white\"}},\"header\":{\"fill\":{\"color\":\"#C8D4E3\"},\"line\":{\"color\":\"white\"}},\"type\":\"table\"}]},\"layout\":{\"annotationdefaults\":{\"arrowcolor\":\"#2a3f5f\",\"arrowhead\":0,\"arrowwidth\":1},\"autotypenumbers\":\"strict\",\"coloraxis\":{\"colorbar\":{\"outlinewidth\":0,\"ticks\":\"\"}},\"colorscale\":{\"diverging\":[[0,\"#8e0152\"],[0.1,\"#c51b7d\"],[0.2,\"#de77ae\"],[0.3,\"#f1b6da\"],[0.4,\"#fde0ef\"],[0.5,\"#f7f7f7\"],[0.6,\"#e6f5d0\"],[0.7,\"#b8e186\"],[0.8,\"#7fbc41\"],[0.9,\"#4d9221\"],[1,\"#276419\"]],\"sequential\":[[0.0,\"#0d0887\"],[0.1111111111111111,\"#46039f\"],[0.2222222222222222,\"#7201a8\"],[0.3333333333333333,\"#9c179e\"],[0.4444444444444444,\"#bd3786\"],[0.5555555555555556,\"#d8576b\"],[0.6666666666666666,\"#ed7953\"],[0.7777777777777778,\"#fb9f3a\"],[0.8888888888888888,\"#fdca26\"],[1.0,\"#f0f921\"]],\"sequentialminus\":[[0.0,\"#0d0887\"],[0.1111111111111111,\"#46039f\"],[0.2222222222222222,\"#7201a8\"],[0.3333333333333333,\"#9c179e\"],[0.4444444444444444,\"#bd3786\"],[0.5555555555555556,\"#d8576b\"],[0.6666666666666666,\"#ed7953\"],[0.7777777777777778,\"#fb9f3a\"],[0.8888888888888888,\"#fdca26\"],[1.0,\"#f0f921\"]]},\"colorway\":[\"#636efa\",\"#EF553B\",\"#00cc96\",\"#ab63fa\",\"#FFA15A\",\"#19d3f3\",\"#FF6692\",\"#B6E880\",\"#FF97FF\",\"#FECB52\"],\"font\":{\"color\":\"#2a3f5f\"},\"geo\":{\"bgcolor\":\"white\",\"lakecolor\":\"white\",\"landcolor\":\"#E5ECF6\",\"showlakes\":true,\"showland\":true,\"subunitcolor\":\"white\"},\"hoverlabel\":{\"align\":\"left\"},\"hovermode\":\"closest\",\"mapbox\":{\"style\":\"light\"},\"paper_bgcolor\":\"white\",\"plot_bgcolor\":\"#E5ECF6\",\"polar\":{\"angularaxis\":{\"gridcolor\":\"white\",\"linecolor\":\"white\",\"ticks\":\"\"},\"bgcolor\":\"#E5ECF6\",\"radialaxis\":{\"gridcolor\":\"white\",\"linecolor\":\"white\",\"ticks\":\"\"}},\"scene\":{\"xaxis\":{\"backgroundcolor\":\"#E5ECF6\",\"gridcolor\":\"white\",\"gridwidth\":2,\"linecolor\":\"white\",\"showbackground\":true,\"ticks\":\"\",\"zerolinecolor\":\"white\"},\"yaxis\":{\"backgroundcolor\":\"#E5ECF6\",\"gridcolor\":\"white\",\"gridwidth\":2,\"linecolor\":\"white\",\"showbackground\":true,\"ticks\":\"\",\"zerolinecolor\":\"white\"},\"zaxis\":{\"backgroundcolor\":\"#E5ECF6\",\"gridcolor\":\"white\",\"gridwidth\":2,\"linecolor\":\"white\",\"showbackground\":true,\"ticks\":\"\",\"zerolinecolor\":\"white\"}},\"shapedefaults\":{\"line\":{\"color\":\"#2a3f5f\"}},\"ternary\":{\"aaxis\":{\"gridcolor\":\"white\",\"linecolor\":\"white\",\"ticks\":\"\"},\"baxis\":{\"gridcolor\":\"white\",\"linecolor\":\"white\",\"ticks\":\"\"},\"bgcolor\":\"#E5ECF6\",\"caxis\":{\"gridcolor\":\"white\",\"linecolor\":\"white\",\"ticks\":\"\"}},\"title\":{\"x\":0.05},\"xaxis\":{\"automargin\":true,\"gridcolor\":\"white\",\"linecolor\":\"white\",\"ticks\":\"\",\"title\":{\"standoff\":15},\"zerolinecolor\":\"white\",\"zerolinewidth\":2},\"yaxis\":{\"automargin\":true,\"gridcolor\":\"white\",\"linecolor\":\"white\",\"ticks\":\"\",\"title\":{\"standoff\":15},\"zerolinecolor\":\"white\",\"zerolinewidth\":2}}},\"title\":{\"text\":\"Candlesticks chart for Binance Coin in last 3 months\"}},                        {\"responsive\": true}                    ).then(function(){\n",
       "                            \n",
       "var gd = document.getElementById('17ed624a-1bb4-45aa-8c2a-a8e58fe664b2');\n",
       "var x = new MutationObserver(function (mutations, observer) {{\n",
       "        var display = window.getComputedStyle(gd).display;\n",
       "        if (!display || display === 'none') {{\n",
       "            console.log([gd, 'removed!']);\n",
       "            Plotly.purge(gd);\n",
       "            observer.disconnect();\n",
       "        }}\n",
       "}});\n",
       "\n",
       "// Listen for the removal of the full notebook cells\n",
       "var notebookContainer = gd.closest('#notebook-container');\n",
       "if (notebookContainer) {{\n",
       "    x.observe(notebookContainer, {childList: true});\n",
       "}}\n",
       "\n",
       "// Listen for the clearing of the current output cell\n",
       "var outputEl = gd.closest('.output');\n",
       "if (outputEl) {{\n",
       "    x.observe(outputEl, {childList: true});\n",
       "}}\n",
       "\n",
       "                        })                };                });            </script>        </div>"
      ]
     },
     "metadata": {},
     "output_type": "display_data"
    }
   ],
   "source": [
    "# create candlestick chart\n",
    "import plotly.graph_objects as go\n",
    "fig = go.Figure(data=[go.Candlestick(x=bnc_daily_price.index, open=bnc_daily_price['Open'], high=bnc_daily_price['High'], low=bnc_daily_price['Low'], close=bnc_daily_price['Close'])])\n",
    "fig.update_layout(\n",
    "    title='Candlesticks chart for Binance Coin in last 3 months'\n",
    ")\n",
    "fig.show()"
   ]
  },
  {
   "cell_type": "markdown",
   "id": "73fc6131",
   "metadata": {},
   "source": [
    "### 4. Visualize the prediction of each model"
   ]
  },
  {
   "cell_type": "code",
   "execution_count": null,
   "id": "6bacf77a",
   "metadata": {
    "scrolled": false
   },
   "outputs": [],
   "source": [
    "# visualize the prediction of lineargression vs real return for each cryptocurrency\n",
    "fig = plt.figure(figsize=(15,12))\n",
    "fig.add_subplot(321)\n",
    "plt.plot(times, y_bnc_test, 'b', label='bnc_test', alpha=0.7)\n",
    "plt.plot(times, y_pred_lr_bnc, 'r', label='bnc_pred', alpha=0.7)\n",
    "plt.legend()\n",
    "plt.xlabel('Binance Coin')\n",
    "plt.ylabel('Target')\n",
    "#plt.title(\"Predict vs Real return for Binance Coin from 2021-06-21\")\n",
    "plt.xticks(times[0:-1:10000],dates[0:-1:10000], rotation = 45)\n",
    "\n",
    "fig.add_subplot(322)\n",
    "plt.plot(times, y_bit_test, 'b', label='bit_test', alpha=0.7)\n",
    "plt.plot(times, y_pred_lr_bit, 'r', label='bit_pred', alpha=0.7)\n",
    "plt.legend()\n",
    "plt.xlabel('Bitcoin')\n",
    "plt.ylabel('Target')\n",
    "#plt.title(\"Predict vs Real return for Bitcoin from 2021-06-21\")\n",
    "plt.xticks(times[0:-1:10000],dates[0:-1:10000], rotation = 45)\n",
    "\n",
    "fig.add_subplot(323)\n",
    "plt.plot(times, y_eos_test, 'b', label='eos_test', alpha=0.7)\n",
    "plt.plot(times, y_pred_lr_eos, 'r', label='eos_pred', alpha=0.7)\n",
    "plt.legend()\n",
    "plt.xlabel('EOS.IO')\n",
    "plt.ylabel('Target')\n",
    "#plt.title(\"Predict vs Real return for EOS.IO from 2021-06-21\")\n",
    "plt.xticks(times[0:-1:10000],dates[0:-1:10000], rotation = 45)\n",
    "\n",
    "fig.add_subplot(324)\n",
    "plt.plot(times, y_eth_test, 'b', label='eth_test', alpha=0.7)\n",
    "plt.plot(times, y_pred_lr_eth, 'r', label='eth_pred', alpha=0.7)\n",
    "plt.legend()\n",
    "plt.xlabel('Ethereum')\n",
    "plt.ylabel('Target')\n",
    "#plt.title(\"Predict vs Real return for Ethereum from 2021-06-21\")\n",
    "plt.xticks(times[0:-1:10000],dates[0:-1:10000], rotation = 45)\n",
    "\n",
    "fig.add_subplot(325)\n",
    "plt.plot(times, y_lit_test, 'b', label='lit_test', alpha=0.7)\n",
    "plt.plot(times, y_pred_lr_lit, 'r', label='lit_pred', alpha=0.7)\n",
    "plt.legend()\n",
    "plt.xlabel('Litecoin')\n",
    "plt.ylabel('Target')\n",
    "#plt.title(\"Predict vs Real return for Litecoin from 2021-06-21\")\n",
    "plt.xticks(times[0:-1:10000],dates[0:-1:10000], rotation = 45)\n",
    "\n",
    "fig.add_subplot(326)\n",
    "plt.plot(times, y_mon_test, 'b', label='mon_test', alpha=0.7)\n",
    "plt.plot(times, y_pred_lr_mon, 'r', label='mon_pred', alpha=0.7)\n",
    "plt.legend()\n",
    "plt.xlabel('Monero')\n",
    "plt.ylabel('Target')\n",
    "#plt.title(\"Predict vs Real return for Monero from 2021-06-21\")\n",
    "plt.xticks(times[0:-1:10000],dates[0:-1:10000], rotation = 45)\n",
    "\n",
    "plt.tight_layout()\n",
    "plt.show()"
   ]
  },
  {
   "cell_type": "code",
   "execution_count": null,
   "id": "92e9a19a",
   "metadata": {},
   "outputs": [],
   "source": [
    "# visualize the prediction of randomforest vs real return for each cryptocurrency\n",
    "fig = plt.figure(figsize=(15,12))\n",
    "fig.add_subplot(321)\n",
    "plt.plot(times, y_bnc_test, 'b', label='bnc_test', alpha=0.7)\n",
    "plt.plot(times, y_pred_rf_bnc, 'r', label='bnc_pred', alpha=0.7)\n",
    "plt.legend()\n",
    "plt.xlabel('Binance Coin')\n",
    "plt.ylabel('Target')\n",
    "#plt.title(\"Predict vs Real return for Binance Coin from 2021-06-21\")\n",
    "plt.xticks(times[0:-1:10000],dates[0:-1:10000], rotation = 45)\n",
    "\n",
    "fig.add_subplot(322)\n",
    "plt.plot(times, y_bit_test, 'b', label='bit_test', alpha=0.7)\n",
    "plt.plot(times, y_pred_rf_bit, 'r', label='bit_pred', alpha=0.7)\n",
    "plt.legend()\n",
    "plt.xlabel('Bitcoin')\n",
    "plt.ylabel('Target')\n",
    "#plt.title(\"Predict vs Real return for Bitcoin from 2021-06-21\")\n",
    "plt.xticks(times[0:-1:10000],dates[0:-1:10000], rotation = 45)\n",
    "\n",
    "fig.add_subplot(323)\n",
    "plt.plot(times, y_eos_test, 'b', label='eos_test', alpha=0.7)\n",
    "plt.plot(times, y_pred_rf_eos, 'r', label='eos_pred', alpha=0.7)\n",
    "plt.legend()\n",
    "plt.xlabel('EOS.IO')\n",
    "plt.ylabel('Target')\n",
    "#plt.title(\"Predict vs Real return for EOS.IO from 2021-06-21\")\n",
    "plt.xticks(times[0:-1:10000],dates[0:-1:10000], rotation = 45)\n",
    "\n",
    "fig.add_subplot(324)\n",
    "plt.plot(times, y_eth_test, 'b', label='eth_test', alpha=0.7)\n",
    "plt.plot(times, y_pred_rf_eth, 'r', label='eth_pred', alpha=0.7)\n",
    "plt.legend()\n",
    "plt.xlabel('Ethereum')\n",
    "plt.ylabel('Target')\n",
    "#plt.title(\"Predict vs Real return for Ethereum from 2021-06-21\")\n",
    "plt.xticks(times[0:-1:10000],dates[0:-1:10000], rotation = 45)\n",
    "\n",
    "fig.add_subplot(325)\n",
    "plt.plot(times, y_lit_test, 'b', label='lit_test', alpha=0.7)\n",
    "plt.plot(times, y_pred_rf_lit, 'r', label='lit_pred', alpha=0.7)\n",
    "plt.legend()\n",
    "plt.xlabel('Litecoin')\n",
    "plt.ylabel('Target')\n",
    "#plt.title(\"Predict vs Real return for Litecoin from 2021-06-21\")\n",
    "plt.xticks(times[0:-1:10000],dates[0:-1:10000], rotation = 45)\n",
    "\n",
    "fig.add_subplot(326)\n",
    "plt.plot(times, y_mon_test, 'b', label='mon_test', alpha=0.7)\n",
    "plt.plot(times, y_pred_rf_mon, 'r', label='mon_pred', alpha=0.7)\n",
    "plt.legend()\n",
    "plt.xlabel('Monero')\n",
    "plt.ylabel('Target')\n",
    "#plt.title(\"Predict vs Real return for Monero from 2021-06-21\")\n",
    "plt.xticks(times[0:-1:10000],dates[0:-1:10000], rotation = 45)\n",
    "\n",
    "plt.tight_layout()\n",
    "plt.show()"
   ]
  },
  {
   "cell_type": "code",
   "execution_count": null,
   "id": "a444c684",
   "metadata": {},
   "outputs": [],
   "source": [
    "# visualize the prediction of xgBoost vs real return for each cryptocurrency\n",
    "fig = plt.figure(figsize=(15,12))\n",
    "fig.add_subplot(321)\n",
    "plt.plot(times, y_bnc_test, 'b', label='bnc_test', alpha=0.7)\n",
    "plt.plot(times, y_pred_xg_bnc, 'r', label='bnc_pred', alpha=0.7)\n",
    "plt.legend()\n",
    "plt.xlabel('Binance Coin')\n",
    "plt.ylabel('Target')\n",
    "#plt.title(\"Predict vs Real return for Binance Coin from 2021-06-21\")\n",
    "plt.xticks(times[0:-1:10000],dates[0:-1:10000], rotation = 45)\n",
    "\n",
    "fig.add_subplot(322)\n",
    "plt.plot(times, y_bit_test, 'b', label='bit_test', alpha=0.7)\n",
    "plt.plot(times, y_pred_xg_bit, 'r', label='bit_pred', alpha=0.7)\n",
    "plt.legend()\n",
    "plt.xlabel('Bitcoin')\n",
    "plt.ylabel('Target')\n",
    "#plt.title(\"Predict vs Real return for Bitcoin from 2021-06-21\")\n",
    "plt.xticks(times[0:-1:10000],dates[0:-1:10000], rotation = 45)\n",
    "\n",
    "fig.add_subplot(323)\n",
    "plt.plot(times, y_eos_test, 'b', label='eos_test', alpha=0.7)\n",
    "plt.plot(times, y_pred_xg_eos, 'r', label='eos_pred', alpha=0.7)\n",
    "plt.legend()\n",
    "plt.xlabel('EOS.IO')\n",
    "plt.ylabel('Target')\n",
    "#plt.title(\"Predict vs Real return for EOS.IO from 2021-06-21\")\n",
    "plt.xticks(times[0:-1:10000],dates[0:-1:10000], rotation = 45)\n",
    "\n",
    "fig.add_subplot(324)\n",
    "plt.plot(times, y_eth_test, 'b', label='eth_test', alpha=0.7)\n",
    "plt.plot(times, y_pred_xg_eth, 'r', label='eth_pred', alpha=0.7)\n",
    "plt.legend()\n",
    "plt.xlabel('Ethereum')\n",
    "plt.ylabel('Target')\n",
    "#plt.title(\"Predict vs Real return for Ethereum from 2021-06-21\")\n",
    "plt.xticks(times[0:-1:10000],dates[0:-1:10000], rotation = 45)\n",
    "\n",
    "fig.add_subplot(325)\n",
    "plt.plot(times, y_lit_test, 'b', label='lit_test', alpha=0.7)\n",
    "plt.plot(times, y_pred_xg_lit, 'r', label='lit_pred', alpha=0.7)\n",
    "plt.legend()\n",
    "plt.xlabel('Litecoin')\n",
    "plt.ylabel('Target')\n",
    "#plt.title(\"Predict vs Real return for Litecoin from 2021-06-21\")\n",
    "plt.xticks(times[0:-1:10000],dates[0:-1:10000], rotation = 45)\n",
    "\n",
    "fig.add_subplot(326)\n",
    "plt.plot(times, y_mon_test, 'b', label='mon_test', alpha=0.7)\n",
    "plt.plot(times, y_pred_xg_mon, 'r', label='mon_pred', alpha=0.7)\n",
    "plt.legend()\n",
    "plt.xlabel('Monero')\n",
    "plt.ylabel('Target')\n",
    "#plt.title(\"Predict vs Real return for Monero from 2021-06-21\")\n",
    "plt.xticks(times[0:-1:10000],dates[0:-1:10000], rotation = 45)\n",
    "\n",
    "plt.tight_layout()\n",
    "plt.show()"
   ]
  },
  {
   "cell_type": "markdown",
   "id": "9e36c685",
   "metadata": {},
   "source": [
    "### 5. Show distribution of each aeest by boxplot"
   ]
  },
  {
   "cell_type": "code",
   "execution_count": 276,
   "id": "4d54520b",
   "metadata": {},
   "outputs": [
    {
     "data": {
      "image/png": "[encoded data removed]",
      "text/plain": [
       "<Figure size 576x360 with 1 Axes>"
      ]
     },
     "metadata": {
      "needs_background": "light"
     },
     "output_type": "display_data"
    }
   ],
   "source": [
    "# show distribution of the outputs\n",
    "plt.figure(figsize=(8,5))\n",
    "x_labels = [\"bnc_test\", \"bnc_pred_lr\", \"bnc_pred_rf\", \"bnc_pred_xg\"]\n",
    "data = score_df[[\"y_bnc_test\",\"y_pred_lr_bnc\",\"y_pred_rf_bnc\",\"y_pred_xg_bnc\"]] \n",
    "plt.boxplot(data, labels=x_labels)\n",
    "plt.ylabel('Target')\n",
    "plt.title(\"The distribution of Target in Binance Coin\")\n",
    "plt.show()"
   ]
  },
  {
   "cell_type": "code",
   "execution_count": 277,
   "id": "bb6483e6",
   "metadata": {},
   "outputs": [
    {
     "data": {
      "image/png": "[encoded data removed]",
      "text/plain": [
       "<Figure size 576x360 with 1 Axes>"
      ]
     },
     "metadata": {
      "needs_background": "light"
     },
     "output_type": "display_data"
    }
   ],
   "source": [
    "# show distribution of the outputs\n",
    "plt.figure(figsize=(8,5))\n",
    "x_labels = [\"bnc_test\", \"bnc_pred_lr\", \"bnc_pred_rf\", \"bnc_pred_xg\"]\n",
    "data1 = np.array(score_df[\"y_bnc_test\"])\n",
    "data11 = data1[data1>0.01]\n",
    "data12 = data1[data1<-0.01]\n",
    "data1 = np.concatenate((data11,data12))\n",
    "np.random.shuffle(data1)\n",
    "data1 = data1[0:30000]\n",
    "\n",
    "data2 = np.array(score_df[\"y_pred_lr_bnc\"])\n",
    "data21 = data2[data2>0.0001]\n",
    "data22 = data2[data2<-0.0001]\n",
    "data2 = np.concatenate((data21,data22))\n",
    "np.random.shuffle(data2)\n",
    "data2 = data2[0:30000]\n",
    "\n",
    "data3 = np.array(score_df[\"y_pred_rf_bnc\"])\n",
    "data31 = data3[data3>0.01]\n",
    "data32 = data3[data3<-0.01]\n",
    "data3 = np.concatenate((data31,data32))\n",
    "np.random.shuffle(data3)\n",
    "data3 = data3[0:30000]\n",
    "\n",
    "data4 = np.array(score_df[\"y_pred_xg_bnc\"])\n",
    "data41 = data4[data4>0.01]\n",
    "data42 = data4[data4<-0.01]\n",
    "data4 = np.concatenate((data41,data42))\n",
    "np.random.shuffle(data4)\n",
    "data4 = data4[0:30000]\n",
    "\n",
    "data = [data1,data2,data3,data4] \n",
    "plt.boxplot(data, labels=x_labels)\n",
    "plt.ylabel('Target')\n",
    "plt.title(\"The distribution of Target (out of IQR) in Binance Coin\")\n",
    "plt.show()"
   ]
  },
  {
   "cell_type": "markdown",
   "id": "245c3fb5",
   "metadata": {},
   "source": [
    "## Future return prediction"
   ]
  },
  {
   "cell_type": "code",
   "execution_count": null,
   "id": "e536bc53",
   "metadata": {},
   "outputs": [],
   "source": []
  },
  {
   "cell_type": "markdown",
   "id": "86fec058",
   "metadata": {},
   "source": [
    "## Connect to SQL Database"
   ]
  },
  {
   "cell_type": "code",
   "execution_count": null,
   "id": "f6aa4160",
   "metadata": {},
   "outputs": [],
   "source": [
    "# Connect to SQL Database\n",
    "\n",
    "# YOUR CODE HERE"
   ]
  }
 ],
 "metadata": {
  "kernelspec": {
   "display_name": "mlenv",
   "language": "python",
   "name": "mlenv"
  },
  "language_info": {
   "codemirror_mode": {
    "name": "ipython",
    "version": 3
   },
   "file_extension": ".py",
   "mimetype": "text/x-python",
   "name": "python",
   "nbconvert_exporter": "python",
   "pygments_lexer": "ipython3",
   "version": "3.7.13"
  }
 },
 "nbformat": 4,
 "nbformat_minor": 5
}
