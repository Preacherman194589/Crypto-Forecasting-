{
 "cells": [
  {
   "cell_type": "markdown",
   "id": "eff56f55",
   "metadata": {},
   "source": [
    "# Random Forest Regressor Model"
   ]
  },
  {
   "cell_type": "code",
   "execution_count": 1,
   "id": "c0520ce3",
   "metadata": {},
   "outputs": [],
   "source": [
    "# Import the dependency\n",
    "import pandas as pd\n",
    "import numpy as np\n",
    "import matplotlib.pyplot as plt\n",
    "from datetime import datetime\n",
    "from sklearn.preprocessing import StandardScaler\n",
    "from sklearn.model_selection import train_test_split\n",
    "from sklearn.ensemble import RandomForestRegressor\n",
    "from sklearn.metrics import mean_absolute_error,mean_squared_error,r2_score\n",
    "import warnings\n",
    "warnings.filterwarnings('ignore')"
   ]
  },
  {
   "cell_type": "code",
   "execution_count": 2,
   "id": "5f3167ab",
   "metadata": {},
   "outputs": [
    {
     "ename": "FileNotFoundError",
     "evalue": "[Errno 2] No such file or directory: 'resources/train.csv'",
     "output_type": "error",
     "traceback": [
      "\u001b[1;31m---------------------------------------------------------------------------\u001b[0m",
      "\u001b[1;31mFileNotFoundError\u001b[0m                         Traceback (most recent call last)",
      "\u001b[1;32m~\\AppData\\Local\\Temp\\ipykernel_118560\\3563683247.py\u001b[0m in \u001b[0;36m<module>\u001b[1;34m\u001b[0m\n\u001b[0;32m      1\u001b[0m \u001b[1;31m# Loading the dataset\u001b[0m\u001b[1;33m\u001b[0m\u001b[1;33m\u001b[0m\u001b[1;33m\u001b[0m\u001b[0m\n\u001b[1;32m----> 2\u001b[1;33m \u001b[0mcrypto_df\u001b[0m \u001b[1;33m=\u001b[0m \u001b[0mpd\u001b[0m\u001b[1;33m.\u001b[0m\u001b[0mread_csv\u001b[0m\u001b[1;33m(\u001b[0m\u001b[1;34m\"resources/train.csv\"\u001b[0m\u001b[1;33m)\u001b[0m\u001b[1;33m\u001b[0m\u001b[1;33m\u001b[0m\u001b[0m\n\u001b[0m\u001b[0;32m      3\u001b[0m \u001b[0mcrypto_df\u001b[0m\u001b[1;33m.\u001b[0m\u001b[0mhead\u001b[0m\u001b[1;33m(\u001b[0m\u001b[1;36m10\u001b[0m\u001b[1;33m)\u001b[0m\u001b[1;33m\u001b[0m\u001b[1;33m\u001b[0m\u001b[0m\n",
      "\u001b[1;32m~\\anaconda3\\envs\\mlenv\\lib\\site-packages\\pandas\\util\\_decorators.py\u001b[0m in \u001b[0;36mwrapper\u001b[1;34m(*args, **kwargs)\u001b[0m\n\u001b[0;32m    309\u001b[0m                     \u001b[0mstacklevel\u001b[0m\u001b[1;33m=\u001b[0m\u001b[0mstacklevel\u001b[0m\u001b[1;33m,\u001b[0m\u001b[1;33m\u001b[0m\u001b[1;33m\u001b[0m\u001b[0m\n\u001b[0;32m    310\u001b[0m                 )\n\u001b[1;32m--> 311\u001b[1;33m             \u001b[1;32mreturn\u001b[0m \u001b[0mfunc\u001b[0m\u001b[1;33m(\u001b[0m\u001b[1;33m*\u001b[0m\u001b[0margs\u001b[0m\u001b[1;33m,\u001b[0m \u001b[1;33m**\u001b[0m\u001b[0mkwargs\u001b[0m\u001b[1;33m)\u001b[0m\u001b[1;33m\u001b[0m\u001b[1;33m\u001b[0m\u001b[0m\n\u001b[0m\u001b[0;32m    312\u001b[0m \u001b[1;33m\u001b[0m\u001b[0m\n\u001b[0;32m    313\u001b[0m         \u001b[1;32mreturn\u001b[0m \u001b[0mwrapper\u001b[0m\u001b[1;33m\u001b[0m\u001b[1;33m\u001b[0m\u001b[0m\n",
      "\u001b[1;32m~\\anaconda3\\envs\\mlenv\\lib\\site-packages\\pandas\\io\\parsers\\readers.py\u001b[0m in \u001b[0;36mread_csv\u001b[1;34m(filepath_or_buffer, sep, delimiter, header, names, index_col, usecols, squeeze, prefix, mangle_dupe_cols, dtype, engine, converters, true_values, false_values, skipinitialspace, skiprows, skipfooter, nrows, na_values, keep_default_na, na_filter, verbose, skip_blank_lines, parse_dates, infer_datetime_format, keep_date_col, date_parser, dayfirst, cache_dates, iterator, chunksize, compression, thousands, decimal, lineterminator, quotechar, quoting, doublequote, escapechar, comment, encoding, encoding_errors, dialect, error_bad_lines, warn_bad_lines, on_bad_lines, delim_whitespace, low_memory, memory_map, float_precision, storage_options)\u001b[0m\n\u001b[0;32m    584\u001b[0m     \u001b[0mkwds\u001b[0m\u001b[1;33m.\u001b[0m\u001b[0mupdate\u001b[0m\u001b[1;33m(\u001b[0m\u001b[0mkwds_defaults\u001b[0m\u001b[1;33m)\u001b[0m\u001b[1;33m\u001b[0m\u001b[1;33m\u001b[0m\u001b[0m\n\u001b[0;32m    585\u001b[0m \u001b[1;33m\u001b[0m\u001b[0m\n\u001b[1;32m--> 586\u001b[1;33m     \u001b[1;32mreturn\u001b[0m \u001b[0m_read\u001b[0m\u001b[1;33m(\u001b[0m\u001b[0mfilepath_or_buffer\u001b[0m\u001b[1;33m,\u001b[0m \u001b[0mkwds\u001b[0m\u001b[1;33m)\u001b[0m\u001b[1;33m\u001b[0m\u001b[1;33m\u001b[0m\u001b[0m\n\u001b[0m\u001b[0;32m    587\u001b[0m \u001b[1;33m\u001b[0m\u001b[0m\n\u001b[0;32m    588\u001b[0m \u001b[1;33m\u001b[0m\u001b[0m\n",
      "\u001b[1;32m~\\anaconda3\\envs\\mlenv\\lib\\site-packages\\pandas\\io\\parsers\\readers.py\u001b[0m in \u001b[0;36m_read\u001b[1;34m(filepath_or_buffer, kwds)\u001b[0m\n\u001b[0;32m    480\u001b[0m \u001b[1;33m\u001b[0m\u001b[0m\n\u001b[0;32m    481\u001b[0m     \u001b[1;31m# Create the parser.\u001b[0m\u001b[1;33m\u001b[0m\u001b[1;33m\u001b[0m\u001b[1;33m\u001b[0m\u001b[0m\n\u001b[1;32m--> 482\u001b[1;33m     \u001b[0mparser\u001b[0m \u001b[1;33m=\u001b[0m \u001b[0mTextFileReader\u001b[0m\u001b[1;33m(\u001b[0m\u001b[0mfilepath_or_buffer\u001b[0m\u001b[1;33m,\u001b[0m \u001b[1;33m**\u001b[0m\u001b[0mkwds\u001b[0m\u001b[1;33m)\u001b[0m\u001b[1;33m\u001b[0m\u001b[1;33m\u001b[0m\u001b[0m\n\u001b[0m\u001b[0;32m    483\u001b[0m \u001b[1;33m\u001b[0m\u001b[0m\n\u001b[0;32m    484\u001b[0m     \u001b[1;32mif\u001b[0m \u001b[0mchunksize\u001b[0m \u001b[1;32mor\u001b[0m \u001b[0miterator\u001b[0m\u001b[1;33m:\u001b[0m\u001b[1;33m\u001b[0m\u001b[1;33m\u001b[0m\u001b[0m\n",
      "\u001b[1;32m~\\anaconda3\\envs\\mlenv\\lib\\site-packages\\pandas\\io\\parsers\\readers.py\u001b[0m in \u001b[0;36m__init__\u001b[1;34m(self, f, engine, **kwds)\u001b[0m\n\u001b[0;32m    809\u001b[0m             \u001b[0mself\u001b[0m\u001b[1;33m.\u001b[0m\u001b[0moptions\u001b[0m\u001b[1;33m[\u001b[0m\u001b[1;34m\"has_index_names\"\u001b[0m\u001b[1;33m]\u001b[0m \u001b[1;33m=\u001b[0m \u001b[0mkwds\u001b[0m\u001b[1;33m[\u001b[0m\u001b[1;34m\"has_index_names\"\u001b[0m\u001b[1;33m]\u001b[0m\u001b[1;33m\u001b[0m\u001b[1;33m\u001b[0m\u001b[0m\n\u001b[0;32m    810\u001b[0m \u001b[1;33m\u001b[0m\u001b[0m\n\u001b[1;32m--> 811\u001b[1;33m         \u001b[0mself\u001b[0m\u001b[1;33m.\u001b[0m\u001b[0m_engine\u001b[0m \u001b[1;33m=\u001b[0m \u001b[0mself\u001b[0m\u001b[1;33m.\u001b[0m\u001b[0m_make_engine\u001b[0m\u001b[1;33m(\u001b[0m\u001b[0mself\u001b[0m\u001b[1;33m.\u001b[0m\u001b[0mengine\u001b[0m\u001b[1;33m)\u001b[0m\u001b[1;33m\u001b[0m\u001b[1;33m\u001b[0m\u001b[0m\n\u001b[0m\u001b[0;32m    812\u001b[0m \u001b[1;33m\u001b[0m\u001b[0m\n\u001b[0;32m    813\u001b[0m     \u001b[1;32mdef\u001b[0m \u001b[0mclose\u001b[0m\u001b[1;33m(\u001b[0m\u001b[0mself\u001b[0m\u001b[1;33m)\u001b[0m\u001b[1;33m:\u001b[0m\u001b[1;33m\u001b[0m\u001b[1;33m\u001b[0m\u001b[0m\n",
      "\u001b[1;32m~\\anaconda3\\envs\\mlenv\\lib\\site-packages\\pandas\\io\\parsers\\readers.py\u001b[0m in \u001b[0;36m_make_engine\u001b[1;34m(self, engine)\u001b[0m\n\u001b[0;32m   1038\u001b[0m             )\n\u001b[0;32m   1039\u001b[0m         \u001b[1;31m# error: Too many arguments for \"ParserBase\"\u001b[0m\u001b[1;33m\u001b[0m\u001b[1;33m\u001b[0m\u001b[1;33m\u001b[0m\u001b[0m\n\u001b[1;32m-> 1040\u001b[1;33m         \u001b[1;32mreturn\u001b[0m \u001b[0mmapping\u001b[0m\u001b[1;33m[\u001b[0m\u001b[0mengine\u001b[0m\u001b[1;33m]\u001b[0m\u001b[1;33m(\u001b[0m\u001b[0mself\u001b[0m\u001b[1;33m.\u001b[0m\u001b[0mf\u001b[0m\u001b[1;33m,\u001b[0m \u001b[1;33m**\u001b[0m\u001b[0mself\u001b[0m\u001b[1;33m.\u001b[0m\u001b[0moptions\u001b[0m\u001b[1;33m)\u001b[0m  \u001b[1;31m# type: ignore[call-arg]\u001b[0m\u001b[1;33m\u001b[0m\u001b[1;33m\u001b[0m\u001b[0m\n\u001b[0m\u001b[0;32m   1041\u001b[0m \u001b[1;33m\u001b[0m\u001b[0m\n\u001b[0;32m   1042\u001b[0m     \u001b[1;32mdef\u001b[0m \u001b[0m_failover_to_python\u001b[0m\u001b[1;33m(\u001b[0m\u001b[0mself\u001b[0m\u001b[1;33m)\u001b[0m\u001b[1;33m:\u001b[0m\u001b[1;33m\u001b[0m\u001b[1;33m\u001b[0m\u001b[0m\n",
      "\u001b[1;32m~\\anaconda3\\envs\\mlenv\\lib\\site-packages\\pandas\\io\\parsers\\c_parser_wrapper.py\u001b[0m in \u001b[0;36m__init__\u001b[1;34m(self, src, **kwds)\u001b[0m\n\u001b[0;32m     49\u001b[0m \u001b[1;33m\u001b[0m\u001b[0m\n\u001b[0;32m     50\u001b[0m         \u001b[1;31m# open handles\u001b[0m\u001b[1;33m\u001b[0m\u001b[1;33m\u001b[0m\u001b[1;33m\u001b[0m\u001b[0m\n\u001b[1;32m---> 51\u001b[1;33m         \u001b[0mself\u001b[0m\u001b[1;33m.\u001b[0m\u001b[0m_open_handles\u001b[0m\u001b[1;33m(\u001b[0m\u001b[0msrc\u001b[0m\u001b[1;33m,\u001b[0m \u001b[0mkwds\u001b[0m\u001b[1;33m)\u001b[0m\u001b[1;33m\u001b[0m\u001b[1;33m\u001b[0m\u001b[0m\n\u001b[0m\u001b[0;32m     52\u001b[0m         \u001b[1;32massert\u001b[0m \u001b[0mself\u001b[0m\u001b[1;33m.\u001b[0m\u001b[0mhandles\u001b[0m \u001b[1;32mis\u001b[0m \u001b[1;32mnot\u001b[0m \u001b[1;32mNone\u001b[0m\u001b[1;33m\u001b[0m\u001b[1;33m\u001b[0m\u001b[0m\n\u001b[0;32m     53\u001b[0m \u001b[1;33m\u001b[0m\u001b[0m\n",
      "\u001b[1;32m~\\anaconda3\\envs\\mlenv\\lib\\site-packages\\pandas\\io\\parsers\\base_parser.py\u001b[0m in \u001b[0;36m_open_handles\u001b[1;34m(self, src, kwds)\u001b[0m\n\u001b[0;32m    227\u001b[0m             \u001b[0mmemory_map\u001b[0m\u001b[1;33m=\u001b[0m\u001b[0mkwds\u001b[0m\u001b[1;33m.\u001b[0m\u001b[0mget\u001b[0m\u001b[1;33m(\u001b[0m\u001b[1;34m\"memory_map\"\u001b[0m\u001b[1;33m,\u001b[0m \u001b[1;32mFalse\u001b[0m\u001b[1;33m)\u001b[0m\u001b[1;33m,\u001b[0m\u001b[1;33m\u001b[0m\u001b[1;33m\u001b[0m\u001b[0m\n\u001b[0;32m    228\u001b[0m             \u001b[0mstorage_options\u001b[0m\u001b[1;33m=\u001b[0m\u001b[0mkwds\u001b[0m\u001b[1;33m.\u001b[0m\u001b[0mget\u001b[0m\u001b[1;33m(\u001b[0m\u001b[1;34m\"storage_options\"\u001b[0m\u001b[1;33m,\u001b[0m \u001b[1;32mNone\u001b[0m\u001b[1;33m)\u001b[0m\u001b[1;33m,\u001b[0m\u001b[1;33m\u001b[0m\u001b[1;33m\u001b[0m\u001b[0m\n\u001b[1;32m--> 229\u001b[1;33m             \u001b[0merrors\u001b[0m\u001b[1;33m=\u001b[0m\u001b[0mkwds\u001b[0m\u001b[1;33m.\u001b[0m\u001b[0mget\u001b[0m\u001b[1;33m(\u001b[0m\u001b[1;34m\"encoding_errors\"\u001b[0m\u001b[1;33m,\u001b[0m \u001b[1;34m\"strict\"\u001b[0m\u001b[1;33m)\u001b[0m\u001b[1;33m,\u001b[0m\u001b[1;33m\u001b[0m\u001b[1;33m\u001b[0m\u001b[0m\n\u001b[0m\u001b[0;32m    230\u001b[0m         )\n\u001b[0;32m    231\u001b[0m \u001b[1;33m\u001b[0m\u001b[0m\n",
      "\u001b[1;32m~\\anaconda3\\envs\\mlenv\\lib\\site-packages\\pandas\\io\\common.py\u001b[0m in \u001b[0;36mget_handle\u001b[1;34m(path_or_buf, mode, encoding, compression, memory_map, is_text, errors, storage_options)\u001b[0m\n\u001b[0;32m    705\u001b[0m                 \u001b[0mencoding\u001b[0m\u001b[1;33m=\u001b[0m\u001b[0mioargs\u001b[0m\u001b[1;33m.\u001b[0m\u001b[0mencoding\u001b[0m\u001b[1;33m,\u001b[0m\u001b[1;33m\u001b[0m\u001b[1;33m\u001b[0m\u001b[0m\n\u001b[0;32m    706\u001b[0m                 \u001b[0merrors\u001b[0m\u001b[1;33m=\u001b[0m\u001b[0merrors\u001b[0m\u001b[1;33m,\u001b[0m\u001b[1;33m\u001b[0m\u001b[1;33m\u001b[0m\u001b[0m\n\u001b[1;32m--> 707\u001b[1;33m                 \u001b[0mnewline\u001b[0m\u001b[1;33m=\u001b[0m\u001b[1;34m\"\"\u001b[0m\u001b[1;33m,\u001b[0m\u001b[1;33m\u001b[0m\u001b[1;33m\u001b[0m\u001b[0m\n\u001b[0m\u001b[0;32m    708\u001b[0m             )\n\u001b[0;32m    709\u001b[0m         \u001b[1;32melse\u001b[0m\u001b[1;33m:\u001b[0m\u001b[1;33m\u001b[0m\u001b[1;33m\u001b[0m\u001b[0m\n",
      "\u001b[1;31mFileNotFoundError\u001b[0m: [Errno 2] No such file or directory: 'resources/train.csv'"
     ]
    }
   ],
   "source": [
    "# Loading the dataset\n",
    "crypto_df = pd.read_csv(\"resources/train.csv\")\n",
    "crypto_df.head(10)"
   ]
  },
  {
   "cell_type": "code",
   "execution_count": null,
   "id": "a3c6ab21",
   "metadata": {},
   "outputs": [],
   "source": [
    "asset_df = pd.read_csv('resources/asset_details.csv')\n",
    "asset_df.sort_values(by='Asset_ID',ascending=True)"
   ]
  },
  {
   "cell_type": "markdown",
   "id": "23377e64",
   "metadata": {},
   "source": [
    "## Cleaning the data"
   ]
  },
  {
   "cell_type": "code",
   "execution_count": null,
   "id": "e7cdbe6c",
   "metadata": {},
   "outputs": [],
   "source": [
    "# Check for missing data\n",
    "crypto_df.info(show_counts =True)"
   ]
  },
  {
   "cell_type": "code",
   "execution_count": null,
   "id": "8589040f",
   "metadata": {},
   "outputs": [],
   "source": [
    "# Check missing values in each column\n",
    "crypto_df.isnull().sum()"
   ]
  },
  {
   "cell_type": "code",
   "execution_count": null,
   "id": "ed51b578",
   "metadata": {},
   "outputs": [],
   "source": [
    "# Replace NaN values with zeros in Target column\n",
    "crypto_df[\"Target\"] = crypto_df[\"Target\"].fillna(0)\n",
    "crypto_df.head(10)"
   ]
  },
  {
   "cell_type": "code",
   "execution_count": null,
   "id": "d27f095e",
   "metadata": {},
   "outputs": [],
   "source": [
    "# Show all rows with NaN values in VWAP column\n",
    "crypto_df[crypto_df[\"VWAP\"].isnull()]"
   ]
  },
  {
   "cell_type": "code",
   "execution_count": null,
   "id": "cc637565",
   "metadata": {},
   "outputs": [],
   "source": [
    "# Fill time gaps with reindex() method\n",
    "BNB = crypto_df[crypto_df[\"Asset_ID\"]==0].set_index(\"timestamp\")\n",
    "BNB = BNB.reindex(range(BNB.index[0],BNB.index[-1]+60,60),method='pad')\n",
    "(BNB.index[1:]-BNB.index[:-1]).value_counts()"
   ]
  },
  {
   "cell_type": "code",
   "execution_count": null,
   "id": "4f0d22b2",
   "metadata": {},
   "outputs": [],
   "source": [
    "BTC = crypto_df[crypto_df[\"Asset_ID\"]==1].set_index(\"timestamp\")\n",
    "BTC = BTC.reindex(range(BTC.index[0],BTC.index[-1]+60,60),method='pad')\n",
    "(BTC.index[1:]-BTC.index[:-1]).value_counts()"
   ]
  },
  {
   "cell_type": "code",
   "execution_count": null,
   "id": "90ae13fa",
   "metadata": {},
   "outputs": [],
   "source": [
    "EOS = crypto_df[crypto_df[\"Asset_ID\"]==5].set_index(\"timestamp\")\n",
    "EOS = EOS.reindex(range(EOS.index[0],EOS.index[-1]+60,60),method='pad')\n",
    "(EOS.index[1:]-EOS.index[:-1]).value_counts()"
   ]
  },
  {
   "cell_type": "code",
   "execution_count": null,
   "id": "1cdfdee3",
   "metadata": {},
   "outputs": [],
   "source": [
    "ETH = crypto_df[crypto_df[\"Asset_ID\"]==6].set_index(\"timestamp\")\n",
    "ETH = ETH.reindex(range(ETH.index[0],ETH.index[-1]+60,60),method='pad')\n",
    "(ETH.index[1:]-ETH.index[:-1]).value_counts()"
   ]
  },
  {
   "cell_type": "code",
   "execution_count": null,
   "id": "b5a132a1",
   "metadata": {},
   "outputs": [],
   "source": [
    "LTC = crypto_df[crypto_df[\"Asset_ID\"]==9].set_index(\"timestamp\")\n",
    "LTC = LTC.reindex(range(LTC.index[0],LTC.index[-1]+60,60),method='pad')\n",
    "(LTC.index[1:]-LTC.index[:-1]).value_counts()"
   ]
  },
  {
   "cell_type": "code",
   "execution_count": null,
   "id": "50ce9f06",
   "metadata": {},
   "outputs": [],
   "source": [
    "XMR = crypto_df[crypto_df[\"Asset_ID\"]==11].set_index(\"timestamp\")\n",
    "XMR = XMR.reindex(range(XMR.index[0],XMR.index[-1]+60,60),method='pad')\n",
    "(XMR.index[1:]-XMR.index[:-1]).value_counts()"
   ]
  },
  {
   "cell_type": "code",
   "execution_count": null,
   "id": "79602ea5",
   "metadata": {},
   "outputs": [],
   "source": [
    "# Check if there still any missing data from chosen assets\n",
    "BNB.isnull().sum()"
   ]
  },
  {
   "cell_type": "code",
   "execution_count": null,
   "id": "2e79179d",
   "metadata": {},
   "outputs": [],
   "source": [
    "BTC.isnull().sum()"
   ]
  },
  {
   "cell_type": "code",
   "execution_count": null,
   "id": "39dece0d",
   "metadata": {},
   "outputs": [],
   "source": [
    "EOS.isnull().sum()"
   ]
  },
  {
   "cell_type": "code",
   "execution_count": null,
   "id": "033ce0bc",
   "metadata": {},
   "outputs": [],
   "source": [
    "ETH.isnull().sum()"
   ]
  },
  {
   "cell_type": "code",
   "execution_count": null,
   "id": "a184b97e",
   "metadata": {},
   "outputs": [],
   "source": [
    "LTC.isnull().sum()"
   ]
  },
  {
   "cell_type": "code",
   "execution_count": null,
   "id": "554cd9a3",
   "metadata": {},
   "outputs": [],
   "source": [
    "XMR.isnull().sum()"
   ]
  },
  {
   "cell_type": "code",
   "execution_count": null,
   "id": "b19627cf",
   "metadata": {},
   "outputs": [],
   "source": [
    "# Merge dataset for chosen assets\n",
    "frames = [BNB, BTC, EOS, ETH, LTC, XMR]\n",
    "crypto_con_df = pd.concat(frames)\n",
    "crypto_con_df.head(10)"
   ]
  },
  {
   "cell_type": "code",
   "execution_count": null,
   "id": "221384f7",
   "metadata": {},
   "outputs": [],
   "source": [
    "# Use timestamp to sort the values\n",
    "crypto_con_df = crypto_con_df.sort_index()\n",
    "crypto_con_df.head(10)"
   ]
  },
  {
   "cell_type": "code",
   "execution_count": null,
   "id": "547b6a6b",
   "metadata": {},
   "outputs": [],
   "source": [
    "crypto_con_df.index[7793280].astype('datetime64[s]')"
   ]
  },
  {
   "cell_type": "code",
   "execution_count": null,
   "id": "dab214b6",
   "metadata": {},
   "outputs": [],
   "source": [
    "crypto_con_df = crypto_con_df.iloc[7793280:]\n",
    "crypto_con_df.head(10)"
   ]
  },
  {
   "cell_type": "code",
   "execution_count": null,
   "id": "e9b13d9d",
   "metadata": {},
   "outputs": [],
   "source": [
    "print(datetime.utcfromtimestamp(1592697660))"
   ]
  },
  {
   "cell_type": "code",
   "execution_count": null,
   "id": "481f030e",
   "metadata": {},
   "outputs": [],
   "source": [
    "# Reset index\n",
    "crypto_con_df.reset_index(inplace=True)\n",
    "crypto_con_df.head(10)"
   ]
  },
  {
   "cell_type": "code",
   "execution_count": null,
   "id": "2b781d26",
   "metadata": {},
   "outputs": [],
   "source": [
    "# Convert the timestamp\n",
    "crypto_con_df['date'] = pd.to_datetime(crypto_con_df['timestamp'], unit='s')\n",
    "crypto_con_df.head(10)"
   ]
  },
  {
   "cell_type": "code",
   "execution_count": null,
   "id": "3bb10474",
   "metadata": {},
   "outputs": [],
   "source": [
    "# Check datatypes of new dataframe\n",
    "crypto_con_df.info(show_counts=True)"
   ]
  },
  {
   "cell_type": "code",
   "execution_count": null,
   "id": "9c93da8e",
   "metadata": {},
   "outputs": [],
   "source": [
    "# Merge dataframe with asset details dataframe\n",
    "crypto_details_df = crypto_con_df.merge(asset_df, how='left', on=\"Asset_ID\")\n",
    "crypto_details_df.head(10)"
   ]
  },
  {
   "cell_type": "code",
   "execution_count": null,
   "id": "181f5845",
   "metadata": {},
   "outputs": [],
   "source": [
    "# Reorder column\n",
    "crypto_details_df = crypto_details_df.reindex(columns=['timestamp','date','Asset_ID','Asset_Name','Weight','Count','Open','High','Low','Close','Volume','VWAP','Target'])\n",
    "crypto_details_df.head(10)"
   ]
  },
  {
   "cell_type": "code",
   "execution_count": null,
   "id": "68d1feb5",
   "metadata": {},
   "outputs": [],
   "source": [
    "# Export data into a CSV\n",
    "output_data_file = \"resources/crypto_details_close.csv\"\n",
    "crypto_details_df.to_csv(output_data_file, index=False)"
   ]
  },
  {
   "cell_type": "markdown",
   "id": "d0cf9d95",
   "metadata": {},
   "source": [
    "## Overview of the Data"
   ]
  },
  {
   "cell_type": "code",
   "execution_count": null,
   "id": "982af78f",
   "metadata": {},
   "outputs": [],
   "source": [
    "# Check the shape\n",
    "print(f'Shape of Dataframe {crypto_details_df.shape}')"
   ]
  },
  {
   "cell_type": "code",
   "execution_count": null,
   "id": "a699648e",
   "metadata": {},
   "outputs": [],
   "source": [
    "# visualize the close price of each cryptocurrencies\n",
    "plt.figure(figsize=(15,6))\n",
    "\n",
    "plt.plot(BNB['Close'], label='BNB', color=\"red\")\n",
    "plt.plot(BTC['Close'], label='BTC', color=\"blue\")\n",
    "plt.plot(EOS['Close'], label='EOS', color=\"green\")\n",
    "plt.plot(ETH['Close'], label='ETH', color=\"yellow\")\n",
    "plt.plot(LTC['Close'], label='LTC', color=\"black\")\n",
    "plt.plot(XMR['Close'], label='XMR', color=\"purple\")\n",
    "\n",
    "plt.legend()\n",
    "plt.xlabel('Time')\n",
    "plt.ylabel('Close Price')\n",
    "\n",
    "plt.tight_layout()\n",
    "plt.show()"
   ]
  },
  {
   "cell_type": "code",
   "execution_count": null,
   "id": "cf46e0a0",
   "metadata": {},
   "outputs": [],
   "source": [
    "# visualize the target of each cryptocurrencies\n",
    "plt.figure(figsize=(15,6))\n",
    "\n",
    "plt.plot(BNB['Target'], label='BNB', color=\"red\")\n",
    "plt.plot(BTC['Target'], label='BTC', color=\"blue\")\n",
    "plt.plot(EOS['Target'], label='EOS', color=\"green\")\n",
    "plt.plot(ETH['Target'], label='ETH', color=\"yellow\")\n",
    "plt.plot(LTC['Target'], label='LTC', color=\"black\")\n",
    "plt.plot(XMR['Target'], label='XMR', color=\"purple\")\n",
    "\n",
    "plt.legend()\n",
    "plt.xlabel('Time')\n",
    "plt.ylabel('Target - 15 minute residual return')\n",
    "\n",
    "plt.tight_layout()\n",
    "plt.show()"
   ]
  },
  {
   "cell_type": "code",
   "execution_count": null,
   "id": "8947b279",
   "metadata": {},
   "outputs": [],
   "source": [
    "# Candlestick chart\n",
    "import plotly.graph_objects as go\n",
    "BNB_mini = BNB.iloc[-200:] # Select recent data rows\n",
    "fig = go.Figure(data=[go.Candlestick(x=BNB_mini.index, open=BNB_mini['Open'], high=BNB_mini['High'], low=BNB_mini['Low'], close=BNB_mini['Close'])])\n",
    "fig.show()"
   ]
  },
  {
   "cell_type": "code",
   "execution_count": null,
   "id": "a3bfe760",
   "metadata": {},
   "outputs": [],
   "source": [
    "BTC_mini = BTC.iloc[-200:] # Select recent data rows\n",
    "fig = go.Figure(data=[go.Candlestick(x=BTC_mini.index, open=BTC_mini['Open'], high=BTC_mini['High'], low=BTC_mini['Low'], close=BTC_mini['Close'])])\n",
    "fig.show()"
   ]
  },
  {
   "cell_type": "code",
   "execution_count": null,
   "id": "a1f51fdc",
   "metadata": {},
   "outputs": [],
   "source": [
    "EOS_mini = EOS.iloc[-200:] # Select recent data rows\n",
    "fig = go.Figure(data=[go.Candlestick(x=EOS_mini.index, open=EOS_mini['Open'], high=EOS_mini['High'], low=EOS_mini['Low'], close=EOS_mini['Close'])])\n",
    "fig.show()"
   ]
  },
  {
   "cell_type": "code",
   "execution_count": null,
   "id": "7a2371a9",
   "metadata": {},
   "outputs": [],
   "source": [
    "ETH_mini = ETH.iloc[-200:] # Select recent data rows\n",
    "fig = go.Figure(data=[go.Candlestick(x=ETH_mini.index, open=ETH_mini['Open'], high=ETH_mini['High'], low=ETH_mini['Low'], close=ETH_mini['Close'])])\n",
    "fig.show()"
   ]
  },
  {
   "cell_type": "code",
   "execution_count": null,
   "id": "c609f62e",
   "metadata": {},
   "outputs": [],
   "source": [
    "LTC_mini = LTC.iloc[-200:] # Select recent data rows\n",
    "fig = go.Figure(data=[go.Candlestick(x=LTC_mini.index, open=LTC_mini['Open'], high=LTC_mini['High'], low=LTC_mini['Low'], close=LTC_mini['Close'])])\n",
    "fig.show()"
   ]
  },
  {
   "cell_type": "code",
   "execution_count": null,
   "id": "f8f50b30",
   "metadata": {},
   "outputs": [],
   "source": [
    "XMR_mini = XMR.iloc[-200:] # Select recent data rows\n",
    "fig = go.Figure(data=[go.Candlestick(x=XMR_mini.index, open=XMR_mini['Open'], high=XMR_mini['High'], low=XMR_mini['Low'], close=XMR_mini['Close'])])\n",
    "fig.show()"
   ]
  },
  {
   "cell_type": "markdown",
   "id": "43ec07a8",
   "metadata": {},
   "source": [
    "## Preprocessing the Data"
   ]
  },
  {
   "cell_type": "code",
   "execution_count": null,
   "id": "01c8d5a5",
   "metadata": {},
   "outputs": [],
   "source": [
    "# Split training and testing data for Binance Coin\n",
    "BNB_train = BNB[1298880:1824480]# Start from 2020-06-21 00:01:00 to 2021-06-21 00:00:00\n",
    "BNB_test = BNB[1824480:] # Start from 2021-06-21 00:01:00 to 2021-09-21 00:00:00\n",
    "X_BNB_train = BNB_train[[\"Volume\", \"VWAP\"]]\n",
    "X_BNB_test = BNB_test[[\"Volume\", \"VWAP\"]]\n",
    "y_BNB_train = BNB_train.Close\n",
    "y_BNB_test = BNB_test.Close"
   ]
  },
  {
   "cell_type": "code",
   "execution_count": null,
   "id": "3e60605a",
   "metadata": {},
   "outputs": [],
   "source": [
    "# Split training and testing data for Bitcoin\n",
    "BTC_train = BTC[1298880:1824480]# Start from 2020-06-21 00:01:00 to 2021-06-21 00:00:00\n",
    "BTC_test = BTC[1824480:] # Start from 2021-06-21 00:01:00 to 2021-09-21 00:00:00\n",
    "X_BTC_train = BTC_train[[\"Volume\", \"VWAP\"]]\n",
    "X_BTC_test = BTC_test[[\"Volume\", \"VWAP\"]]\n",
    "y_BTC_train = BTC_train.Close\n",
    "y_BTC_test = BTC_test.Close"
   ]
  },
  {
   "cell_type": "code",
   "execution_count": null,
   "id": "a59fe759",
   "metadata": {},
   "outputs": [],
   "source": [
    "# Split training and testing data for EOS.io\n",
    "EOS_train = EOS[1298880:1824480]# Start from 2020-06-21 00:01:00 to 2021-06-21 00:00:00\n",
    "EOS_test = EOS[1824480:] # Start from 2021-06-21 00:01:00 to 2021-09-21 00:00:00\n",
    "X_EOS_train = EOS_train[[\"Volume\", \"VWAP\"]]\n",
    "X_EOS_test = EOS_test[[\"Volume\", \"VWAP\"]]\n",
    "y_EOS_train = EOS_train.Close\n",
    "y_EOS_test = EOS_test.Close"
   ]
  },
  {
   "cell_type": "code",
   "execution_count": null,
   "id": "3fa36584",
   "metadata": {},
   "outputs": [],
   "source": [
    "# Split training and testing data for Ethereum\n",
    "ETH_train = ETH[1298880:1824480]# Start from 2020-06-21 00:01:00 to 2021-06-21 00:00:00\n",
    "ETH_test = ETH[1824480:] # Start from 2021-06-21 00:01:00 to 2021-09-21 00:00:00\n",
    "X_ETH_train = ETH_train[[\"Volume\", \"VWAP\"]]\n",
    "X_ETH_test = ETH_test[[\"Volume\", \"VWAP\"]]\n",
    "y_ETH_train = ETH_train.Close\n",
    "y_ETH_test = ETH_test.Close"
   ]
  },
  {
   "cell_type": "code",
   "execution_count": null,
   "id": "a5ee40c4",
   "metadata": {},
   "outputs": [],
   "source": [
    "# Split trainng and testing data for Litecoin\n",
    "LTC_train = LTC[1298880:1824480]# Start from 2020-06-21 00:01:00 to 2021-06-21 00:00:00\n",
    "LTC_test = LTC[1824480:] # Start from 2021-06-21 00:01:00 to 2021-09-21 00:00:00\n",
    "X_LTC_train = LTC_train[[\"Volume\", \"VWAP\"]]\n",
    "X_LTC_test = LTC_test[[\"Volume\", \"VWAP\"]]\n",
    "y_LTC_train = LTC_train.Close\n",
    "y_LTC_test = LTC_test.Close"
   ]
  },
  {
   "cell_type": "code",
   "execution_count": null,
   "id": "5c186531",
   "metadata": {},
   "outputs": [],
   "source": [
    "# Split training and testing data for Monero\n",
    "XMR_train = XMR[1298880:1824480]# Start from 2020-06-21 00:01:00 to 2021-06-21 00:00:00\n",
    "XMR_test = XMR[1824480:] # Start from 2021-06-21 00:01:00 to 2021-09-21 00:00:00\n",
    "X_XMR_train = XMR_train[[\"Volume\", \"VWAP\"]]\n",
    "X_XMR_test = XMR_test[[\"Volume\", \"VWAP\"]]\n",
    "y_XMR_train = XMR_train.Close\n",
    "y_XMR_test = XMR_test.Close"
   ]
  },
  {
   "cell_type": "markdown",
   "id": "131ca543",
   "metadata": {},
   "source": [
    "## Check shape of data"
   ]
  },
  {
   "cell_type": "code",
   "execution_count": null,
   "id": "0e560ea2",
   "metadata": {},
   "outputs": [],
   "source": [
    "print(f'shape of X_XMR_train : {X_XMR_train.shape}\\nshape of X_XMR_test : {X_XMR_test.shape}\\nshape of y_XMR_train : {y_XMR_train.shape}\\nshape of y_LTC_test : {y_XMR_test.shape}')"
   ]
  },
  {
   "cell_type": "code",
   "execution_count": null,
   "id": "be2a5c9c",
   "metadata": {},
   "outputs": [],
   "source": [
    "# Check timepoint\n",
    "print(datetime.utcfromtimestamp(XMR.index[1824480]))"
   ]
  },
  {
   "cell_type": "markdown",
   "id": "13f197b5",
   "metadata": {},
   "source": [
    "## Scale the training and testing data"
   ]
  },
  {
   "cell_type": "code",
   "execution_count": null,
   "id": "000be8fa",
   "metadata": {},
   "outputs": [],
   "source": [
    "# Create a StandardScaler instances\n",
    "scaler = StandardScaler()\n",
    "\n",
    "# Scale the data for those eight cryptocurrencies\n",
    "X_BNB_train_scaled = scaler.fit_transform(X_BNB_train)\n",
    "X_BNB_test_scaled = scaler.fit_transform(X_BNB_test)\n",
    "\n",
    "X_BTC_train_scaled = scaler.fit_transform(X_BTC_train)\n",
    "X_BTC_test_scaled = scaler.fit_transform(X_BTC_test)\n",
    "\n",
    "X_EOS_train_scaled = scaler.fit_transform(X_EOS_train)\n",
    "X_EOS_test_scaled = scaler.fit_transform(X_EOS_test)\n",
    "\n",
    "X_ETH_train_scaled = scaler.fit_transform(X_ETH_train)\n",
    "X_ETH_test_scaled = scaler.fit_transform(X_ETH_test)\n",
    "\n",
    "X_LTC_train_scaled = scaler.fit_transform(X_LTC_train)\n",
    "X_LTC_test_scaled = scaler.fit_transform(X_LTC_test)\n",
    "\n",
    "#X_XMR_train_scaled = scaler.fit_transform(X_XMR_train)\n",
    "#X_XMR_test_scaled = scaler.fit_transform(X_XMR_test)"
   ]
  },
  {
   "cell_type": "markdown",
   "id": "7539184f",
   "metadata": {},
   "source": [
    "## Random Forest Regression"
   ]
  },
  {
   "cell_type": "code",
   "execution_count": null,
   "id": "ae452482",
   "metadata": {},
   "outputs": [],
   "source": [
    "rf_model = RandomForestRegressor()\n",
    "\n",
    "rf_model.fit(X_BNB_train_scaled,y_BNB_train)\n",
    "y_pred_BNB = rf_model.predict(X_BNB_test_scaled)\n",
    "\n",
    "rf_model.fit(X_BTC_train_scaled,y_BTC_train)\n",
    "y_pred_BTC = rf_model.predict(X_BTC_test_scaled)\n",
    "\n",
    "rf_model.fit(X_EOS_train_scaled,y_EOS_train)\n",
    "y_pred_EOS = rf_model.predict(X_EOS_test_scaled)\n",
    "\n",
    "rf_model.fit(X_ETH_train_scaled,y_ETH_train)\n",
    "y_pred_ETH = rf_model.predict(X_ETH_test_scaled)\n",
    "\n",
    "rf_model.fit(X_LTC_train_scaled,y_LTC_train)\n",
    "y_pred_LTC = rf_model.predict(X_LTC_test_scaled)\n",
    "\n",
    "rf_model.fit(X_XMR_train_scaled,y_XMR_train)\n",
    "y_pred_XMR = rf_model.predict(X_XMR_test_scaled)"
   ]
  },
  {
   "cell_type": "code",
   "execution_count": null,
   "id": "99ae9016",
   "metadata": {},
   "outputs": [],
   "source": [
    "print(\"Binance Coin Prediction\")\n",
    "print(\"MSE : %.4f\",mean_absolute_error(y_BNB_test, y_pred_BNB))\n",
    "print(\"MAE : %.4f\",mean_squared_error(y_BNB_test,y_pred_BNB))\n",
    "print(\"Test Score: %.4f\",r2_score(y_BNB_test,y_pred_BNB))"
   ]
  },
  {
   "cell_type": "code",
   "execution_count": null,
   "id": "b793d673",
   "metadata": {},
   "outputs": [],
   "source": [
    "print(\"Bitcoin Prediction\")\n",
    "print(\"MSE : %.4f\",mean_absolute_error(y_BTC_test, y_pred_BTC))\n",
    "print(\"MAE : %.4f\",mean_squared_error(y_BTC_test,y_pred_BTC))\n",
    "print(\"Test Score: %.4f\",r2_score(y_BTC_test,y_pred_BTC))"
   ]
  },
  {
   "cell_type": "code",
   "execution_count": null,
   "id": "432b6808",
   "metadata": {},
   "outputs": [],
   "source": [
    "print(\"EOS.io Prediction\")\n",
    "print(\"MSE : %.4f\",mean_absolute_error(y_EOS_test, y_pred_EOS))\n",
    "print(\"MAE : %.4f\",mean_squared_error(y_EOS_test,y_pred_EOS))\n",
    "print(\"Test Score: %.4f\",r2_score(y_EOS_test,y_pred_EOS))"
   ]
  },
  {
   "cell_type": "code",
   "execution_count": null,
   "id": "adb86d14",
   "metadata": {},
   "outputs": [],
   "source": [
    "print(\"Ethereum Prediction\")\n",
    "print(\"MSE : %.4f\",mean_absolute_error(y_ETH_test, y_pred_ETH))\n",
    "print(\"MAE : %.4f\",mean_squared_error(y_ETH_test,y_pred_ETH))\n",
    "print(\"Test Score: %.4f\",r2_score(y_ETH_test,y_pred_ETH))"
   ]
  },
  {
   "cell_type": "code",
   "execution_count": null,
   "id": "51d660ab",
   "metadata": {},
   "outputs": [],
   "source": [
    "print(\"Litecoin Prediction\")\n",
    "print(\"MSE : %.4f\",mean_absolute_error(y_LTC_test, y_pred_LTC))\n",
    "print(\"MAE : %.4f\",mean_squared_error(y_LTC_test,y_pred_LTC))\n",
    "print(\"Test Score: %.4f\",r2_score(y_LTC_test,y_pred_LTC))"
   ]
  },
  {
   "cell_type": "code",
   "execution_count": null,
   "id": "6e8aa1eb",
   "metadata": {},
   "outputs": [],
   "source": [
    "print(\"Monero Prediction\")\n",
    "print(\"MSE : %.4f\",mean_absolute_error(y_XMR_test, y_pred_XMR))\n",
    "print(\"MAE : %.4f\",mean_squared_error(y_XMR_test,y_pred_XMR))\n",
    "print(\"Test Score: %.4f\",r2_score(y_XMR_test,y_pred_XMR))"
   ]
  },
  {
   "cell_type": "code",
   "execution_count": null,
   "id": "b9823efb",
   "metadata": {},
   "outputs": [],
   "source": [
    "pred_BNB = pd.DataFrame({\"Real (BNB) Prediction\":y_BNB_test,\"Model Prediction\":y_pred_BNB})\n",
    "pred_BNB.plot(grid=True, figsize=(12,8))"
   ]
  },
  {
   "cell_type": "code",
   "execution_count": null,
   "id": "70f2f18b",
   "metadata": {},
   "outputs": [],
   "source": [
    "pred_BTC = pd.DataFrame({\"Real (BTC) Prediction\":y_BTC_test,\"Model Prediction\":y_pred_BTC})\n",
    "pred_BTC.plot(grid=True, figsize=(12,8))"
   ]
  },
  {
   "cell_type": "code",
   "execution_count": null,
   "id": "8959e2a7",
   "metadata": {},
   "outputs": [],
   "source": [
    "pred_EOS = pd.DataFrame({\"Real (EOS) Prediction\":y_EOS_test,\"Model Prediction\":y_pred_EOS})\n",
    "pred_EOS.plot(grid=True, figsize=(12,8))"
   ]
  },
  {
   "cell_type": "code",
   "execution_count": null,
   "id": "84953136",
   "metadata": {},
   "outputs": [],
   "source": [
    "pred_ETH = pd.DataFrame({\"Real (ETH) Prediction\":y_ETH_test,\"Model Prediction\":y_pred_ETH})\n",
    "pred_ETH.plot(grid=True, figsize=(12,8))"
   ]
  },
  {
   "cell_type": "code",
   "execution_count": null,
   "id": "6f791a66",
   "metadata": {},
   "outputs": [],
   "source": [
    "pred_LTC = pd.DataFrame({\"Real (LTC) Prediction\":y_LTC_test,\"Model Prediction\":y_pred_LTC})\n",
    "pred_LTC.plot(grid=True, figsize=(12,8))"
   ]
  },
  {
   "cell_type": "code",
   "execution_count": null,
   "id": "512083fe",
   "metadata": {},
   "outputs": [],
   "source": [
    "#pred_XMR = pd.DataFrame({\"Real (XMR) Prediction\":y_XMR_test,\"Model Prediction\":y_pred_XMR})\n",
    "#pred_XMR.plot(grid=True, figsize=(12,8))"
   ]
  },
  {
   "cell_type": "code",
   "execution_count": null,
   "id": "289ae758",
   "metadata": {},
   "outputs": [],
   "source": []
  },
  {
   "cell_type": "markdown",
   "id": "a877ebc0",
   "metadata": {},
   "source": [
    "## Connect to SQL Database"
   ]
  },
  {
   "cell_type": "code",
   "execution_count": null,
   "id": "f9243fcb",
   "metadata": {},
   "outputs": [],
   "source": []
  },
  {
   "cell_type": "code",
   "execution_count": null,
   "id": "46504917",
   "metadata": {},
   "outputs": [],
   "source": []
  },
  {
   "cell_type": "code",
   "execution_count": null,
   "id": "bf99152a",
   "metadata": {},
   "outputs": [],
   "source": []
  },
  {
   "cell_type": "code",
   "execution_count": null,
   "id": "1b86433c",
   "metadata": {},
   "outputs": [],
   "source": []
  },
  {
   "cell_type": "code",
   "execution_count": null,
   "id": "7bf49711",
   "metadata": {},
   "outputs": [],
   "source": []
  },
  {
   "cell_type": "code",
   "execution_count": null,
   "id": "d3e3675b",
   "metadata": {},
   "outputs": [],
   "source": []
  },
  {
   "cell_type": "code",
   "execution_count": null,
   "id": "aa7e6777",
   "metadata": {},
   "outputs": [],
   "source": []
  },
  {
   "cell_type": "code",
   "execution_count": null,
   "id": "427aa592",
   "metadata": {},
   "outputs": [],
   "source": []
  },
  {
   "cell_type": "code",
   "execution_count": null,
   "id": "89409ce2",
   "metadata": {},
   "outputs": [],
   "source": []
  },
  {
   "cell_type": "code",
   "execution_count": null,
   "id": "e1ede6b1",
   "metadata": {},
   "outputs": [],
   "source": []
  },
  {
   "cell_type": "code",
   "execution_count": null,
   "id": "a088f55d",
   "metadata": {},
   "outputs": [],
   "source": []
  },
  {
   "cell_type": "code",
   "execution_count": null,
   "id": "1e5dbd3b",
   "metadata": {},
   "outputs": [],
   "source": []
  }
 ],
 "metadata": {
  "kernelspec": {
   "display_name": "mlenv",
   "language": "python",
   "name": "mlenv"
  },
  "language_info": {
   "codemirror_mode": {
    "name": "ipython",
    "version": 3
   },
   "file_extension": ".py",
   "mimetype": "text/x-python",
   "name": "python",
   "nbconvert_exporter": "python",
   "pygments_lexer": "ipython3",
   "version": "3.7.13"
  }
 },
 "nbformat": 4,
 "nbformat_minor": 5
}
