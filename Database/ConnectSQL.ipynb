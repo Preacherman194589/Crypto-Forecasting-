{
  "nbformat": 4,
  "nbformat_minor": 0,
  "metadata": {
    "colab": {
      "provenance": []
    },
    "kernelspec": {
      "name": "python3",
      "display_name": "Python 3"
    },
    "language_info": {
      "name": "python"
    }
  },
  "cells": [
    {
      "cell_type": "code",
      "execution_count": null,
      "metadata": {
        "colab": {
          "base_uri": "https://localhost:8080/"
        },
        "id": "BbUC2UQA2QcO",
        "outputId": "05c0fa07-349a-4d98-b026-df314264ba75"
      },
      "outputs": [
        {
          "output_type": "stream",
          "name": "stdout",
          "text": [
            "Get:1 https://cloud.r-project.org/bin/linux/ubuntu bionic-cran40/ InRelease [3,626 B]\n",
            "Ign:2 https://developer.download.nvidia.com/compute/machine-learning/repos/ubuntu1804/x86_64  InRelease\n",
            "Get:3 http://security.ubuntu.com/ubuntu bionic-security InRelease [88.7 kB]\n",
            "Hit:4 https://developer.download.nvidia.com/compute/cuda/repos/ubuntu1804/x86_64  InRelease\n",
            "Hit:5 https://developer.download.nvidia.com/compute/machine-learning/repos/ubuntu1804/x86_64  Release\n",
            "Get:6 http://ppa.launchpad.net/c2d4u.team/c2d4u4.0+/ubuntu bionic InRelease [15.9 kB]\n",
            "Hit:7 http://archive.ubuntu.com/ubuntu bionic InRelease\n",
            "Get:8 https://cloud.r-project.org/bin/linux/ubuntu bionic-cran40/ Packages [101 kB]\n",
            "Get:9 http://archive.ubuntu.com/ubuntu bionic-updates InRelease [88.7 kB]\n",
            "Hit:10 http://ppa.launchpad.net/cran/libgit2/ubuntu bionic InRelease\n",
            "Hit:11 http://ppa.launchpad.net/deadsnakes/ppa/ubuntu bionic InRelease\n",
            "Get:13 http://archive.ubuntu.com/ubuntu bionic-backports InRelease [83.3 kB]\n",
            "Hit:14 http://ppa.launchpad.net/graphics-drivers/ppa/ubuntu bionic InRelease\n",
            "Get:15 http://security.ubuntu.com/ubuntu bionic-security/universe amd64 Packages [1,554 kB]\n",
            "Get:16 http://security.ubuntu.com/ubuntu bionic-security/main amd64 Packages [3,040 kB]\n",
            "Get:17 http://ppa.launchpad.net/c2d4u.team/c2d4u4.0+/ubuntu bionic/main Sources [2,215 kB]\n",
            "Get:18 http://archive.ubuntu.com/ubuntu bionic-updates/main amd64 Packages [3,472 kB]\n",
            "Get:19 http://ppa.launchpad.net/c2d4u.team/c2d4u4.0+/ubuntu bionic/main amd64 Packages [1,133 kB]\n",
            "Get:20 http://archive.ubuntu.com/ubuntu bionic-updates/universe amd64 Packages [2,332 kB]\n",
            "Fetched 14.1 MB in 4s (3,274 kB/s)\n",
            "Reading package lists... Done\n"
          ]
        }
      ],
      "source": [
        "import os\n",
        "# Find the latest version of spark 3.0 from http://www.apache.org/dist/spark/ and enter as the spark version\n",
        "# For example:\n",
        "# spark_version = 'spark-3.0.3'\n",
        "spark_version = 'spark-3.3.1'\n",
        "os.environ['SPARK_VERSION']=spark_version\n",
        "\n",
        "# Install Spark and Java\n",
        "!apt-get update\n",
        "!apt-get install openjdk-11-jdk-headless -qq > /dev/null\n",
        "!wget -q http://www.apache.org/dist/spark/$SPARK_VERSION/$SPARK_VERSION-bin-hadoop3.tgz\n",
        "!tar xf $SPARK_VERSION-bin-hadoop3.tgz\n",
        "!pip install -q findspark\n",
        "\n",
        "# Set Environment Variables\n",
        "import os\n",
        "os.environ[\"JAVA_HOME\"] = \"/usr/lib/jvm/java-11-openjdk-amd64\"\n",
        "os.environ[\"SPARK_HOME\"] = f\"/content/{spark_version}-bin-hadoop3\"\n",
        "\n",
        "# Start a SparkSession\n",
        "import findspark\n",
        "findspark.init()"
      ]
    },
    {
      "cell_type": "code",
      "source": [
        "# Download the Postgres driver that will allow Spark to interact with Postgres.\n",
        "!wget https://jdbc.postgresql.org/download/postgresql-42.2.16.jar"
      ],
      "metadata": {
        "colab": {
          "base_uri": "https://localhost:8080/"
        },
        "id": "JeLWQBSM2SuO",
        "outputId": "cf4081cb-dc96-4491-a6a4-12b8ca7373e0"
      },
      "execution_count": null,
      "outputs": [
        {
          "output_type": "stream",
          "name": "stdout",
          "text": [
            "--2022-11-13 16:37:07--  https://jdbc.postgresql.org/download/postgresql-42.2.16.jar\n",
            "Resolving jdbc.postgresql.org (jdbc.postgresql.org)... 72.32.157.228, 2001:4800:3e1:1::228\n",
            "Connecting to jdbc.postgresql.org (jdbc.postgresql.org)|72.32.157.228|:443... connected.\n",
            "HTTP request sent, awaiting response... 200 OK\n",
            "Length: 1002883 (979K) [application/java-archive]\n",
            "Saving to: ‘postgresql-42.2.16.jar’\n",
            "\n",
            "\rpostgresql-42.2.16.   0%[                    ]       0  --.-KB/s               \rpostgresql-42.2.16. 100%[===================>] 979.38K  --.-KB/s    in 0.08s   \n",
            "\n",
            "2022-11-13 16:37:08 (11.5 MB/s) - ‘postgresql-42.2.16.jar’ saved [1002883/1002883]\n",
            "\n"
          ]
        }
      ]
    },
    {
      "cell_type": "code",
      "source": [
        "from pyspark.sql import SparkSession\n",
        "spark = SparkSession.builder.appName(\"M20-FinalProject\").config(\"spark.driver.extraClassPath\",\"/content/postgresql-42.2.16.jar\").getOrCreate()"
      ],
      "metadata": {
        "id": "7GPS8PHB2hBe"
      },
      "execution_count": null,
      "outputs": []
    },
    {
      "cell_type": "code",
      "source": [
        "from pyspark import SparkFiles\n",
        "url = \"https://cryptobucket606.s3.us-west-2.amazonaws.com/assetdetails.csv\"\n",
        "spark.sparkContext.addFile(url)\n",
        "asset_df = spark.read.option(\"encoding\", \"UTF-8\").csv(SparkFiles.get(\"\"), sep=\",\", header=True, inferSchema=True)\n",
        "asset_df.show()"
      ],
      "metadata": {
        "colab": {
          "base_uri": "https://localhost:8080/"
        },
        "id": "EX3avmw_2lg6",
        "outputId": "eec21ac6-175e-431c-e47f-417f2b1bee5d"
      },
      "execution_count": null,
      "outputs": [
        {
          "output_type": "stream",
          "name": "stdout",
          "text": [
            "+--------+------------------+----------------+\n",
            "|Asset_ID|            Weight|      Asset_Name|\n",
            "+--------+------------------+----------------+\n",
            "|       2|2.3978952727983707|    Bitcoin Cash|\n",
            "|       0|  4.30406509320417|    Binance Coin|\n",
            "|       1| 6.779921907472252|         Bitcoin|\n",
            "|       5|1.3862943611198906|          EOS.IO|\n",
            "|       7|2.0794415416798357|Ethereum Classic|\n",
            "|       6|5.8944028342648505|        Ethereum|\n",
            "|       9|2.3978952727983707|        Litecoin|\n",
            "|      11|1.6094379124341003|          Monero|\n",
            "|      13| 1.791759469228055|            TRON|\n",
            "|      12|2.0794415416798357|         Stellar|\n",
            "|       3| 4.406719247264253|         Cardano|\n",
            "|       8|1.0986122886681098|            IOTA|\n",
            "|      10|1.0986122886681098|           Maker|\n",
            "|       4|3.5553480614894135|        Dogecoin|\n",
            "+--------+------------------+----------------+\n",
            "\n"
          ]
        }
      ]
    },
    {
      "cell_type": "code",
      "source": [
        "# Read in the Review dataset as a DataFrame\n",
        "asset_df.printSchema()"
      ],
      "metadata": {
        "colab": {
          "base_uri": "https://localhost:8080/"
        },
        "id": "OpUEJM3w22eB",
        "outputId": "0a0eb9c2-13c3-4b15-addd-0299a0a7099d"
      },
      "execution_count": null,
      "outputs": [
        {
          "output_type": "stream",
          "name": "stdout",
          "text": [
            "root\n",
            " |-- Asset_ID: integer (nullable = true)\n",
            " |-- Weight: double (nullable = true)\n",
            " |-- Asset_Name: string (nullable = true)\n",
            "\n"
          ]
        }
      ]
    },
    {
      "cell_type": "code",
      "source": [
        "url = \"https://cryptobucket606.s3.us-west-2.amazonaws.com/train.csv\"\n",
        "spark.sparkContext.addFile(url)\n",
        "train_df = spark.read.option(\"encoding\", \"UTF-8\").csv(SparkFiles.get(\"\"), sep=\",\", header=True, inferSchema=True)\n",
        "train_df.show()"
      ],
      "metadata": {
        "colab": {
          "base_uri": "https://localhost:8080/"
        },
        "id": "zO13j2Yg4R_l",
        "outputId": "4f5d467a-2acb-4a0d-c8fd-929fbdb2faf7"
      },
      "execution_count": null,
      "outputs": [
        {
          "output_type": "stream",
          "name": "stdout",
          "text": [
            "+----------+--------+-----+------------------+-------+------------------+------------------+------------------+------------------+--------------------+\n",
            "| timestamp|Asset_ID|Count|              Open|   High|               Low|             Close|            Volume|              VWAP|              Target|\n",
            "+----------+--------+-----+------------------+-------+------------------+------------------+------------------+------------------+--------------------+\n",
            "|1514764860|       2| 40.0|           2376.58| 2399.5|           2357.14|           2374.59|       19.23300519|2373.1163915061647|-0.00421815238742...|\n",
            "|1514764860|       0|  5.0|              8.53|   8.53|              8.53|              8.53|             78.38|              8.53|-0.01439896646896...|\n",
            "|1514764860|       1|229.0|         13835.194|14013.8|          13666.11|         13850.176|       31.55006152|13827.062092689883|-0.01464322435573...|\n",
            "|1514764860|       5| 32.0|            7.6596| 7.6596|            7.6567|            7.6576| 6626.713369870001|7.6577128940558925|-0.01392244700719...|\n",
            "|1514764860|       7|  5.0|             25.92|  25.92|25.874000000000002|            25.877|         121.08731| 25.89136300520674|-0.00826350542533...|\n",
            "|1514764860|       6|173.0|          738.3025|  746.0|            732.51|          738.5075|      335.98785619|  738.839291493523|-0.00480860401484...|\n",
            "|1514764860|       9|167.0|            225.33| 227.78|            222.98|225.20666666666668|      411.89664234| 225.1979435524601|-0.00979142268408...|\n",
            "|1514764860|      11|  7.0|            329.09| 329.88|            329.09|            329.46|        6.63571014| 329.4541176122712|                null|\n",
            "|1514764920|       2| 53.0|2374.5533333333333| 2400.9|            2354.2| 2372.286666666667|24.050259460000003|2371.4344976118327|-0.00407943014450...|\n",
            "|1514764920|       0|  7.0|              8.53|   8.53|            8.5145|            8.5145|             71.39| 8.520214651912031|-0.01587544785970...|\n",
            "|1514764920|       1|235.0|13835.035999999998|14052.3|           13680.0|13828.102000000004|31.046432110000005|13840.362591478492|-0.01503653927444...|\n",
            "|1514764920|       5| 10.0|            7.6568| 7.6569|            7.6567|            7.6567|     3277.47549373|7.6567488059528515|-0.01453366792137...|\n",
            "|1514764920|       7|  1.0|            25.897| 25.897|            25.897|            25.897|          1.468019|25.896999999999995|-0.02990234042955...|\n",
            "|1514764920|       6|192.0|          738.5075| 745.14|            732.49|            738.26|      232.79314112| 738.2689673568518|-0.00444066291300...|\n",
            "|1514764920|       9|212.0|225.13333333333333| 227.38|            222.45|224.85666666666668|3640.5027059000017| 224.4466252583579|-0.01299115044247...|\n",
            "|1514764920|      11|  1.0|            329.45| 329.45|            329.45|            329.45|        0.34941958|            329.45|-0.00969045232236...|\n",
            "|1514764980|       2| 61.0| 2371.633333333333| 2401.9|            2353.7| 2372.063333333333|       42.67643847| 2375.442754550132|-0.00289241672174...|\n",
            "|1514764980|       0| 45.0|            8.5065| 8.5299|            8.4848|            8.4848|1546.8200000000006| 8.501393628217889|-0.01541013304473...|\n",
            "|1514764980|       1|528.0|           13823.9|14000.4|           13601.0|13801.314000000002|55.061820140000066|13806.068013568094|-0.01030865686038...|\n",
            "|1514764980|       5| 22.0|            7.6569| 7.6569|              7.65|            7.6512| 5623.557584689999|  7.65426697606593|-0.01254616412163756|\n",
            "+----------+--------+-----+------------------+-------+------------------+------------------+------------------+------------------+--------------------+\n",
            "only showing top 20 rows\n",
            "\n"
          ]
        }
      ]
    },
    {
      "cell_type": "code",
      "source": [
        "train_df.printSchema()"
      ],
      "metadata": {
        "colab": {
          "base_uri": "https://localhost:8080/"
        },
        "id": "3k5DAZQa4wFK",
        "outputId": "c93fac30-1956-42c2-ce09-8307a5e38cd5"
      },
      "execution_count": null,
      "outputs": [
        {
          "output_type": "stream",
          "name": "stdout",
          "text": [
            "root\n",
            " |-- timestamp: string (nullable = true)\n",
            " |-- Asset_ID: string (nullable = true)\n",
            " |-- Count: string (nullable = true)\n",
            " |-- Open: double (nullable = true)\n",
            " |-- High: double (nullable = true)\n",
            " |-- Low: double (nullable = true)\n",
            " |-- Close: double (nullable = true)\n",
            " |-- Volume: double (nullable = true)\n",
            " |-- VWAP: string (nullable = true)\n",
            " |-- Target: double (nullable = true)\n",
            "\n"
          ]
        }
      ]
    },
    {
      "cell_type": "code",
      "source": [
        "train_df.show()"
      ],
      "metadata": {
        "colab": {
          "base_uri": "https://localhost:8080/"
        },
        "id": "-W3T0jNzA0cu",
        "outputId": "304eab05-8ed6-41c3-ae5c-bcf1de522cf1"
      },
      "execution_count": null,
      "outputs": [
        {
          "output_type": "stream",
          "name": "stdout",
          "text": [
            "+----------+--------+-----+------------------+-------+------------------+------------------+------------------+------------------+--------------------+\n",
            "| timestamp|Asset_ID|Count|              Open|   High|               Low|             Close|            Volume|              VWAP|              Target|\n",
            "+----------+--------+-----+------------------+-------+------------------+------------------+------------------+------------------+--------------------+\n",
            "|1514764860|       2| 40.0|           2376.58| 2399.5|           2357.14|           2374.59|       19.23300519|2373.1163915061647|-0.00421815238742...|\n",
            "|1514764860|       0|  5.0|              8.53|   8.53|              8.53|              8.53|             78.38|              8.53|-0.01439896646896...|\n",
            "|1514764860|       1|229.0|         13835.194|14013.8|          13666.11|         13850.176|       31.55006152|13827.062092689883|-0.01464322435573...|\n",
            "|1514764860|       5| 32.0|            7.6596| 7.6596|            7.6567|            7.6576| 6626.713369870001|7.6577128940558925|-0.01392244700719...|\n",
            "|1514764860|       7|  5.0|             25.92|  25.92|25.874000000000002|            25.877|         121.08731| 25.89136300520674|-0.00826350542533...|\n",
            "|1514764860|       6|173.0|          738.3025|  746.0|            732.51|          738.5075|      335.98785619|  738.839291493523|-0.00480860401484...|\n",
            "|1514764860|       9|167.0|            225.33| 227.78|            222.98|225.20666666666668|      411.89664234| 225.1979435524601|-0.00979142268408...|\n",
            "|1514764860|      11|  7.0|            329.09| 329.88|            329.09|            329.46|        6.63571014| 329.4541176122712|                null|\n",
            "|1514764920|       2| 53.0|2374.5533333333333| 2400.9|            2354.2| 2372.286666666667|24.050259460000003|2371.4344976118327|-0.00407943014450...|\n",
            "|1514764920|       0|  7.0|              8.53|   8.53|            8.5145|            8.5145|             71.39| 8.520214651912031|-0.01587544785970...|\n",
            "|1514764920|       1|235.0|13835.035999999998|14052.3|           13680.0|13828.102000000004|31.046432110000005|13840.362591478492|-0.01503653927444...|\n",
            "|1514764920|       5| 10.0|            7.6568| 7.6569|            7.6567|            7.6567|     3277.47549373|7.6567488059528515|-0.01453366792137...|\n",
            "|1514764920|       7|  1.0|            25.897| 25.897|            25.897|            25.897|          1.468019|25.896999999999995|-0.02990234042955...|\n",
            "|1514764920|       6|192.0|          738.5075| 745.14|            732.49|            738.26|      232.79314112| 738.2689673568518|-0.00444066291300...|\n",
            "|1514764920|       9|212.0|225.13333333333333| 227.38|            222.45|224.85666666666668|3640.5027059000017| 224.4466252583579|-0.01299115044247...|\n",
            "|1514764920|      11|  1.0|            329.45| 329.45|            329.45|            329.45|        0.34941958|            329.45|-0.00969045232236...|\n",
            "|1514764980|       2| 61.0| 2371.633333333333| 2401.9|            2353.7| 2372.063333333333|       42.67643847| 2375.442754550132|-0.00289241672174...|\n",
            "|1514764980|       0| 45.0|            8.5065| 8.5299|            8.4848|            8.4848|1546.8200000000006| 8.501393628217889|-0.01541013304473...|\n",
            "|1514764980|       1|528.0|           13823.9|14000.4|           13601.0|13801.314000000002|55.061820140000066|13806.068013568094|-0.01030865686038...|\n",
            "|1514764980|       5| 22.0|            7.6569| 7.6569|              7.65|            7.6512| 5623.557584689999|  7.65426697606593|-0.01254616412163756|\n",
            "+----------+--------+-----+------------------+-------+------------------+------------------+------------------+------------------+--------------------+\n",
            "only showing top 20 rows\n",
            "\n"
          ]
        }
      ]
    },
    {
      "cell_type": "code",
      "source": [
        "# Configure settings for RDS\n",
        "mode = \"append\"\n",
        "jdbc_url=\"jdbc:postgresql://cryptodata.cvzpfgwkwqa1.us-west-2.rds.amazonaws.com:5432/CryptoData\"\n",
        "config = {\"user\":\"postgres\", \n",
        "          \"password\": \"password\", \n",
        "          \"driver\":\"org.postgresql.Driver\"}"
      ],
      "metadata": {
        "id": "Rpg6HbNX43vE"
      },
      "execution_count": null,
      "outputs": []
    },
    {
      "cell_type": "code",
      "source": [
        "# Write asset_df to table in RDS\n",
        "asset_df.write.jdbc(url=jdbc_url, table='asset_details', mode=mode, properties=config)"
      ],
      "metadata": {
        "id": "Xq_IQkye49a6"
      },
      "execution_count": null,
      "outputs": []
    },
    {
      "cell_type": "code",
      "source": [
        "# Write asset_df to table in RDS\n",
        "asset_df.write.jdbc(url=jdbc_url, table='train', mode=mode, properties=config)"
      ],
      "metadata": {
        "colab": {
          "base_uri": "https://localhost:8080/"
        },
        "id": "LJD2yt0D6hbQ",
        "outputId": "14964fdd-c1df-4f5e-b213-f3e663964ed1"
      },
      "execution_count": null,
      "outputs": [
        {
          "output_type": "execute_result",
          "data": {
            "text/plain": [
              "Column<'CAST(from_unixtime((timestamp / 1000), yyyy-MM-dd HH:mm:ss) AS DATE)'>"
            ]
          },
          "metadata": {},
          "execution_count": 25
        }
      ]
    }
  ]
}